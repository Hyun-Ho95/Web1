{
  "nbformat": 4,
  "nbformat_minor": 0,
  "metadata": {
    "colab": {
      "provenance": [],
      "collapsed_sections": [
        "y_Dx2r9-CncV"
      ],
      "include_colab_link": true
    },
    "kernelspec": {
      "name": "python3",
      "display_name": "Python 3"
    },
    "language_info": {
      "name": "python"
    }
  },
  "cells": [
    {
      "cell_type": "markdown",
      "metadata": {
        "id": "view-in-github",
        "colab_type": "text"
      },
      "source": [
        "<a href=\"https://colab.research.google.com/github/Hyun-Ho95/Web1/blob/master/Mini_project__%EA%B5%AD%EB%AF%BC%EB%8F%99%EC%9D%98%EC%B2%AD%EC%9B%90_%EC%8A%A4%ED%81%AC%EB%9E%98%ED%95%91_%EB%B0%95%ED%98%84%ED%98%B8_ipynb.ipynb\" target=\"_parent\"><img src=\"https://colab.research.google.com/assets/colab-badge.svg\" alt=\"Open In Colab\"/></a>"
      ]
    },
    {
      "cell_type": "markdown",
      "source": [
        "# 1. 웹 데이터 스크래핑"
      ],
      "metadata": {
        "id": "y_Dx2r9-CncV"
      }
    },
    {
      "cell_type": "markdown",
      "source": [
        "## 라이브러리 불러오기"
      ],
      "metadata": {
        "id": "rW-TnN8Ae3LC"
      }
    },
    {
      "cell_type": "code",
      "execution_count": 58,
      "metadata": {
        "id": "VXOs3Z26F0P3"
      },
      "outputs": [],
      "source": [
        "import time\n",
        "import pandas as pd\n",
        "import requests\n",
        "from bs4 import BeautifulSoup as bs"
      ]
    },
    {
      "cell_type": "markdown",
      "source": [
        "## url 수집 및 데이터 불러오기\n",
        "1) requests로 불러오기"
      ],
      "metadata": {
        "id": "tUuF039ke0aT"
      }
    },
    {
      "cell_type": "code",
      "source": [
        "#국민동의청원 홈은 requests.get으로 가능한데 동의종료 청원은 requests.get으로 불가능\n",
        "url = 'https://petitions.assembly.go.kr/closed/agreeEnded'\n",
        "response = requests.get(url)\n",
        "response.status_code\n",
        "#requests.get으로는 안됨"
      ],
      "metadata": {
        "colab": {
          "base_uri": "https://localhost:8080/"
        },
        "id": "ByveT9dXocW5",
        "outputId": "340840db-f6c1-4b2b-9d8a-860a5af5a767"
      },
      "execution_count": 2,
      "outputs": [
        {
          "output_type": "execute_result",
          "data": {
            "text/plain": [
              "404"
            ]
          },
          "metadata": {},
          "execution_count": 2
        }
      ]
    },
    {
      "cell_type": "markdown",
      "source": [
        "2) requests로 불러오기 + header 사용"
      ],
      "metadata": {
        "id": "ZeKjLLOurVhT"
      }
    },
    {
      "cell_type": "code",
      "source": [
        "#header 사용해도 불가능\n",
        "headers = {\"user-agent\": \"Mozilla/5.0\"}\n",
        "response = requests.get(url)\n",
        "response.status_code"
      ],
      "metadata": {
        "colab": {
          "base_uri": "https://localhost:8080/"
        },
        "id": "mAuUa4iarRZ4",
        "outputId": "9b9d7be3-f8dc-4718-8e87-97276fc9dd5f"
      },
      "execution_count": 3,
      "outputs": [
        {
          "output_type": "execute_result",
          "data": {
            "text/plain": [
              "404"
            ]
          },
          "metadata": {},
          "execution_count": 3
        }
      ]
    },
    {
      "cell_type": "markdown",
      "source": [
        "3-1) '네트워크 -> 검사' 파일저장방식 및 위치 찾기(1가지 청원에 관한 내용)"
      ],
      "metadata": {
        "id": "jkgzDWFrr8Pl"
      }
    },
    {
      "cell_type": "code",
      "source": [
        "#청원링크 타고 들어갔을 때 '네트워크'->'Fetch/XHR' 항목에 생기는 주소 값\n",
        "#키값으로 이루어져 있는 json 형식\n",
        "#응답헤더 또한 json\n",
        "#json 형식으로 데이터 받기\n",
        "url_link = 'https://petitions.assembly.go.kr/api/petits/E28F70BC6E0550F1E054B49691C1987F?petitId=E28F70BC6E0550F1E054B49691C1987F&sttusCode='"
      ],
      "metadata": {
        "id": "-uL9iHDMsE5E"
      },
      "execution_count": 4,
      "outputs": []
    },
    {
      "cell_type": "markdown",
      "source": [
        "![image.png](data:image/png;base64,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)\n",
        "\n",
        "![image.png](data:image/png;base64,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)"
      ],
      "metadata": {
        "id": "gWHpNidluESu"
      }
    },
    {
      "cell_type": "markdown",
      "source": [
        "3-2) '네트워크 -> 검사' 파일저장방식 및 위치 찾기 (여러가지 청원에 관한 내용)"
      ],
      "metadata": {
        "id": "rNF1xmmlvZJp"
      }
    },
    {
      "cell_type": "code",
      "source": [
        "# 청원 페이지 변경 시 생기는 '네트워크'->'Fetch/XHR' 항목에 생기는 주소 값\n",
        "# 마찬가지로 키값으로 이루어져 있는 json 형식\n",
        "# 응답헤더 또한 json\n",
        "url_link_list = 'https://petitions.assembly.go.kr/api/petits?pageIndex=2&recordCountPerPage=8&sort=AGRE_END_DE-&searchCondition=sj&searchKeyword=&petitRealmCode=&sttusCode=PETIT_FORMATN,CMIT_FRWRD,PETIT_END&resultCode=BFE_OTHBC_WTHDRAW,PROGRS_WTHDRAW,PETIT_UNACPT,APPRVL_END_DSUSE,ETC_TRNSF&notInColumn=RESULT_CODE&beginDate=20210124&endDate=20230124&ageCd='"
      ],
      "metadata": {
        "id": "TYQiNtbZu-Op"
      },
      "execution_count": 6,
      "outputs": []
    },
    {
      "cell_type": "markdown",
      "source": [
        "![image.png](data:image/png;base64,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)\n",
        "\n",
        "![image.png](data:image/png;base64,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)"
      ],
      "metadata": {
        "id": "R7NjPryzvgJe"
      }
    },
    {
      "cell_type": "markdown",
      "source": [
        "4) 여러가지 청원에 관한 내용 보기위한 url 수집(json) 및 f-string 설정"
      ],
      "metadata": {
        "id": "vYK_ZKUBxTMw"
      }
    },
    {
      "cell_type": "code",
      "source": [
        "page_index = 1\n",
        "\n",
        "# 페이지 번호와 동의시작 날짜 및 동의종료 날짜는 f-string으로 변경 가능하도록 설정\n",
        "\n",
        "url = f'https://petitions.assembly.go.kr/api/petits?pageIndex={page_index}&recordCountPerPage=8&nt_per_pagesort=AGRE_END_DE-&searchCondition=sj&searchKeyword=&petitRealmCode=&sttusCode='\n",
        "url = f'{url}PETIT_FORMATN,CMIT_FRWRD,PETIT_END&resultCode=BFE_OTHBC_WTHDRAW,PROGRS_WTHDRAW,PETIT_UNACPT,APPRVL_END_DSUSE,ETC_TRNSF&notInColumn='\n",
        "url = f'{url}RESULT_CODE&beginDate=20210124&endDate=20230124&ageCd='\n",
        "\n",
        "\n",
        "response = requests.get(url)\n",
        "response.status_code\n",
        "# 네트워크 -> 검사 -> Fetch/XHR -> 값복사한 url 사용 후 requests 하니까 성공!\n",
        "\n",
        "json_list = response.json()\n",
        "json_list\n",
        "# .json()은 requests 모듈에 포함된 메서드\n",
        "# response.text 나 bs(response.text)하는 것보다 훨씬 깔끔하고 보기좋다.\n",
        "# json 형식의 데이터는 .json()으로 읽자"
      ],
      "metadata": {
        "id": "zXlEFOBDGGEh"
      },
      "execution_count": null,
      "outputs": []
    },
    {
      "cell_type": "markdown",
      "source": [
        "## 해당 청원의 petitId 가져오기"
      ],
      "metadata": {
        "id": "4vD3_XDQsFlz"
      }
    },
    {
      "cell_type": "code",
      "source": [
        "# 위에서 읽은 json 데이터 \n",
        "df = pd.DataFrame(json_list)\n",
        "# df 형식으로 바꿔주었는데 빈 프레임\n",
        "# 모든 json 데이터를 한 리스트에 넣고 한 번에 데이터프레임으로 바꿔주어야 한다고 한다"
      ],
      "metadata": {
        "id": "Mg-KeodisVUf"
      },
      "execution_count": 50,
      "outputs": []
    },
    {
      "cell_type": "code",
      "source": [
        "# 청원내용 상세 페이지 주소\n",
        "df['petitId'][0] # = 'B5F25B725BF96A41E054A0369F40E84E'\n",
        "petitId = 'B5F25B725BF96A41E054A0369F40E84E'\n",
        "inside_url = f'https://petitions.assembly.go.kr/api/petits/{petitId}?petitId={petitId}&sttusCode='\n",
        "# 청원의 취지는 목록 페이지 url엔 없고 inside_url에 들어가야 'petitObj'로 존재\n",
        "# 청원목록 페이지 url 뒤에 petit id 들어감\n",
        "\n",
        "response_inside = requests.get(inside_url)\n",
        "response_inside.json()\n",
        "# petitObjet : 청원취지 값있는 것 확인"
      ],
      "metadata": {
        "id": "9aS29syitKa3",
        "colab": {
          "base_uri": "https://localhost:8080/"
        },
        "outputId": "97428b94-8fbd-4613-dae3-bd39dec582d3"
      },
      "execution_count": 51,
      "outputs": [
        {
          "output_type": "execute_result",
          "data": {
            "text/plain": [
              "{'rowNum': 0,\n",
              " 'searchCondition': '',\n",
              " 'searchKeyword': '',\n",
              " 'pageIndex': 1,\n",
              " 'pageUnit': 10,\n",
              " 'firstIndex': 1,\n",
              " 'lastIndex': 1,\n",
              " 'recordCountPerPage': 10,\n",
              " 'tableName': '',\n",
              " 'prefix': '',\n",
              " 'sort': '',\n",
              " 'creatIp': None,\n",
              " 'creatId': None,\n",
              " 'creatDt': '2020-12-08 19:25:09',\n",
              " 'updtIp': None,\n",
              " 'updtId': None,\n",
              " 'updtDt': '2021-01-28 00:01:00',\n",
              " 'petitTmprSn': None,\n",
              " 'hashtagCn': '',\n",
              " 'referUrlCn': '',\n",
              " 'beginDate': '',\n",
              " 'endDate': '',\n",
              " 'ageCd': None,\n",
              " 'petitId': 'B5F25B725BF96A41E054A0369F40E84E',\n",
              " 'mberId': 'yps001',\n",
              " 'mberIdList': None,\n",
              " 'memberId': None,\n",
              " 'petrNm': '윤**',\n",
              " 'petitSj': '여성가족부 폐지 등에 관한 청원',\n",
              " 'petitObjet': '과도한 예산에 비해 그 자격에 맞는 국정업무를 수행하지 못하고 있는 여성가족부의 폐지 또는 부처자격 격하를 위함임.',\n",
              " 'petitReason': None,\n",
              " 'petitCn': '여성가족부는,\\n보편적 가족서비스의 확대와 여성 청소년 안전강화에 중점을 둔 정책추진을 근거로  2020년 예산 1조 1,264억원(19년 대비 4.3%증가), 2021년 1조 2,325억으로 큰 수준의 예산을 차지하고 있습니다.\\n\\n여성가족부는,\\n여성폭력방지 추진, 한부모,다문화 가정 아이돌봄서비스, 사회 성평등 문화 확산 및 여성 경제활동 촉진, 청소년 주도적 참여활동 및 사회안전망 강화를 표방하고 있으나 실상 수행하는 업무와 성과는 예산의 크기에 미치지 못한다는 지적을 받고 있으며, 그나마 있는 업무 자체도 다른 부처와 많이 중첩됩니다.\\n(성범죄자 알림e(경찰청), 아이돌봄 서비스 (보건복지부))\\n\\n\\n업무실적 또한 다른 부처에 비해 상당히 부족하며,\\n하나의 성에 편중된 업무처리로 인해 그 설립과 취지와는 반대되는 행보를 걷고 있는 것이 현실이며,\\n실상 여성지지율의 기반을 위한 포퓰리즘 정책의 원천으로의 기능만을 수행하고 있다는 평가를 받고 있습니다.\\n\\n\\n현 정부만 들어서도\\n\\n현대자동차 하청업체 성희롱사건,\\n성평등 방송 프로그램 제작 안내서 논란, \\n초중고 성평등 교수학습 지도안 사례집 논란, \\n반페미니즘 인터넷 개인방송 규제, \\n윤지오 숙박비 지원과 거짓 해명, \\n정의연 회계부정 논란에서의 자료공개 거부,  \\n여성가족부 유튜브 채널의 남성혐오표현 좋아요 논란,\\n한국양성평등교육진흥원의 대구 지하철 참사 관련 논란,\\n이정옥 장관의 보궐선거 지출 성인지감수성 학습기회 발언 논란, \\n등\\n\\n실제 여성가족부는 업무와 실적에 대한 홍보와 성과보다는\\n논란의 중심이되어 언론에 나타나는 경우가 훨씬 많으며,\\n관련 장관의 발언이 매번 국민들에게 질타를 받는 등 좋지 못한 행보만을 이어왔습니다.\\n\\n\\n1조 2천억이라는 천문학적인 예산의 낭비에 대한\\n국민 대부분의 질타와 손가락질에도 편향된 정책과\\n기준없는 업무만을 이어가는 여성가족부의 존치에 대한 근원적인 질문과 함께,\\n2020년 범세계적인 바이러스에 대항하여 발빠른 대처로 국격을 높인 대한민국의 선진적인 국회와 행정부의 가치보존을 위해서\\n여성가족부의 폐지 또는 부처자격 격하를 청원합니다.',\n",
              " 'petitRealmCode': 'ADMINIST',\n",
              " 'petitRealmCodeArray': None,\n",
              " 'petitRealmNm': '행정/지방자치',\n",
              " 'petitRealmDetailCode': None,\n",
              " 'petitRealmDetailNm': None,\n",
              " 'jrsdCmitCode': '9700480',\n",
              " 'jrsdCmitCodeArray': None,\n",
              " 'jrsdCmitNm': '행정안전위원회',\n",
              " 'sttusCode': 'PETIT_END',\n",
              " 'sttusCodeNm': None,\n",
              " 'sttusCodeArray': None,\n",
              " 'resultCode': 'PETIT_INADQT',\n",
              " 'resultCodeArray': None,\n",
              " 'resultCodeNm': '동의만료폐기',\n",
              " 'jdgmnStepCode': None,\n",
              " 'jdgmnStepCodeArray': None,\n",
              " 'jdgmnStepCodeNm': None,\n",
              " 'petitUnacptCode': None,\n",
              " 'petitUnacptCodeNm': None,\n",
              " 'petitUnacptCodeDc': None,\n",
              " 'petitUnacptRm': None,\n",
              " 'petitRegistDt': '2020-12-08 19:25:09',\n",
              " 'petitOthbcDt': '2020-12-28 11:57:39',\n",
              " 'petitEndDt': '2021-01-28 00:01:00',\n",
              " 'petitRceptDt': None,\n",
              " 'cmitFrwrdDt': None,\n",
              " 'apprvlBeginDe': '2020-12-08 19:25:09',\n",
              " 'apprvlEndDe': '2020-12-26 22:07:29',\n",
              " 'agreBeginDe': '2020-12-28 11:57:39',\n",
              " 'agreEndDe': '2021-01-27 23:59:59',\n",
              " 'unacptJdgmnClosDe': '2021-01-02 23:59:59',\n",
              " 'agreCo': 551,\n",
              " 'forumEstblAt': 'N',\n",
              " 'fileInfoId': 'B5F25B725BFA6A41E054A0369F40E84E',\n",
              " 'referUrlList': [],\n",
              " 'hashtagList': [{'rowNum': 0,\n",
              "   'searchCondition': '',\n",
              "   'searchKeyword': '',\n",
              "   'pageIndex': 1,\n",
              "   'pageUnit': 10,\n",
              "   'firstIndex': 1,\n",
              "   'lastIndex': 1,\n",
              "   'recordCountPerPage': 10,\n",
              "   'tableName': '',\n",
              "   'prefix': '',\n",
              "   'sort': '',\n",
              "   'creatIp': None,\n",
              "   'creatId': None,\n",
              "   'creatDt': '2020-01-14 12:44:58',\n",
              "   'updtIp': None,\n",
              "   'updtId': None,\n",
              "   'updtDt': '2022-09-20 16:32:14',\n",
              "   'hashtagId': '9C1212EC40A312E9E054A0369F40E84E',\n",
              "   'petitId': None,\n",
              "   'useAt': None,\n",
              "   'hashtagNm': '여성가족부'},\n",
              "  {'rowNum': 0,\n",
              "   'searchCondition': '',\n",
              "   'searchKeyword': '',\n",
              "   'pageIndex': 1,\n",
              "   'pageUnit': 10,\n",
              "   'firstIndex': 1,\n",
              "   'lastIndex': 1,\n",
              "   'recordCountPerPage': 10,\n",
              "   'tableName': '',\n",
              "   'prefix': '',\n",
              "   'sort': '',\n",
              "   'creatIp': None,\n",
              "   'creatId': None,\n",
              "   'creatDt': '2020-01-22 12:09:06',\n",
              "   'updtIp': None,\n",
              "   'updtId': None,\n",
              "   'updtDt': '2022-05-23 13:22:10',\n",
              "   'hashtagId': '9CB2D8EDE2540635E054A0369F40E84E',\n",
              "   'petitId': None,\n",
              "   'useAt': None,\n",
              "   'hashtagNm': '여가부폐지'},\n",
              "  {'rowNum': 0,\n",
              "   'searchCondition': '',\n",
              "   'searchKeyword': '',\n",
              "   'pageIndex': 1,\n",
              "   'pageUnit': 10,\n",
              "   'firstIndex': 1,\n",
              "   'lastIndex': 1,\n",
              "   'recordCountPerPage': 10,\n",
              "   'tableName': '',\n",
              "   'prefix': '',\n",
              "   'sort': '',\n",
              "   'creatIp': None,\n",
              "   'creatId': None,\n",
              "   'creatDt': '2020-12-08 19:25:09',\n",
              "   'updtIp': None,\n",
              "   'updtId': None,\n",
              "   'updtDt': '2020-12-08 19:25:09',\n",
              "   'hashtagId': 'B5F25B725BFB6A41E054A0369F40E84E',\n",
              "   'petitId': None,\n",
              "   'useAt': None,\n",
              "   'hashtagNm': '여가부격하'},\n",
              "  {'rowNum': 0,\n",
              "   'searchCondition': '',\n",
              "   'searchKeyword': '',\n",
              "   'pageIndex': 1,\n",
              "   'pageUnit': 10,\n",
              "   'firstIndex': 1,\n",
              "   'lastIndex': 1,\n",
              "   'recordCountPerPage': 10,\n",
              "   'tableName': '',\n",
              "   'prefix': '',\n",
              "   'sort': '',\n",
              "   'creatIp': None,\n",
              "   'creatId': None,\n",
              "   'creatDt': '2020-03-04 19:21:37',\n",
              "   'updtIp': None,\n",
              "   'updtId': None,\n",
              "   'updtDt': '2022-10-23 11:33:31',\n",
              "   'hashtagId': '9FD7F0038BBF382EE054A0369F40E84E',\n",
              "   'petitId': None,\n",
              "   'useAt': None,\n",
              "   'hashtagNm': '성평등'}],\n",
              " 'view': None,\n",
              " 'isTemp': False,\n",
              " 'notInColumn': None,\n",
              " 'isFile': None,\n",
              " 'fileInfoList': [],\n",
              " 'fileAllCount': 0,\n",
              " 'wthdrawId': None,\n",
              " 'wthdrawReason': None,\n",
              " 'wthdrawRequstDt': None,\n",
              " 'wthdrawRceptCode': None,\n",
              " 'wthdrawRceptDt': None,\n",
              " 'wthdrawRceptRm': None,\n",
              " 'fobjctId': None,\n",
              " 'fobjctCn': None,\n",
              " 'fobjctRequstDt': None,\n",
              " 'fobjctRceptCode': None,\n",
              " 'fobjctRceptRm': None,\n",
              " 'apprvlPeriod': 30,\n",
              " 'agrePeriod': 30,\n",
              " 'openNmpr': 100,\n",
              " 'mtzNmpr': 100000,\n",
              " 'billId': None,\n",
              " 'currCommittee': None,\n",
              " 'currCommitteeId': None,\n",
              " 'committeeDt': None,\n",
              " 'billProcessDc': None,\n",
              " 'comments': None,\n",
              " 'likmsAt': None,\n",
              " 'trnsfInstt': None,\n",
              " 'trnsfRm': None,\n",
              " 'addDays': 0}"
            ]
          },
          "metadata": {},
          "execution_count": 51
        }
      ]
    },
    {
      "cell_type": "markdown",
      "source": [
        "## 한 페이지를 입력받아, 그 페이지에 존재하는 청원내용을 가져오는 함수\n",
        "\n"
      ],
      "metadata": {
        "id": "E_jId-g17CKv"
      }
    },
    {
      "cell_type": "code",
      "source": [
        "def get_one_page(page_no):\n",
        "    try:\n",
        "        #1. url 수집(검사 -> 네트워크 -> Fetch/XHR 에서 페이지 넘길 때 생성되는 요청 url)\n",
        "        #   날짜는 지정할 수 있도록 begin_date와 end_date를 f-string으로 설정 ( 2022년 1년간 청원 모을 예정)\n",
        "        url = f'https://petitions.assembly.go.kr/api/petits?pageIndex={page_no}&recordCountPerPage=8&sort=AGRE_END_DE-&searchCondition=sj&searchKeyword=&petitRealmCode=&sttusCode='\n",
        "        url = f'{url}PETIT_FORMATN,CMIT_FRWRD,PETIT_END&resultCode=BFE_OTHBC_WTHDRAW,PROGRS_WTHDRAW,PETIT_UNACPT,APPRVL_END_DSUSE,ETC_TRNSF&notInColumn='\n",
        "        url = f'{url}RESULT_CODE&beginDate={begin_date}&endDate={end_date}&ageCd='\n",
        "\n",
        "        #2. Fetch/XHR에서 수집한 url로 requests.get 하기\n",
        "        response = requests.get(url)\n",
        "\n",
        "        #3. requests하여 얻은 값 json형식으로 읽기 \n",
        "        #   검사 -> 네트워크 -> 머리글 에서 응답 헤더 json인것 확인 (application/json;charset=UTF-8)\n",
        "        many_json = response.json()\n",
        "\n",
        "        #4. json파일 데이터프레임으로 저장\n",
        "        df = pd.DataFrame(many_json)\n",
        "        \n",
        "\n",
        "        #5. 각 게시물의 고유번호로 게시물들의 url 수집\n",
        "        #    df['petitId'] => 게시물들의 고유번호 값\n",
        "        url_list = []\n",
        "        unique_petit = df['petitId']\n",
        "        for i in unique_petit:\n",
        "            inside_url = f'https://petitions.assembly.go.kr/api/petits/{i}?petitId={i}&sttusCode='\n",
        "            url_list.append(inside_url)\n",
        "        \n",
        "        # 3.수집된 url들, 각url 마다 json 형식으로 읽어서 리스트로 생성\n",
        "        urls_list = []\n",
        "        for i in url_list:  \n",
        "            response_ =requests.get(i)\n",
        "            urls_json = response_.json()\n",
        "            urls_list.append(urls_json)\n",
        "                \n",
        "        # 4.리스트로 된 게시물 url들 데이터 프레임으로 만들기\n",
        "        df_urls = pd.DataFrame(urls_list)\n",
        "\n",
        "        # 5.여러 컬럼 중에 원하는 항목만 col 변수에 할당\n",
        "        col = ['petitRealmCode', 'petitRealmNm', 'petitSj', 'petitObjet', \n",
        "               'petitCn', 'jrsdCmitNm', 'resultCodeNm', 'petitEndDt', 'agreBeginDe', 'agreCo']\n",
        "\n",
        "        # 6. 할당 된 컬럼명 알기 쉽게 이름 변경 해주기 (length => 컬럼 개수에 맞게 잘 맞춰서 지정해주어야함)\n",
        "        df_urls = df_urls[col]\n",
        "        cols = ['분야코드', '분야', '청원제목', '청원취지', '청원내용', '심사위원회', '청원결과', '청원동의 종료일', '청원동의 시작일','청원동의수' ]\n",
        "        df_urls.columns = cols  \n",
        "        \n",
        "        # 동기분이 하신 컬럼명 설정 방법\n",
        "        # df_urls = df_urls[col]\n",
        "        # df_urls.rename(columns={'petitRealmCode' : '분야코드', 'petitRealmNm' : '분야', 'petitSj' : '청원제목',\n",
        "        #                 'petitObjet' : '청원취지', 'petitCn' : '청원내용', 'jrsdCmitNm' : '심사위원회',\n",
        "        #                 'resultCodeNm' : '청원결과', 'petitEndDt' : '청원종료일', \n",
        "        #                 'agreBeginDe' : '청원동의시작일', 'agreCo': '청원동의수'}, inplace=True)\n",
        "\n",
        "        return df_urls\n",
        "\n",
        "    except Exception as e:\n",
        "        print(f'{page_no} : 없는 페이지 입니다. 다시 입력해주세요.')"
      ],
      "metadata": {
        "id": "rcD9D91w7Bko"
      },
      "execution_count": 52,
      "outputs": []
    },
    {
      "cell_type": "markdown",
      "source": [
        "## 2022년 한 해로 기간 설정"
      ],
      "metadata": {
        "id": "FIPEhTePB9Rg"
      }
    },
    {
      "cell_type": "code",
      "source": [
        "# 2022/01/01부터 2022/12/31 데이터 가져오기\n",
        "begin_date = 20220101\n",
        "end_date = 20221231"
      ],
      "metadata": {
        "id": "5UK4JeUJsP1l"
      },
      "execution_count": 53,
      "outputs": []
    },
    {
      "cell_type": "markdown",
      "source": [
        "## 함수 잘 만들어졌는지 1페이지로 확인"
      ],
      "metadata": {
        "id": "jZ6L7BGkCBOG"
      }
    },
    {
      "cell_type": "code",
      "source": [
        "# 1페이지 내용 확인\n",
        "page_no = 1\n",
        "get_one_page(page_no)"
      ],
      "metadata": {
        "colab": {
          "base_uri": "https://localhost:8080/",
          "height": 830
        },
        "id": "xxSREB4itE25",
        "outputId": "84092eee-81f6-486d-a0cd-3c9ea2361e31"
      },
      "execution_count": 54,
      "outputs": [
        {
          "output_type": "execute_result",
          "data": {
            "text/plain": [
              "     분야코드                 분야  \\\n",
              "0    TRIT           국토/해양/교통   \n",
              "1    TRIT           국토/해양/교통   \n",
              "2   HMCCS               보건의료   \n",
              "3   HMCCS               보건의료   \n",
              "4   FNANC        재정/세제/금융/예산   \n",
              "5  MSFRTN           재난/안전/환경   \n",
              "6   HMCCS               보건의료   \n",
              "7  FAMILY  저출산/고령화/아동/청소년/가족   \n",
              "\n",
              "                                               청원제목  \\\n",
              "0     인천 미추홀구뿐만 아니라 전국적인 ‘나 홀로 아파트, 빌라’ 전세사기에 관한 청원   \n",
              "1                      모든 학원, 상가 복도 cctv 의무화에 관한 청원   \n",
              "2                                     간호법 제정에 관한 청원   \n",
              "3     난치성 편두통 환자를 위한 CGRP 표적 치료제의 급여혜택 강화 촉구에 관한 청원   \n",
              "4  가상자산 위믹스 코인 거래지원종료에 관한 DAXA의 처리 투명성과 갑질논란에 관한 청원   \n",
              "5                                   기업의 과대포장에 관한 청원   \n",
              "6                  크론병을 앓고 있는 아들의 건강보험 적용 요청에 관한 청원   \n",
              "7                     난임부부지원 횟수의 확대 및 시험관 지원에 관한 청원   \n",
              "\n",
              "                                                청원취지  \\\n",
              "0  저는 전세사기 피해자입니다.\\r\\n\\r\\n전국적으로 발생한 전세사기 피해에 대한 현...   \n",
              "1                          CCTV없는곳에서 일어나는 폭력을 막아주세요.   \n",
              "2  '간호법' 제정을 통해 간호사의 영역과 업무 범위를 명확화 하고, 간호 서비스 개선...   \n",
              "3  WHO에서는 세계에서 두번째로 질병 부담이 높은 질환이 편두통이라고 발표했습니다. ...   \n",
              "4  한국거래소협회 DAXA에 의한 위믹스코인 거래지원 종료에 대한 투명성 조사와 갑질 ...   \n",
              "5  1) 과대포장 문제를 해결하기 위함입니다.\\r\\n2) 국가의 일회용품 소비를 줄이기...   \n",
              "6                             크론병 환자의 건강보험 적용에 대한 건의   \n",
              "7                                      난임부부지원 횟수의 확대   \n",
              "\n",
              "                                                청원내용    심사위원회    청원결과  \\\n",
              "0  ○ 문제점\\r\\n낙찰자가 생겨 곧 퇴거해야하는 피해자들을 위한 ‘전세사기피해지원센터...  국토교통위원회  동의만료폐기   \n",
              "1  안녕하세요.\\n봉담읍에 사는 초등학생  아이를 둔 엄마입니다.\\n저희아이는 학원강의...  국토교통위원회  동의만료폐기   \n",
              "2  현재 96개국에 '간호법'이 있고, OECD 국가 38개국 중 미국을 포함한 33개...  보건복지위원회  동의만료폐기   \n",
              "3  건강보험심사평가원에서 공개한 고시 자료[1]를 보면 대상 질환의 특성으로서 \"삽화편...  보건복지위원회  동의만료폐기   \n",
              "4  한국 거래소협회 DAXA는 10월27일 계획유통량과 실제유통량의 차이를 원인으로 삼...    정무위원회  동의만료폐기   \n",
              "5  환경 문제가 날이 갈수록 심화되고 있습니다. 세계가 노력하고 있지만 여전히 부족하며...  환경노동위원회  동의만료폐기   \n",
              "6  저의 아들은 크론병을 앓고 있습니다.\\r\\n크론병 치료나 완화에 사용되는 약 또는 ...  보건복지위원회  동의만료폐기   \n",
              "7  저는 아직 시험관을 시작하지 않은 결혼 2년차인 여성입니다.\\r\\n \\r\\n늦은 결...  보건복지위원회  동의만료폐기   \n",
              "\n",
              "              청원동의 종료일             청원동의 시작일  청원동의수  \n",
              "0  2022-12-31 00:01:00  2022-11-30 09:52:01   2250  \n",
              "1  2022-12-31 00:01:00  2022-11-30 09:53:21    283  \n",
              "2  2022-12-31 00:01:00  2022-11-30 09:52:59    177  \n",
              "3  2022-12-29 00:01:00  2022-11-28 16:39:49    524  \n",
              "4  2022-12-29 00:01:00  2022-11-28 16:40:33   6165  \n",
              "5  2022-12-29 00:01:00  2022-11-28 16:37:57    157  \n",
              "6  2022-12-29 00:01:00  2022-11-28 16:39:26    650  \n",
              "7  2022-12-29 00:01:00  2022-11-28 16:37:29    567  "
            ],
            "text/html": [
              "\n",
              "  <div id=\"df-189f24d1-6ca2-4b87-987f-d21b14cfd544\">\n",
              "    <div class=\"colab-df-container\">\n",
              "      <div>\n",
              "<style scoped>\n",
              "    .dataframe tbody tr th:only-of-type {\n",
              "        vertical-align: middle;\n",
              "    }\n",
              "\n",
              "    .dataframe tbody tr th {\n",
              "        vertical-align: top;\n",
              "    }\n",
              "\n",
              "    .dataframe thead th {\n",
              "        text-align: right;\n",
              "    }\n",
              "</style>\n",
              "<table border=\"1\" class=\"dataframe\">\n",
              "  <thead>\n",
              "    <tr style=\"text-align: right;\">\n",
              "      <th></th>\n",
              "      <th>분야코드</th>\n",
              "      <th>분야</th>\n",
              "      <th>청원제목</th>\n",
              "      <th>청원취지</th>\n",
              "      <th>청원내용</th>\n",
              "      <th>심사위원회</th>\n",
              "      <th>청원결과</th>\n",
              "      <th>청원동의 종료일</th>\n",
              "      <th>청원동의 시작일</th>\n",
              "      <th>청원동의수</th>\n",
              "    </tr>\n",
              "  </thead>\n",
              "  <tbody>\n",
              "    <tr>\n",
              "      <th>0</th>\n",
              "      <td>TRIT</td>\n",
              "      <td>국토/해양/교통</td>\n",
              "      <td>인천 미추홀구뿐만 아니라 전국적인 ‘나 홀로 아파트, 빌라’ 전세사기에 관한 청원</td>\n",
              "      <td>저는 전세사기 피해자입니다.\\r\\n\\r\\n전국적으로 발생한 전세사기 피해에 대한 현...</td>\n",
              "      <td>○ 문제점\\r\\n낙찰자가 생겨 곧 퇴거해야하는 피해자들을 위한 ‘전세사기피해지원센터...</td>\n",
              "      <td>국토교통위원회</td>\n",
              "      <td>동의만료폐기</td>\n",
              "      <td>2022-12-31 00:01:00</td>\n",
              "      <td>2022-11-30 09:52:01</td>\n",
              "      <td>2250</td>\n",
              "    </tr>\n",
              "    <tr>\n",
              "      <th>1</th>\n",
              "      <td>TRIT</td>\n",
              "      <td>국토/해양/교통</td>\n",
              "      <td>모든 학원, 상가 복도 cctv 의무화에 관한 청원</td>\n",
              "      <td>CCTV없는곳에서 일어나는 폭력을 막아주세요.</td>\n",
              "      <td>안녕하세요.\\n봉담읍에 사는 초등학생  아이를 둔 엄마입니다.\\n저희아이는 학원강의...</td>\n",
              "      <td>국토교통위원회</td>\n",
              "      <td>동의만료폐기</td>\n",
              "      <td>2022-12-31 00:01:00</td>\n",
              "      <td>2022-11-30 09:53:21</td>\n",
              "      <td>283</td>\n",
              "    </tr>\n",
              "    <tr>\n",
              "      <th>2</th>\n",
              "      <td>HMCCS</td>\n",
              "      <td>보건의료</td>\n",
              "      <td>간호법 제정에 관한 청원</td>\n",
              "      <td>'간호법' 제정을 통해 간호사의 영역과 업무 범위를 명확화 하고, 간호 서비스 개선...</td>\n",
              "      <td>현재 96개국에 '간호법'이 있고, OECD 국가 38개국 중 미국을 포함한 33개...</td>\n",
              "      <td>보건복지위원회</td>\n",
              "      <td>동의만료폐기</td>\n",
              "      <td>2022-12-31 00:01:00</td>\n",
              "      <td>2022-11-30 09:52:59</td>\n",
              "      <td>177</td>\n",
              "    </tr>\n",
              "    <tr>\n",
              "      <th>3</th>\n",
              "      <td>HMCCS</td>\n",
              "      <td>보건의료</td>\n",
              "      <td>난치성 편두통 환자를 위한 CGRP 표적 치료제의 급여혜택 강화 촉구에 관한 청원</td>\n",
              "      <td>WHO에서는 세계에서 두번째로 질병 부담이 높은 질환이 편두통이라고 발표했습니다. ...</td>\n",
              "      <td>건강보험심사평가원에서 공개한 고시 자료[1]를 보면 대상 질환의 특성으로서 \"삽화편...</td>\n",
              "      <td>보건복지위원회</td>\n",
              "      <td>동의만료폐기</td>\n",
              "      <td>2022-12-29 00:01:00</td>\n",
              "      <td>2022-11-28 16:39:49</td>\n",
              "      <td>524</td>\n",
              "    </tr>\n",
              "    <tr>\n",
              "      <th>4</th>\n",
              "      <td>FNANC</td>\n",
              "      <td>재정/세제/금융/예산</td>\n",
              "      <td>가상자산 위믹스 코인 거래지원종료에 관한 DAXA의 처리 투명성과 갑질논란에 관한 청원</td>\n",
              "      <td>한국거래소협회 DAXA에 의한 위믹스코인 거래지원 종료에 대한 투명성 조사와 갑질 ...</td>\n",
              "      <td>한국 거래소협회 DAXA는 10월27일 계획유통량과 실제유통량의 차이를 원인으로 삼...</td>\n",
              "      <td>정무위원회</td>\n",
              "      <td>동의만료폐기</td>\n",
              "      <td>2022-12-29 00:01:00</td>\n",
              "      <td>2022-11-28 16:40:33</td>\n",
              "      <td>6165</td>\n",
              "    </tr>\n",
              "    <tr>\n",
              "      <th>5</th>\n",
              "      <td>MSFRTN</td>\n",
              "      <td>재난/안전/환경</td>\n",
              "      <td>기업의 과대포장에 관한 청원</td>\n",
              "      <td>1) 과대포장 문제를 해결하기 위함입니다.\\r\\n2) 국가의 일회용품 소비를 줄이기...</td>\n",
              "      <td>환경 문제가 날이 갈수록 심화되고 있습니다. 세계가 노력하고 있지만 여전히 부족하며...</td>\n",
              "      <td>환경노동위원회</td>\n",
              "      <td>동의만료폐기</td>\n",
              "      <td>2022-12-29 00:01:00</td>\n",
              "      <td>2022-11-28 16:37:57</td>\n",
              "      <td>157</td>\n",
              "    </tr>\n",
              "    <tr>\n",
              "      <th>6</th>\n",
              "      <td>HMCCS</td>\n",
              "      <td>보건의료</td>\n",
              "      <td>크론병을 앓고 있는 아들의 건강보험 적용 요청에 관한 청원</td>\n",
              "      <td>크론병 환자의 건강보험 적용에 대한 건의</td>\n",
              "      <td>저의 아들은 크론병을 앓고 있습니다.\\r\\n크론병 치료나 완화에 사용되는 약 또는 ...</td>\n",
              "      <td>보건복지위원회</td>\n",
              "      <td>동의만료폐기</td>\n",
              "      <td>2022-12-29 00:01:00</td>\n",
              "      <td>2022-11-28 16:39:26</td>\n",
              "      <td>650</td>\n",
              "    </tr>\n",
              "    <tr>\n",
              "      <th>7</th>\n",
              "      <td>FAMILY</td>\n",
              "      <td>저출산/고령화/아동/청소년/가족</td>\n",
              "      <td>난임부부지원 횟수의 확대 및 시험관 지원에 관한 청원</td>\n",
              "      <td>난임부부지원 횟수의 확대</td>\n",
              "      <td>저는 아직 시험관을 시작하지 않은 결혼 2년차인 여성입니다.\\r\\n \\r\\n늦은 결...</td>\n",
              "      <td>보건복지위원회</td>\n",
              "      <td>동의만료폐기</td>\n",
              "      <td>2022-12-29 00:01:00</td>\n",
              "      <td>2022-11-28 16:37:29</td>\n",
              "      <td>567</td>\n",
              "    </tr>\n",
              "  </tbody>\n",
              "</table>\n",
              "</div>\n",
              "      <button class=\"colab-df-convert\" onclick=\"convertToInteractive('df-189f24d1-6ca2-4b87-987f-d21b14cfd544')\"\n",
              "              title=\"Convert this dataframe to an interactive table.\"\n",
              "              style=\"display:none;\">\n",
              "        \n",
              "  <svg xmlns=\"http://www.w3.org/2000/svg\" height=\"24px\"viewBox=\"0 0 24 24\"\n",
              "       width=\"24px\">\n",
              "    <path d=\"M0 0h24v24H0V0z\" fill=\"none\"/>\n",
              "    <path d=\"M18.56 5.44l.94 2.06.94-2.06 2.06-.94-2.06-.94-.94-2.06-.94 2.06-2.06.94zm-11 1L8.5 8.5l.94-2.06 2.06-.94-2.06-.94L8.5 2.5l-.94 2.06-2.06.94zm10 10l.94 2.06.94-2.06 2.06-.94-2.06-.94-.94-2.06-.94 2.06-2.06.94z\"/><path d=\"M17.41 7.96l-1.37-1.37c-.4-.4-.92-.59-1.43-.59-.52 0-1.04.2-1.43.59L10.3 9.45l-7.72 7.72c-.78.78-.78 2.05 0 2.83L4 21.41c.39.39.9.59 1.41.59.51 0 1.02-.2 1.41-.59l7.78-7.78 2.81-2.81c.8-.78.8-2.07 0-2.86zM5.41 20L4 18.59l7.72-7.72 1.47 1.35L5.41 20z\"/>\n",
              "  </svg>\n",
              "      </button>\n",
              "      \n",
              "  <style>\n",
              "    .colab-df-container {\n",
              "      display:flex;\n",
              "      flex-wrap:wrap;\n",
              "      gap: 12px;\n",
              "    }\n",
              "\n",
              "    .colab-df-convert {\n",
              "      background-color: #E8F0FE;\n",
              "      border: none;\n",
              "      border-radius: 50%;\n",
              "      cursor: pointer;\n",
              "      display: none;\n",
              "      fill: #1967D2;\n",
              "      height: 32px;\n",
              "      padding: 0 0 0 0;\n",
              "      width: 32px;\n",
              "    }\n",
              "\n",
              "    .colab-df-convert:hover {\n",
              "      background-color: #E2EBFA;\n",
              "      box-shadow: 0px 1px 2px rgba(60, 64, 67, 0.3), 0px 1px 3px 1px rgba(60, 64, 67, 0.15);\n",
              "      fill: #174EA6;\n",
              "    }\n",
              "\n",
              "    [theme=dark] .colab-df-convert {\n",
              "      background-color: #3B4455;\n",
              "      fill: #D2E3FC;\n",
              "    }\n",
              "\n",
              "    [theme=dark] .colab-df-convert:hover {\n",
              "      background-color: #434B5C;\n",
              "      box-shadow: 0px 1px 3px 1px rgba(0, 0, 0, 0.15);\n",
              "      filter: drop-shadow(0px 1px 2px rgba(0, 0, 0, 0.3));\n",
              "      fill: #FFFFFF;\n",
              "    }\n",
              "  </style>\n",
              "\n",
              "      <script>\n",
              "        const buttonEl =\n",
              "          document.querySelector('#df-189f24d1-6ca2-4b87-987f-d21b14cfd544 button.colab-df-convert');\n",
              "        buttonEl.style.display =\n",
              "          google.colab.kernel.accessAllowed ? 'block' : 'none';\n",
              "\n",
              "        async function convertToInteractive(key) {\n",
              "          const element = document.querySelector('#df-189f24d1-6ca2-4b87-987f-d21b14cfd544');\n",
              "          const dataTable =\n",
              "            await google.colab.kernel.invokeFunction('convertToInteractive',\n",
              "                                                     [key], {});\n",
              "          if (!dataTable) return;\n",
              "\n",
              "          const docLinkHtml = 'Like what you see? Visit the ' +\n",
              "            '<a target=\"_blank\" href=https://colab.research.google.com/notebooks/data_table.ipynb>data table notebook</a>'\n",
              "            + ' to learn more about interactive tables.';\n",
              "          element.innerHTML = '';\n",
              "          dataTable['output_type'] = 'display_data';\n",
              "          await google.colab.output.renderOutput(dataTable, element);\n",
              "          const docLink = document.createElement('div');\n",
              "          docLink.innerHTML = docLinkHtml;\n",
              "          element.appendChild(docLink);\n",
              "        }\n",
              "      </script>\n",
              "    </div>\n",
              "  </div>\n",
              "  "
            ]
          },
          "metadata": {},
          "execution_count": 54
        }
      ]
    },
    {
      "cell_type": "markdown",
      "source": [
        "## 함수 오류 확인"
      ],
      "metadata": {
        "id": "kyGIgzZ5CFLe"
      }
    },
    {
      "cell_type": "code",
      "source": [
        "# 마지막 페이지 43 페이지 . 없는 페이지 입력 후 에러 확인하기\n",
        "page_no = 100\n",
        "get_one_page(page_no)"
      ],
      "metadata": {
        "colab": {
          "base_uri": "https://localhost:8080/"
        },
        "id": "HYJvL3Rat2Hl",
        "outputId": "f54ef0d0-10f5-476f-a5fc-e5ffac3dcadd"
      },
      "execution_count": 55,
      "outputs": [
        {
          "output_type": "stream",
          "name": "stdout",
          "text": [
            "100 : 없는 페이지 입니다. 다시 입력해주세요.\n"
          ]
        }
      ]
    },
    {
      "cell_type": "markdown",
      "source": [
        "## 마지막 페이지 찾는 함수"
      ],
      "metadata": {
        "id": "fF-5UzBqnWH1"
      }
    },
    {
      "cell_type": "code",
      "source": [
        "def get_pages():\n",
        "   \n",
        "    page_no = 1\n",
        "    page_list = []\n",
        "\n",
        "    while True:\n",
        "        page = get_one_page(page_no)\n",
        "        if page is None:\n",
        "            break\n",
        "        page_list.append(page)\n",
        "        page_no += 1\n",
        "\n",
        "    time.sleep(1)\n",
        "    \n",
        "    df = pd.concat(page_list, ignore_index=True)\n",
        "    \n",
        "    return df\n",
        "get_pages()"
      ],
      "metadata": {
        "colab": {
          "base_uri": "https://localhost:8080/",
          "height": 1000
        },
        "id": "B9e7DhD6o6qJ",
        "outputId": "75fe378b-a58a-4aea-b3b2-19a1786c853a"
      },
      "execution_count": 59,
      "outputs": [
        {
          "output_type": "stream",
          "name": "stdout",
          "text": [
            "44 : 없는 페이지 입니다. 다시 입력해주세요.\n"
          ]
        },
        {
          "output_type": "execute_result",
          "data": {
            "text/plain": [
              "       분야코드           분야                                               청원제목  \\\n",
              "0      TRIT     국토/해양/교통      인천 미추홀구뿐만 아니라 전국적인 ‘나 홀로 아파트, 빌라’ 전세사기에 관한 청원   \n",
              "1      TRIT     국토/해양/교통                       모든 학원, 상가 복도 cctv 의무화에 관한 청원   \n",
              "2     HMCCS         보건의료                                      간호법 제정에 관한 청원   \n",
              "3     HMCCS         보건의료      난치성 편두통 환자를 위한 CGRP 표적 치료제의 급여혜택 강화 촉구에 관한 청원   \n",
              "4     FNANC  재정/세제/금융/예산   가상자산 위믹스 코인 거래지원종료에 관한 DAXA의 처리 투명성과 갑질논란에 관한 청원   \n",
              "..      ...          ...                                                ...   \n",
              "334   INVST   수사/법무/사법제도  양승태 전 대법원장 재임기간 중의 사법농단 의혹사건 피해자 구제를 위한 특별법안 제...   \n",
              "335   SCNCE    과학기술/정보통신                   n번방 방지법인 전기통신사업법 개정안의 재개정에 관한 청원   \n",
              "336  POLITC   정치/선거/국회운영                               수개표로 전환 안심 선거에 관한 청원   \n",
              "337  WLFARE        복지/보훈          발달재활서비스 제공 인력의 생존권을 위한 자격 인정 제도 개선에 관한 청원   \n",
              "338  POLITC   정치/선거/국회운영             22년 3월 대선에서 수개표 시행을 위한 공직선거법 개정에 관한 청원   \n",
              "\n",
              "                                                  청원취지  \\\n",
              "0    저는 전세사기 피해자입니다.\\r\\n\\r\\n전국적으로 발생한 전세사기 피해에 대한 현...   \n",
              "1                            CCTV없는곳에서 일어나는 폭력을 막아주세요.   \n",
              "2    '간호법' 제정을 통해 간호사의 영역과 업무 범위를 명확화 하고, 간호 서비스 개선...   \n",
              "3    WHO에서는 세계에서 두번째로 질병 부담이 높은 질환이 편두통이라고 발표했습니다. ...   \n",
              "4    한국거래소협회 DAXA에 의한 위믹스코인 거래지원 종료에 대한 투명성 조사와 갑질 ...   \n",
              "..                                                 ...   \n",
              "334  양승태 전 대법원장 체제하에서의 대법원이 상고 법원 설치 등 특정 목적을  관철 시...   \n",
              "335     헌법 제 18조를 위배하며, 법의 효율성이 의심되는 해당 개정안에 대한 개정을 바람   \n",
              "336  안녕하십니까? \\n\\n공직선거에서 전자개표가 도입된 이래 끊임없이 부정선거의 논란이...   \n",
              "337               수많은 치료사 ,선생님들 지금거리로 몰리고있습니다 도와주세요...   \n",
              "338  공직선거에서 전자개표가 도입된 이래 끊임없이 부정선거의 논란이 계속되고 있습니다. ...   \n",
              "\n",
              "                                                  청원내용          심사위원회    청원결과  \\\n",
              "0    ○ 문제점\\r\\n낙찰자가 생겨 곧 퇴거해야하는 피해자들을 위한 ‘전세사기피해지원센터...        국토교통위원회  동의만료폐기   \n",
              "1    안녕하세요.\\n봉담읍에 사는 초등학생  아이를 둔 엄마입니다.\\n저희아이는 학원강의...        국토교통위원회  동의만료폐기   \n",
              "2    현재 96개국에 '간호법'이 있고, OECD 국가 38개국 중 미국을 포함한 33개...        보건복지위원회  동의만료폐기   \n",
              "3    건강보험심사평가원에서 공개한 고시 자료[1]를 보면 대상 질환의 특성으로서 \"삽화편...        보건복지위원회  동의만료폐기   \n",
              "4    한국 거래소협회 DAXA는 10월27일 계획유통량과 실제유통량의 차이를 원인으로 삼...          정무위원회  동의만료폐기   \n",
              "..                                                 ...            ...     ...   \n",
              "334  제2조(정의) 이 법에서 사용하는 용어의 뜻은 다음과 같다.\\n1. “사법농단피해자...        법제사법위원회  동의만료폐기   \n",
              "335  먼저, 해당 개정안은 헌법 제18조를 위배할 우려가 큽니다. \"모든 국민은 통신의 ...  과학기술정보방송통신위원회  동의만료폐기   \n",
              "336  1. ‘당일 투표’를 기본 원칙으로 한다.\\n\\n부정선거의 가능성이 높은 사전투표와...        행정안전위원회  동의만료폐기   \n",
              "337  \\n발달재활서비스 제공인력 인증 강화 심사에 대해 청원합니다.\\n\\n안녕하세요. 경...        보건복지위원회  동의만료폐기   \n",
              "338  1. ‘당일 투표’만 시행한다는 내용을 개정법안에 명시해 주십시오.\\n\\n부정선거의...            미확정   위원회심사   \n",
              "\n",
              "                청원동의 종료일             청원동의 시작일   청원동의수  \n",
              "0    2022-12-31 00:01:00  2022-11-30 09:52:01    2250  \n",
              "1    2022-12-31 00:01:00  2022-11-30 09:53:21     283  \n",
              "2    2022-12-31 00:01:00  2022-11-30 09:52:59     177  \n",
              "3    2022-12-29 00:01:00  2022-11-28 16:39:49     524  \n",
              "4    2022-12-29 00:01:00  2022-11-28 16:40:33    6165  \n",
              "..                   ...                  ...     ...  \n",
              "334  2022-01-13 00:01:00  2021-12-13 17:47:48     429  \n",
              "335  2022-01-13 00:01:00  2021-12-13 17:49:00    1853  \n",
              "336  2022-01-07 00:01:00  2021-12-07 16:21:09    3034  \n",
              "337  2022-01-07 00:01:00  2021-12-07 16:22:35     210  \n",
              "338  2022-01-06 14:49:10  2021-12-07 16:22:05  100000  \n",
              "\n",
              "[339 rows x 10 columns]"
            ],
            "text/html": [
              "\n",
              "  <div id=\"df-e6523089-44c7-4f25-8da0-13863c04697d\">\n",
              "    <div class=\"colab-df-container\">\n",
              "      <div>\n",
              "<style scoped>\n",
              "    .dataframe tbody tr th:only-of-type {\n",
              "        vertical-align: middle;\n",
              "    }\n",
              "\n",
              "    .dataframe tbody tr th {\n",
              "        vertical-align: top;\n",
              "    }\n",
              "\n",
              "    .dataframe thead th {\n",
              "        text-align: right;\n",
              "    }\n",
              "</style>\n",
              "<table border=\"1\" class=\"dataframe\">\n",
              "  <thead>\n",
              "    <tr style=\"text-align: right;\">\n",
              "      <th></th>\n",
              "      <th>분야코드</th>\n",
              "      <th>분야</th>\n",
              "      <th>청원제목</th>\n",
              "      <th>청원취지</th>\n",
              "      <th>청원내용</th>\n",
              "      <th>심사위원회</th>\n",
              "      <th>청원결과</th>\n",
              "      <th>청원동의 종료일</th>\n",
              "      <th>청원동의 시작일</th>\n",
              "      <th>청원동의수</th>\n",
              "    </tr>\n",
              "  </thead>\n",
              "  <tbody>\n",
              "    <tr>\n",
              "      <th>0</th>\n",
              "      <td>TRIT</td>\n",
              "      <td>국토/해양/교통</td>\n",
              "      <td>인천 미추홀구뿐만 아니라 전국적인 ‘나 홀로 아파트, 빌라’ 전세사기에 관한 청원</td>\n",
              "      <td>저는 전세사기 피해자입니다.\\r\\n\\r\\n전국적으로 발생한 전세사기 피해에 대한 현...</td>\n",
              "      <td>○ 문제점\\r\\n낙찰자가 생겨 곧 퇴거해야하는 피해자들을 위한 ‘전세사기피해지원센터...</td>\n",
              "      <td>국토교통위원회</td>\n",
              "      <td>동의만료폐기</td>\n",
              "      <td>2022-12-31 00:01:00</td>\n",
              "      <td>2022-11-30 09:52:01</td>\n",
              "      <td>2250</td>\n",
              "    </tr>\n",
              "    <tr>\n",
              "      <th>1</th>\n",
              "      <td>TRIT</td>\n",
              "      <td>국토/해양/교통</td>\n",
              "      <td>모든 학원, 상가 복도 cctv 의무화에 관한 청원</td>\n",
              "      <td>CCTV없는곳에서 일어나는 폭력을 막아주세요.</td>\n",
              "      <td>안녕하세요.\\n봉담읍에 사는 초등학생  아이를 둔 엄마입니다.\\n저희아이는 학원강의...</td>\n",
              "      <td>국토교통위원회</td>\n",
              "      <td>동의만료폐기</td>\n",
              "      <td>2022-12-31 00:01:00</td>\n",
              "      <td>2022-11-30 09:53:21</td>\n",
              "      <td>283</td>\n",
              "    </tr>\n",
              "    <tr>\n",
              "      <th>2</th>\n",
              "      <td>HMCCS</td>\n",
              "      <td>보건의료</td>\n",
              "      <td>간호법 제정에 관한 청원</td>\n",
              "      <td>'간호법' 제정을 통해 간호사의 영역과 업무 범위를 명확화 하고, 간호 서비스 개선...</td>\n",
              "      <td>현재 96개국에 '간호법'이 있고, OECD 국가 38개국 중 미국을 포함한 33개...</td>\n",
              "      <td>보건복지위원회</td>\n",
              "      <td>동의만료폐기</td>\n",
              "      <td>2022-12-31 00:01:00</td>\n",
              "      <td>2022-11-30 09:52:59</td>\n",
              "      <td>177</td>\n",
              "    </tr>\n",
              "    <tr>\n",
              "      <th>3</th>\n",
              "      <td>HMCCS</td>\n",
              "      <td>보건의료</td>\n",
              "      <td>난치성 편두통 환자를 위한 CGRP 표적 치료제의 급여혜택 강화 촉구에 관한 청원</td>\n",
              "      <td>WHO에서는 세계에서 두번째로 질병 부담이 높은 질환이 편두통이라고 발표했습니다. ...</td>\n",
              "      <td>건강보험심사평가원에서 공개한 고시 자료[1]를 보면 대상 질환의 특성으로서 \"삽화편...</td>\n",
              "      <td>보건복지위원회</td>\n",
              "      <td>동의만료폐기</td>\n",
              "      <td>2022-12-29 00:01:00</td>\n",
              "      <td>2022-11-28 16:39:49</td>\n",
              "      <td>524</td>\n",
              "    </tr>\n",
              "    <tr>\n",
              "      <th>4</th>\n",
              "      <td>FNANC</td>\n",
              "      <td>재정/세제/금융/예산</td>\n",
              "      <td>가상자산 위믹스 코인 거래지원종료에 관한 DAXA의 처리 투명성과 갑질논란에 관한 청원</td>\n",
              "      <td>한국거래소협회 DAXA에 의한 위믹스코인 거래지원 종료에 대한 투명성 조사와 갑질 ...</td>\n",
              "      <td>한국 거래소협회 DAXA는 10월27일 계획유통량과 실제유통량의 차이를 원인으로 삼...</td>\n",
              "      <td>정무위원회</td>\n",
              "      <td>동의만료폐기</td>\n",
              "      <td>2022-12-29 00:01:00</td>\n",
              "      <td>2022-11-28 16:40:33</td>\n",
              "      <td>6165</td>\n",
              "    </tr>\n",
              "    <tr>\n",
              "      <th>...</th>\n",
              "      <td>...</td>\n",
              "      <td>...</td>\n",
              "      <td>...</td>\n",
              "      <td>...</td>\n",
              "      <td>...</td>\n",
              "      <td>...</td>\n",
              "      <td>...</td>\n",
              "      <td>...</td>\n",
              "      <td>...</td>\n",
              "      <td>...</td>\n",
              "    </tr>\n",
              "    <tr>\n",
              "      <th>334</th>\n",
              "      <td>INVST</td>\n",
              "      <td>수사/법무/사법제도</td>\n",
              "      <td>양승태 전 대법원장 재임기간 중의 사법농단 의혹사건 피해자 구제를 위한 특별법안 제...</td>\n",
              "      <td>양승태 전 대법원장 체제하에서의 대법원이 상고 법원 설치 등 특정 목적을  관철 시...</td>\n",
              "      <td>제2조(정의) 이 법에서 사용하는 용어의 뜻은 다음과 같다.\\n1. “사법농단피해자...</td>\n",
              "      <td>법제사법위원회</td>\n",
              "      <td>동의만료폐기</td>\n",
              "      <td>2022-01-13 00:01:00</td>\n",
              "      <td>2021-12-13 17:47:48</td>\n",
              "      <td>429</td>\n",
              "    </tr>\n",
              "    <tr>\n",
              "      <th>335</th>\n",
              "      <td>SCNCE</td>\n",
              "      <td>과학기술/정보통신</td>\n",
              "      <td>n번방 방지법인 전기통신사업법 개정안의 재개정에 관한 청원</td>\n",
              "      <td>헌법 제 18조를 위배하며, 법의 효율성이 의심되는 해당 개정안에 대한 개정을 바람</td>\n",
              "      <td>먼저, 해당 개정안은 헌법 제18조를 위배할 우려가 큽니다. \"모든 국민은 통신의 ...</td>\n",
              "      <td>과학기술정보방송통신위원회</td>\n",
              "      <td>동의만료폐기</td>\n",
              "      <td>2022-01-13 00:01:00</td>\n",
              "      <td>2021-12-13 17:49:00</td>\n",
              "      <td>1853</td>\n",
              "    </tr>\n",
              "    <tr>\n",
              "      <th>336</th>\n",
              "      <td>POLITC</td>\n",
              "      <td>정치/선거/국회운영</td>\n",
              "      <td>수개표로 전환 안심 선거에 관한 청원</td>\n",
              "      <td>안녕하십니까? \\n\\n공직선거에서 전자개표가 도입된 이래 끊임없이 부정선거의 논란이...</td>\n",
              "      <td>1. ‘당일 투표’를 기본 원칙으로 한다.\\n\\n부정선거의 가능성이 높은 사전투표와...</td>\n",
              "      <td>행정안전위원회</td>\n",
              "      <td>동의만료폐기</td>\n",
              "      <td>2022-01-07 00:01:00</td>\n",
              "      <td>2021-12-07 16:21:09</td>\n",
              "      <td>3034</td>\n",
              "    </tr>\n",
              "    <tr>\n",
              "      <th>337</th>\n",
              "      <td>WLFARE</td>\n",
              "      <td>복지/보훈</td>\n",
              "      <td>발달재활서비스 제공 인력의 생존권을 위한 자격 인정 제도 개선에 관한 청원</td>\n",
              "      <td>수많은 치료사 ,선생님들 지금거리로 몰리고있습니다 도와주세요...</td>\n",
              "      <td>\\n발달재활서비스 제공인력 인증 강화 심사에 대해 청원합니다.\\n\\n안녕하세요. 경...</td>\n",
              "      <td>보건복지위원회</td>\n",
              "      <td>동의만료폐기</td>\n",
              "      <td>2022-01-07 00:01:00</td>\n",
              "      <td>2021-12-07 16:22:35</td>\n",
              "      <td>210</td>\n",
              "    </tr>\n",
              "    <tr>\n",
              "      <th>338</th>\n",
              "      <td>POLITC</td>\n",
              "      <td>정치/선거/국회운영</td>\n",
              "      <td>22년 3월 대선에서 수개표 시행을 위한 공직선거법 개정에 관한 청원</td>\n",
              "      <td>공직선거에서 전자개표가 도입된 이래 끊임없이 부정선거의 논란이 계속되고 있습니다. ...</td>\n",
              "      <td>1. ‘당일 투표’만 시행한다는 내용을 개정법안에 명시해 주십시오.\\n\\n부정선거의...</td>\n",
              "      <td>미확정</td>\n",
              "      <td>위원회심사</td>\n",
              "      <td>2022-01-06 14:49:10</td>\n",
              "      <td>2021-12-07 16:22:05</td>\n",
              "      <td>100000</td>\n",
              "    </tr>\n",
              "  </tbody>\n",
              "</table>\n",
              "<p>339 rows × 10 columns</p>\n",
              "</div>\n",
              "      <button class=\"colab-df-convert\" onclick=\"convertToInteractive('df-e6523089-44c7-4f25-8da0-13863c04697d')\"\n",
              "              title=\"Convert this dataframe to an interactive table.\"\n",
              "              style=\"display:none;\">\n",
              "        \n",
              "  <svg xmlns=\"http://www.w3.org/2000/svg\" height=\"24px\"viewBox=\"0 0 24 24\"\n",
              "       width=\"24px\">\n",
              "    <path d=\"M0 0h24v24H0V0z\" fill=\"none\"/>\n",
              "    <path d=\"M18.56 5.44l.94 2.06.94-2.06 2.06-.94-2.06-.94-.94-2.06-.94 2.06-2.06.94zm-11 1L8.5 8.5l.94-2.06 2.06-.94-2.06-.94L8.5 2.5l-.94 2.06-2.06.94zm10 10l.94 2.06.94-2.06 2.06-.94-2.06-.94-.94-2.06-.94 2.06-2.06.94z\"/><path d=\"M17.41 7.96l-1.37-1.37c-.4-.4-.92-.59-1.43-.59-.52 0-1.04.2-1.43.59L10.3 9.45l-7.72 7.72c-.78.78-.78 2.05 0 2.83L4 21.41c.39.39.9.59 1.41.59.51 0 1.02-.2 1.41-.59l7.78-7.78 2.81-2.81c.8-.78.8-2.07 0-2.86zM5.41 20L4 18.59l7.72-7.72 1.47 1.35L5.41 20z\"/>\n",
              "  </svg>\n",
              "      </button>\n",
              "      \n",
              "  <style>\n",
              "    .colab-df-container {\n",
              "      display:flex;\n",
              "      flex-wrap:wrap;\n",
              "      gap: 12px;\n",
              "    }\n",
              "\n",
              "    .colab-df-convert {\n",
              "      background-color: #E8F0FE;\n",
              "      border: none;\n",
              "      border-radius: 50%;\n",
              "      cursor: pointer;\n",
              "      display: none;\n",
              "      fill: #1967D2;\n",
              "      height: 32px;\n",
              "      padding: 0 0 0 0;\n",
              "      width: 32px;\n",
              "    }\n",
              "\n",
              "    .colab-df-convert:hover {\n",
              "      background-color: #E2EBFA;\n",
              "      box-shadow: 0px 1px 2px rgba(60, 64, 67, 0.3), 0px 1px 3px 1px rgba(60, 64, 67, 0.15);\n",
              "      fill: #174EA6;\n",
              "    }\n",
              "\n",
              "    [theme=dark] .colab-df-convert {\n",
              "      background-color: #3B4455;\n",
              "      fill: #D2E3FC;\n",
              "    }\n",
              "\n",
              "    [theme=dark] .colab-df-convert:hover {\n",
              "      background-color: #434B5C;\n",
              "      box-shadow: 0px 1px 3px 1px rgba(0, 0, 0, 0.15);\n",
              "      filter: drop-shadow(0px 1px 2px rgba(0, 0, 0, 0.3));\n",
              "      fill: #FFFFFF;\n",
              "    }\n",
              "  </style>\n",
              "\n",
              "      <script>\n",
              "        const buttonEl =\n",
              "          document.querySelector('#df-e6523089-44c7-4f25-8da0-13863c04697d button.colab-df-convert');\n",
              "        buttonEl.style.display =\n",
              "          google.colab.kernel.accessAllowed ? 'block' : 'none';\n",
              "\n",
              "        async function convertToInteractive(key) {\n",
              "          const element = document.querySelector('#df-e6523089-44c7-4f25-8da0-13863c04697d');\n",
              "          const dataTable =\n",
              "            await google.colab.kernel.invokeFunction('convertToInteractive',\n",
              "                                                     [key], {});\n",
              "          if (!dataTable) return;\n",
              "\n",
              "          const docLinkHtml = 'Like what you see? Visit the ' +\n",
              "            '<a target=\"_blank\" href=https://colab.research.google.com/notebooks/data_table.ipynb>data table notebook</a>'\n",
              "            + ' to learn more about interactive tables.';\n",
              "          element.innerHTML = '';\n",
              "          dataTable['output_type'] = 'display_data';\n",
              "          await google.colab.output.renderOutput(dataTable, element);\n",
              "          const docLink = document.createElement('div');\n",
              "          docLink.innerHTML = docLinkHtml;\n",
              "          element.appendChild(docLink);\n",
              "        }\n",
              "      </script>\n",
              "    </div>\n",
              "  </div>\n",
              "  "
            ]
          },
          "metadata": {},
          "execution_count": 59
        }
      ]
    },
    {
      "cell_type": "markdown",
      "source": [
        "## 마지막 페이지까지 가져오기 (tqdm & trange 사용)"
      ],
      "metadata": {
        "id": "ZSXIl9zhfCil"
      }
    },
    {
      "cell_type": "code",
      "source": [
        "from tqdm import trange\n",
        "import time\n",
        "\n",
        "# 경고메시지 제거\n",
        "requests.packages.urllib3.disable_warnings(requests.packages.urllib3.exceptions.InsecureRequestWarning)\n",
        "\n",
        "# 마지막 페이지 찾는 함수에서 43까진 있고 44페이지부터 없다고 나오므로  43페이지까지 수집\n",
        "last_page = 43\n",
        "petition_page_list = []\n",
        "for page_no in trange(1,last_page +1):\n",
        "    result = get_one_page(page_no)\n",
        "    petition_page_list.append(result)\n",
        "    time.sleep(0.01)\n"
      ],
      "metadata": {
        "colab": {
          "base_uri": "https://localhost:8080/"
        },
        "id": "QNuZAT3vfB9a",
        "outputId": "4709ac5d-edcc-41e5-8def-15f19bca7435"
      },
      "execution_count": 60,
      "outputs": [
        {
          "output_type": "stream",
          "name": "stderr",
          "text": [
            "100%|██████████| 43/43 [02:24<00:00,  3.35s/it]\n"
          ]
        }
      ]
    },
    {
      "cell_type": "markdown",
      "source": [
        "## 여러페이지 하나로 합치기"
      ],
      "metadata": {
        "id": "5XyFLGK0FDdF"
      }
    },
    {
      "cell_type": "code",
      "source": [
        "df_petit = pd.concat(petition_page_list, ignore_index = True)\n",
        "df_petit.shape"
      ],
      "metadata": {
        "id": "7UcrjSCmFH9N",
        "colab": {
          "base_uri": "https://localhost:8080/"
        },
        "outputId": "b5ab1c52-e4d6-4d3e-b9a7-109f0d6124b2"
      },
      "execution_count": 61,
      "outputs": [
        {
          "output_type": "execute_result",
          "data": {
            "text/plain": [
              "(339, 10)"
            ]
          },
          "metadata": {},
          "execution_count": 61
        }
      ]
    },
    {
      "cell_type": "code",
      "source": [
        "#2022년의 청원 수 339개"
      ],
      "metadata": {
        "id": "HF_L32JaCRc_"
      },
      "execution_count": 62,
      "outputs": []
    },
    {
      "cell_type": "markdown",
      "source": [
        "## 파일 저장하기"
      ],
      "metadata": {
        "id": "_mzf6fHeFRmH"
      }
    },
    {
      "cell_type": "code",
      "source": [
        "file_name = 'petit_list.csv'\n",
        "df_petit.to_csv(file_name, index = False)"
      ],
      "metadata": {
        "id": "xgfDS4oVFUMT"
      },
      "execution_count": 63,
      "outputs": []
    },
    {
      "cell_type": "markdown",
      "source": [
        "## 파일 불러오기"
      ],
      "metadata": {
        "id": "G0E3_zU9FvLD"
      }
    },
    {
      "cell_type": "code",
      "source": [
        "pd.read_csv(file_name)"
      ],
      "metadata": {
        "id": "lIgJCC3_Fuoa",
        "colab": {
          "base_uri": "https://localhost:8080/",
          "height": 1000
        },
        "outputId": "dde159aa-4582-4955-f8e6-4eaeeb4a326e"
      },
      "execution_count": 64,
      "outputs": [
        {
          "output_type": "execute_result",
          "data": {
            "text/plain": [
              "       분야코드           분야                                               청원제목  \\\n",
              "0      TRIT     국토/해양/교통      인천 미추홀구뿐만 아니라 전국적인 ‘나 홀로 아파트, 빌라’ 전세사기에 관한 청원   \n",
              "1      TRIT     국토/해양/교통                       모든 학원, 상가 복도 cctv 의무화에 관한 청원   \n",
              "2     HMCCS         보건의료                                      간호법 제정에 관한 청원   \n",
              "3     HMCCS         보건의료      난치성 편두통 환자를 위한 CGRP 표적 치료제의 급여혜택 강화 촉구에 관한 청원   \n",
              "4     FNANC  재정/세제/금융/예산   가상자산 위믹스 코인 거래지원종료에 관한 DAXA의 처리 투명성과 갑질논란에 관한 청원   \n",
              "..      ...          ...                                                ...   \n",
              "334   INVST   수사/법무/사법제도  양승태 전 대법원장 재임기간 중의 사법농단 의혹사건 피해자 구제를 위한 특별법안 제...   \n",
              "335   SCNCE    과학기술/정보통신                   n번방 방지법인 전기통신사업법 개정안의 재개정에 관한 청원   \n",
              "336  POLITC   정치/선거/국회운영                               수개표로 전환 안심 선거에 관한 청원   \n",
              "337  WLFARE        복지/보훈          발달재활서비스 제공 인력의 생존권을 위한 자격 인정 제도 개선에 관한 청원   \n",
              "338  POLITC   정치/선거/국회운영             22년 3월 대선에서 수개표 시행을 위한 공직선거법 개정에 관한 청원   \n",
              "\n",
              "                                                  청원취지  \\\n",
              "0    저는 전세사기 피해자입니다.\\r\\n\\r\\n전국적으로 발생한 전세사기 피해에 대한 현...   \n",
              "1                            CCTV없는곳에서 일어나는 폭력을 막아주세요.   \n",
              "2    '간호법' 제정을 통해 간호사의 영역과 업무 범위를 명확화 하고, 간호 서비스 개선...   \n",
              "3    WHO에서는 세계에서 두번째로 질병 부담이 높은 질환이 편두통이라고 발표했습니다. ...   \n",
              "4    한국거래소협회 DAXA에 의한 위믹스코인 거래지원 종료에 대한 투명성 조사와 갑질 ...   \n",
              "..                                                 ...   \n",
              "334  양승태 전 대법원장 체제하에서의 대법원이 상고 법원 설치 등 특정 목적을  관철 시...   \n",
              "335     헌법 제 18조를 위배하며, 법의 효율성이 의심되는 해당 개정안에 대한 개정을 바람   \n",
              "336  안녕하십니까? \\n\\n공직선거에서 전자개표가 도입된 이래 끊임없이 부정선거의 논란이...   \n",
              "337               수많은 치료사 ,선생님들 지금거리로 몰리고있습니다 도와주세요...   \n",
              "338  공직선거에서 전자개표가 도입된 이래 끊임없이 부정선거의 논란이 계속되고 있습니다. ...   \n",
              "\n",
              "                                                  청원내용          심사위원회    청원결과  \\\n",
              "0    ○ 문제점\\r\\n낙찰자가 생겨 곧 퇴거해야하는 피해자들을 위한 ‘전세사기피해지원센터...        국토교통위원회  동의만료폐기   \n",
              "1    안녕하세요.\\n봉담읍에 사는 초등학생  아이를 둔 엄마입니다.\\n저희아이는 학원강의...        국토교통위원회  동의만료폐기   \n",
              "2    현재 96개국에 '간호법'이 있고, OECD 국가 38개국 중 미국을 포함한 33개...        보건복지위원회  동의만료폐기   \n",
              "3    건강보험심사평가원에서 공개한 고시 자료[1]를 보면 대상 질환의 특성으로서 \"삽화편...        보건복지위원회  동의만료폐기   \n",
              "4    한국 거래소협회 DAXA는 10월27일 계획유통량과 실제유통량의 차이를 원인으로 삼...          정무위원회  동의만료폐기   \n",
              "..                                                 ...            ...     ...   \n",
              "334  제2조(정의) 이 법에서 사용하는 용어의 뜻은 다음과 같다.\\n1. “사법농단피해자...        법제사법위원회  동의만료폐기   \n",
              "335  먼저, 해당 개정안은 헌법 제18조를 위배할 우려가 큽니다. \"모든 국민은 통신의 ...  과학기술정보방송통신위원회  동의만료폐기   \n",
              "336  1. ‘당일 투표’를 기본 원칙으로 한다.\\n\\n부정선거의 가능성이 높은 사전투표와...        행정안전위원회  동의만료폐기   \n",
              "337  \\n발달재활서비스 제공인력 인증 강화 심사에 대해 청원합니다.\\n\\n안녕하세요. 경...        보건복지위원회  동의만료폐기   \n",
              "338  1. ‘당일 투표’만 시행한다는 내용을 개정법안에 명시해 주십시오.\\n\\n부정선거의...            미확정   위원회심사   \n",
              "\n",
              "                청원동의 종료일             청원동의 시작일   청원동의수  \n",
              "0    2022-12-31 00:01:00  2022-11-30 09:52:01    2250  \n",
              "1    2022-12-31 00:01:00  2022-11-30 09:53:21     283  \n",
              "2    2022-12-31 00:01:00  2022-11-30 09:52:59     177  \n",
              "3    2022-12-29 00:01:00  2022-11-28 16:39:49     524  \n",
              "4    2022-12-29 00:01:00  2022-11-28 16:40:33    6165  \n",
              "..                   ...                  ...     ...  \n",
              "334  2022-01-13 00:01:00  2021-12-13 17:47:48     429  \n",
              "335  2022-01-13 00:01:00  2021-12-13 17:49:00    1853  \n",
              "336  2022-01-07 00:01:00  2021-12-07 16:21:09    3034  \n",
              "337  2022-01-07 00:01:00  2021-12-07 16:22:35     210  \n",
              "338  2022-01-06 14:49:10  2021-12-07 16:22:05  100000  \n",
              "\n",
              "[339 rows x 10 columns]"
            ],
            "text/html": [
              "\n",
              "  <div id=\"df-d2cdd750-8a7b-4759-803d-74a130421fd1\">\n",
              "    <div class=\"colab-df-container\">\n",
              "      <div>\n",
              "<style scoped>\n",
              "    .dataframe tbody tr th:only-of-type {\n",
              "        vertical-align: middle;\n",
              "    }\n",
              "\n",
              "    .dataframe tbody tr th {\n",
              "        vertical-align: top;\n",
              "    }\n",
              "\n",
              "    .dataframe thead th {\n",
              "        text-align: right;\n",
              "    }\n",
              "</style>\n",
              "<table border=\"1\" class=\"dataframe\">\n",
              "  <thead>\n",
              "    <tr style=\"text-align: right;\">\n",
              "      <th></th>\n",
              "      <th>분야코드</th>\n",
              "      <th>분야</th>\n",
              "      <th>청원제목</th>\n",
              "      <th>청원취지</th>\n",
              "      <th>청원내용</th>\n",
              "      <th>심사위원회</th>\n",
              "      <th>청원결과</th>\n",
              "      <th>청원동의 종료일</th>\n",
              "      <th>청원동의 시작일</th>\n",
              "      <th>청원동의수</th>\n",
              "    </tr>\n",
              "  </thead>\n",
              "  <tbody>\n",
              "    <tr>\n",
              "      <th>0</th>\n",
              "      <td>TRIT</td>\n",
              "      <td>국토/해양/교통</td>\n",
              "      <td>인천 미추홀구뿐만 아니라 전국적인 ‘나 홀로 아파트, 빌라’ 전세사기에 관한 청원</td>\n",
              "      <td>저는 전세사기 피해자입니다.\\r\\n\\r\\n전국적으로 발생한 전세사기 피해에 대한 현...</td>\n",
              "      <td>○ 문제점\\r\\n낙찰자가 생겨 곧 퇴거해야하는 피해자들을 위한 ‘전세사기피해지원센터...</td>\n",
              "      <td>국토교통위원회</td>\n",
              "      <td>동의만료폐기</td>\n",
              "      <td>2022-12-31 00:01:00</td>\n",
              "      <td>2022-11-30 09:52:01</td>\n",
              "      <td>2250</td>\n",
              "    </tr>\n",
              "    <tr>\n",
              "      <th>1</th>\n",
              "      <td>TRIT</td>\n",
              "      <td>국토/해양/교통</td>\n",
              "      <td>모든 학원, 상가 복도 cctv 의무화에 관한 청원</td>\n",
              "      <td>CCTV없는곳에서 일어나는 폭력을 막아주세요.</td>\n",
              "      <td>안녕하세요.\\n봉담읍에 사는 초등학생  아이를 둔 엄마입니다.\\n저희아이는 학원강의...</td>\n",
              "      <td>국토교통위원회</td>\n",
              "      <td>동의만료폐기</td>\n",
              "      <td>2022-12-31 00:01:00</td>\n",
              "      <td>2022-11-30 09:53:21</td>\n",
              "      <td>283</td>\n",
              "    </tr>\n",
              "    <tr>\n",
              "      <th>2</th>\n",
              "      <td>HMCCS</td>\n",
              "      <td>보건의료</td>\n",
              "      <td>간호법 제정에 관한 청원</td>\n",
              "      <td>'간호법' 제정을 통해 간호사의 영역과 업무 범위를 명확화 하고, 간호 서비스 개선...</td>\n",
              "      <td>현재 96개국에 '간호법'이 있고, OECD 국가 38개국 중 미국을 포함한 33개...</td>\n",
              "      <td>보건복지위원회</td>\n",
              "      <td>동의만료폐기</td>\n",
              "      <td>2022-12-31 00:01:00</td>\n",
              "      <td>2022-11-30 09:52:59</td>\n",
              "      <td>177</td>\n",
              "    </tr>\n",
              "    <tr>\n",
              "      <th>3</th>\n",
              "      <td>HMCCS</td>\n",
              "      <td>보건의료</td>\n",
              "      <td>난치성 편두통 환자를 위한 CGRP 표적 치료제의 급여혜택 강화 촉구에 관한 청원</td>\n",
              "      <td>WHO에서는 세계에서 두번째로 질병 부담이 높은 질환이 편두통이라고 발표했습니다. ...</td>\n",
              "      <td>건강보험심사평가원에서 공개한 고시 자료[1]를 보면 대상 질환의 특성으로서 \"삽화편...</td>\n",
              "      <td>보건복지위원회</td>\n",
              "      <td>동의만료폐기</td>\n",
              "      <td>2022-12-29 00:01:00</td>\n",
              "      <td>2022-11-28 16:39:49</td>\n",
              "      <td>524</td>\n",
              "    </tr>\n",
              "    <tr>\n",
              "      <th>4</th>\n",
              "      <td>FNANC</td>\n",
              "      <td>재정/세제/금융/예산</td>\n",
              "      <td>가상자산 위믹스 코인 거래지원종료에 관한 DAXA의 처리 투명성과 갑질논란에 관한 청원</td>\n",
              "      <td>한국거래소협회 DAXA에 의한 위믹스코인 거래지원 종료에 대한 투명성 조사와 갑질 ...</td>\n",
              "      <td>한국 거래소협회 DAXA는 10월27일 계획유통량과 실제유통량의 차이를 원인으로 삼...</td>\n",
              "      <td>정무위원회</td>\n",
              "      <td>동의만료폐기</td>\n",
              "      <td>2022-12-29 00:01:00</td>\n",
              "      <td>2022-11-28 16:40:33</td>\n",
              "      <td>6165</td>\n",
              "    </tr>\n",
              "    <tr>\n",
              "      <th>...</th>\n",
              "      <td>...</td>\n",
              "      <td>...</td>\n",
              "      <td>...</td>\n",
              "      <td>...</td>\n",
              "      <td>...</td>\n",
              "      <td>...</td>\n",
              "      <td>...</td>\n",
              "      <td>...</td>\n",
              "      <td>...</td>\n",
              "      <td>...</td>\n",
              "    </tr>\n",
              "    <tr>\n",
              "      <th>334</th>\n",
              "      <td>INVST</td>\n",
              "      <td>수사/법무/사법제도</td>\n",
              "      <td>양승태 전 대법원장 재임기간 중의 사법농단 의혹사건 피해자 구제를 위한 특별법안 제...</td>\n",
              "      <td>양승태 전 대법원장 체제하에서의 대법원이 상고 법원 설치 등 특정 목적을  관철 시...</td>\n",
              "      <td>제2조(정의) 이 법에서 사용하는 용어의 뜻은 다음과 같다.\\n1. “사법농단피해자...</td>\n",
              "      <td>법제사법위원회</td>\n",
              "      <td>동의만료폐기</td>\n",
              "      <td>2022-01-13 00:01:00</td>\n",
              "      <td>2021-12-13 17:47:48</td>\n",
              "      <td>429</td>\n",
              "    </tr>\n",
              "    <tr>\n",
              "      <th>335</th>\n",
              "      <td>SCNCE</td>\n",
              "      <td>과학기술/정보통신</td>\n",
              "      <td>n번방 방지법인 전기통신사업법 개정안의 재개정에 관한 청원</td>\n",
              "      <td>헌법 제 18조를 위배하며, 법의 효율성이 의심되는 해당 개정안에 대한 개정을 바람</td>\n",
              "      <td>먼저, 해당 개정안은 헌법 제18조를 위배할 우려가 큽니다. \"모든 국민은 통신의 ...</td>\n",
              "      <td>과학기술정보방송통신위원회</td>\n",
              "      <td>동의만료폐기</td>\n",
              "      <td>2022-01-13 00:01:00</td>\n",
              "      <td>2021-12-13 17:49:00</td>\n",
              "      <td>1853</td>\n",
              "    </tr>\n",
              "    <tr>\n",
              "      <th>336</th>\n",
              "      <td>POLITC</td>\n",
              "      <td>정치/선거/국회운영</td>\n",
              "      <td>수개표로 전환 안심 선거에 관한 청원</td>\n",
              "      <td>안녕하십니까? \\n\\n공직선거에서 전자개표가 도입된 이래 끊임없이 부정선거의 논란이...</td>\n",
              "      <td>1. ‘당일 투표’를 기본 원칙으로 한다.\\n\\n부정선거의 가능성이 높은 사전투표와...</td>\n",
              "      <td>행정안전위원회</td>\n",
              "      <td>동의만료폐기</td>\n",
              "      <td>2022-01-07 00:01:00</td>\n",
              "      <td>2021-12-07 16:21:09</td>\n",
              "      <td>3034</td>\n",
              "    </tr>\n",
              "    <tr>\n",
              "      <th>337</th>\n",
              "      <td>WLFARE</td>\n",
              "      <td>복지/보훈</td>\n",
              "      <td>발달재활서비스 제공 인력의 생존권을 위한 자격 인정 제도 개선에 관한 청원</td>\n",
              "      <td>수많은 치료사 ,선생님들 지금거리로 몰리고있습니다 도와주세요...</td>\n",
              "      <td>\\n발달재활서비스 제공인력 인증 강화 심사에 대해 청원합니다.\\n\\n안녕하세요. 경...</td>\n",
              "      <td>보건복지위원회</td>\n",
              "      <td>동의만료폐기</td>\n",
              "      <td>2022-01-07 00:01:00</td>\n",
              "      <td>2021-12-07 16:22:35</td>\n",
              "      <td>210</td>\n",
              "    </tr>\n",
              "    <tr>\n",
              "      <th>338</th>\n",
              "      <td>POLITC</td>\n",
              "      <td>정치/선거/국회운영</td>\n",
              "      <td>22년 3월 대선에서 수개표 시행을 위한 공직선거법 개정에 관한 청원</td>\n",
              "      <td>공직선거에서 전자개표가 도입된 이래 끊임없이 부정선거의 논란이 계속되고 있습니다. ...</td>\n",
              "      <td>1. ‘당일 투표’만 시행한다는 내용을 개정법안에 명시해 주십시오.\\n\\n부정선거의...</td>\n",
              "      <td>미확정</td>\n",
              "      <td>위원회심사</td>\n",
              "      <td>2022-01-06 14:49:10</td>\n",
              "      <td>2021-12-07 16:22:05</td>\n",
              "      <td>100000</td>\n",
              "    </tr>\n",
              "  </tbody>\n",
              "</table>\n",
              "<p>339 rows × 10 columns</p>\n",
              "</div>\n",
              "      <button class=\"colab-df-convert\" onclick=\"convertToInteractive('df-d2cdd750-8a7b-4759-803d-74a130421fd1')\"\n",
              "              title=\"Convert this dataframe to an interactive table.\"\n",
              "              style=\"display:none;\">\n",
              "        \n",
              "  <svg xmlns=\"http://www.w3.org/2000/svg\" height=\"24px\"viewBox=\"0 0 24 24\"\n",
              "       width=\"24px\">\n",
              "    <path d=\"M0 0h24v24H0V0z\" fill=\"none\"/>\n",
              "    <path d=\"M18.56 5.44l.94 2.06.94-2.06 2.06-.94-2.06-.94-.94-2.06-.94 2.06-2.06.94zm-11 1L8.5 8.5l.94-2.06 2.06-.94-2.06-.94L8.5 2.5l-.94 2.06-2.06.94zm10 10l.94 2.06.94-2.06 2.06-.94-2.06-.94-.94-2.06-.94 2.06-2.06.94z\"/><path d=\"M17.41 7.96l-1.37-1.37c-.4-.4-.92-.59-1.43-.59-.52 0-1.04.2-1.43.59L10.3 9.45l-7.72 7.72c-.78.78-.78 2.05 0 2.83L4 21.41c.39.39.9.59 1.41.59.51 0 1.02-.2 1.41-.59l7.78-7.78 2.81-2.81c.8-.78.8-2.07 0-2.86zM5.41 20L4 18.59l7.72-7.72 1.47 1.35L5.41 20z\"/>\n",
              "  </svg>\n",
              "      </button>\n",
              "      \n",
              "  <style>\n",
              "    .colab-df-container {\n",
              "      display:flex;\n",
              "      flex-wrap:wrap;\n",
              "      gap: 12px;\n",
              "    }\n",
              "\n",
              "    .colab-df-convert {\n",
              "      background-color: #E8F0FE;\n",
              "      border: none;\n",
              "      border-radius: 50%;\n",
              "      cursor: pointer;\n",
              "      display: none;\n",
              "      fill: #1967D2;\n",
              "      height: 32px;\n",
              "      padding: 0 0 0 0;\n",
              "      width: 32px;\n",
              "    }\n",
              "\n",
              "    .colab-df-convert:hover {\n",
              "      background-color: #E2EBFA;\n",
              "      box-shadow: 0px 1px 2px rgba(60, 64, 67, 0.3), 0px 1px 3px 1px rgba(60, 64, 67, 0.15);\n",
              "      fill: #174EA6;\n",
              "    }\n",
              "\n",
              "    [theme=dark] .colab-df-convert {\n",
              "      background-color: #3B4455;\n",
              "      fill: #D2E3FC;\n",
              "    }\n",
              "\n",
              "    [theme=dark] .colab-df-convert:hover {\n",
              "      background-color: #434B5C;\n",
              "      box-shadow: 0px 1px 3px 1px rgba(0, 0, 0, 0.15);\n",
              "      filter: drop-shadow(0px 1px 2px rgba(0, 0, 0, 0.3));\n",
              "      fill: #FFFFFF;\n",
              "    }\n",
              "  </style>\n",
              "\n",
              "      <script>\n",
              "        const buttonEl =\n",
              "          document.querySelector('#df-d2cdd750-8a7b-4759-803d-74a130421fd1 button.colab-df-convert');\n",
              "        buttonEl.style.display =\n",
              "          google.colab.kernel.accessAllowed ? 'block' : 'none';\n",
              "\n",
              "        async function convertToInteractive(key) {\n",
              "          const element = document.querySelector('#df-d2cdd750-8a7b-4759-803d-74a130421fd1');\n",
              "          const dataTable =\n",
              "            await google.colab.kernel.invokeFunction('convertToInteractive',\n",
              "                                                     [key], {});\n",
              "          if (!dataTable) return;\n",
              "\n",
              "          const docLinkHtml = 'Like what you see? Visit the ' +\n",
              "            '<a target=\"_blank\" href=https://colab.research.google.com/notebooks/data_table.ipynb>data table notebook</a>'\n",
              "            + ' to learn more about interactive tables.';\n",
              "          element.innerHTML = '';\n",
              "          dataTable['output_type'] = 'display_data';\n",
              "          await google.colab.output.renderOutput(dataTable, element);\n",
              "          const docLink = document.createElement('div');\n",
              "          docLink.innerHTML = docLinkHtml;\n",
              "          element.appendChild(docLink);\n",
              "        }\n",
              "      </script>\n",
              "    </div>\n",
              "  </div>\n",
              "  "
            ]
          },
          "metadata": {},
          "execution_count": 64
        }
      ]
    },
    {
      "cell_type": "markdown",
      "source": [
        "# 2. 데이터 기술분석 및 전처리"
      ],
      "metadata": {
        "id": "v4lRWUCyuol4"
      }
    },
    {
      "cell_type": "markdown",
      "source": [
        "\n",
        "\n",
        "▣ 결측값 확인\n",
        "\n"
      ],
      "metadata": {
        "id": "6IIhK_2pDCja"
      }
    },
    {
      "cell_type": "code",
      "source": [
        "# *   pandas 결측값 확인 및 처리\n",
        "#  *  결측값은 탐색적 데이터 분석에서도,\n",
        "# 나아가 머신 러닝 알고리즘을 통해 분석을 할 때에도 성능에 영향을 줄 수 있는 값\n",
        "# *   결측값은 아예 제거를 해주거나, 특정 값으로 채워주거나 크게 두 가지 선택을 해주는 것이 좋다.\n",
        "# [출처] : https://computer-science-student.tistory.com/306"
      ],
      "metadata": {
        "id": "RyGlVubaERiN"
      },
      "execution_count": null,
      "outputs": []
    },
    {
      "cell_type": "markdown",
      "source": [
        "\n",
        "\n",
        "▶ 결측값 확인 - isnull(), isnull().sum()\n",
        "\n",
        "*   \n",
        "\n",
        "\n",
        "▶ 결측값 있는 행, 열 제거 - dropna()\n",
        "\n",
        "*   \n",
        "\n",
        "▶ 결측값 채우기 - fillna()\n",
        "\n",
        "현재 하고 싶은 행위는 결측값 채우거나 제거하는 것이 아닌 있는지 확인이므로 1번 방법 진행\n",
        "\n",
        "\n",
        "\n"
      ],
      "metadata": {
        "id": "rfpnmncbEC6U"
      }
    },
    {
      "cell_type": "code",
      "source": [
        "df_petit.isnull().sum() #결측값 X"
      ],
      "metadata": {
        "id": "6rl7XclFGIhi",
        "colab": {
          "base_uri": "https://localhost:8080/"
        },
        "outputId": "915fe3eb-bae9-45f8-e62c-6be0c81d5ab3"
      },
      "execution_count": null,
      "outputs": [
        {
          "output_type": "execute_result",
          "data": {
            "text/plain": [
              "분야코드       0\n",
              "분야         0\n",
              "청원제목       0\n",
              "청원취지       0\n",
              "청원내용       0\n",
              "심사위원회      0\n",
              "청원결과       0\n",
              "청원종료일      0\n",
              "청원동의시작일    0\n",
              "청원동의수      0\n",
              "dtype: int64"
            ]
          },
          "metadata": {},
          "execution_count": 78
        }
      ]
    },
    {
      "cell_type": "markdown",
      "source": [
        "▣ 중복값 확인"
      ],
      "metadata": {
        "id": "7WXbSA3wFVo9"
      }
    },
    {
      "cell_type": "code",
      "source": [
        "df_petit.duplicated() #중복값 없음"
      ],
      "metadata": {
        "colab": {
          "base_uri": "https://localhost:8080/"
        },
        "id": "QlxQjOkHFWX7",
        "outputId": "ecc752b4-25c9-4028-91b5-499cba040d24"
      },
      "execution_count": 66,
      "outputs": [
        {
          "output_type": "execute_result",
          "data": {
            "text/plain": [
              "0      False\n",
              "1      False\n",
              "2      False\n",
              "3      False\n",
              "4      False\n",
              "       ...  \n",
              "334    False\n",
              "335    False\n",
              "336    False\n",
              "337    False\n",
              "338    False\n",
              "Length: 339, dtype: bool"
            ]
          },
          "metadata": {},
          "execution_count": 66
        }
      ]
    },
    {
      "cell_type": "markdown",
      "source": [
        "\n",
        "\n",
        "▣ 데이터 정보 확인\n",
        "\n",
        "\n",
        "\n",
        "*   클래스 및 데이터 타입 확인\n",
        "\n",
        "\n",
        "\n",
        "\n",
        "\n",
        "\n",
        "\n"
      ],
      "metadata": {
        "id": "7OV-vwHwEt3H"
      }
    },
    {
      "cell_type": "code",
      "source": [
        "df_petit.info()\n",
        "# 여기서도 결측값이 없는것 확인 가능"
      ],
      "metadata": {
        "id": "IaSyD9Gr2Qd8",
        "colab": {
          "base_uri": "https://localhost:8080/"
        },
        "outputId": "9555cbcf-e083-490b-8a0f-4c8dc49ce7bc"
      },
      "execution_count": 67,
      "outputs": [
        {
          "output_type": "stream",
          "name": "stdout",
          "text": [
            "<class 'pandas.core.frame.DataFrame'>\n",
            "RangeIndex: 339 entries, 0 to 338\n",
            "Data columns (total 10 columns):\n",
            " #   Column    Non-Null Count  Dtype \n",
            "---  ------    --------------  ----- \n",
            " 0   분야코드      339 non-null    object\n",
            " 1   분야        339 non-null    object\n",
            " 2   청원제목      339 non-null    object\n",
            " 3   청원취지      339 non-null    object\n",
            " 4   청원내용      339 non-null    object\n",
            " 5   심사위원회     339 non-null    object\n",
            " 6   청원결과      339 non-null    object\n",
            " 7   청원동의 종료일  339 non-null    object\n",
            " 8   청원동의 시작일  339 non-null    object\n",
            " 9   청원동의수     339 non-null    int64 \n",
            "dtypes: int64(1), object(9)\n",
            "memory usage: 26.6+ KB\n"
          ]
        }
      ]
    },
    {
      "cell_type": "markdown",
      "source": [
        "▣ 수치형 변수의 기초 통계"
      ],
      "metadata": {
        "id": "ejIt6b4qFVNV"
      }
    },
    {
      "cell_type": "code",
      "source": [
        "df_petit.describe()\n",
        "# 2022년 한 해동안 총 청원은 339건"
      ],
      "metadata": {
        "id": "ZZfvEfE42Tyn",
        "colab": {
          "base_uri": "https://localhost:8080/",
          "height": 300
        },
        "outputId": "7a1efd8f-bb3f-439d-ac22-9c71b968f0f9"
      },
      "execution_count": 68,
      "outputs": [
        {
          "output_type": "execute_result",
          "data": {
            "text/plain": [
              "               청원동의수\n",
              "count     339.000000\n",
              "mean     6306.053097\n",
              "std     14732.770807\n",
              "min       108.000000\n",
              "25%       214.500000\n",
              "50%       473.000000\n",
              "75%      2505.000000\n",
              "max    100000.000000"
            ],
            "text/html": [
              "\n",
              "  <div id=\"df-02e35cce-9134-4a59-9036-53824846f060\">\n",
              "    <div class=\"colab-df-container\">\n",
              "      <div>\n",
              "<style scoped>\n",
              "    .dataframe tbody tr th:only-of-type {\n",
              "        vertical-align: middle;\n",
              "    }\n",
              "\n",
              "    .dataframe tbody tr th {\n",
              "        vertical-align: top;\n",
              "    }\n",
              "\n",
              "    .dataframe thead th {\n",
              "        text-align: right;\n",
              "    }\n",
              "</style>\n",
              "<table border=\"1\" class=\"dataframe\">\n",
              "  <thead>\n",
              "    <tr style=\"text-align: right;\">\n",
              "      <th></th>\n",
              "      <th>청원동의수</th>\n",
              "    </tr>\n",
              "  </thead>\n",
              "  <tbody>\n",
              "    <tr>\n",
              "      <th>count</th>\n",
              "      <td>339.000000</td>\n",
              "    </tr>\n",
              "    <tr>\n",
              "      <th>mean</th>\n",
              "      <td>6306.053097</td>\n",
              "    </tr>\n",
              "    <tr>\n",
              "      <th>std</th>\n",
              "      <td>14732.770807</td>\n",
              "    </tr>\n",
              "    <tr>\n",
              "      <th>min</th>\n",
              "      <td>108.000000</td>\n",
              "    </tr>\n",
              "    <tr>\n",
              "      <th>25%</th>\n",
              "      <td>214.500000</td>\n",
              "    </tr>\n",
              "    <tr>\n",
              "      <th>50%</th>\n",
              "      <td>473.000000</td>\n",
              "    </tr>\n",
              "    <tr>\n",
              "      <th>75%</th>\n",
              "      <td>2505.000000</td>\n",
              "    </tr>\n",
              "    <tr>\n",
              "      <th>max</th>\n",
              "      <td>100000.000000</td>\n",
              "    </tr>\n",
              "  </tbody>\n",
              "</table>\n",
              "</div>\n",
              "      <button class=\"colab-df-convert\" onclick=\"convertToInteractive('df-02e35cce-9134-4a59-9036-53824846f060')\"\n",
              "              title=\"Convert this dataframe to an interactive table.\"\n",
              "              style=\"display:none;\">\n",
              "        \n",
              "  <svg xmlns=\"http://www.w3.org/2000/svg\" height=\"24px\"viewBox=\"0 0 24 24\"\n",
              "       width=\"24px\">\n",
              "    <path d=\"M0 0h24v24H0V0z\" fill=\"none\"/>\n",
              "    <path d=\"M18.56 5.44l.94 2.06.94-2.06 2.06-.94-2.06-.94-.94-2.06-.94 2.06-2.06.94zm-11 1L8.5 8.5l.94-2.06 2.06-.94-2.06-.94L8.5 2.5l-.94 2.06-2.06.94zm10 10l.94 2.06.94-2.06 2.06-.94-2.06-.94-.94-2.06-.94 2.06-2.06.94z\"/><path d=\"M17.41 7.96l-1.37-1.37c-.4-.4-.92-.59-1.43-.59-.52 0-1.04.2-1.43.59L10.3 9.45l-7.72 7.72c-.78.78-.78 2.05 0 2.83L4 21.41c.39.39.9.59 1.41.59.51 0 1.02-.2 1.41-.59l7.78-7.78 2.81-2.81c.8-.78.8-2.07 0-2.86zM5.41 20L4 18.59l7.72-7.72 1.47 1.35L5.41 20z\"/>\n",
              "  </svg>\n",
              "      </button>\n",
              "      \n",
              "  <style>\n",
              "    .colab-df-container {\n",
              "      display:flex;\n",
              "      flex-wrap:wrap;\n",
              "      gap: 12px;\n",
              "    }\n",
              "\n",
              "    .colab-df-convert {\n",
              "      background-color: #E8F0FE;\n",
              "      border: none;\n",
              "      border-radius: 50%;\n",
              "      cursor: pointer;\n",
              "      display: none;\n",
              "      fill: #1967D2;\n",
              "      height: 32px;\n",
              "      padding: 0 0 0 0;\n",
              "      width: 32px;\n",
              "    }\n",
              "\n",
              "    .colab-df-convert:hover {\n",
              "      background-color: #E2EBFA;\n",
              "      box-shadow: 0px 1px 2px rgba(60, 64, 67, 0.3), 0px 1px 3px 1px rgba(60, 64, 67, 0.15);\n",
              "      fill: #174EA6;\n",
              "    }\n",
              "\n",
              "    [theme=dark] .colab-df-convert {\n",
              "      background-color: #3B4455;\n",
              "      fill: #D2E3FC;\n",
              "    }\n",
              "\n",
              "    [theme=dark] .colab-df-convert:hover {\n",
              "      background-color: #434B5C;\n",
              "      box-shadow: 0px 1px 3px 1px rgba(0, 0, 0, 0.15);\n",
              "      filter: drop-shadow(0px 1px 2px rgba(0, 0, 0, 0.3));\n",
              "      fill: #FFFFFF;\n",
              "    }\n",
              "  </style>\n",
              "\n",
              "      <script>\n",
              "        const buttonEl =\n",
              "          document.querySelector('#df-02e35cce-9134-4a59-9036-53824846f060 button.colab-df-convert');\n",
              "        buttonEl.style.display =\n",
              "          google.colab.kernel.accessAllowed ? 'block' : 'none';\n",
              "\n",
              "        async function convertToInteractive(key) {\n",
              "          const element = document.querySelector('#df-02e35cce-9134-4a59-9036-53824846f060');\n",
              "          const dataTable =\n",
              "            await google.colab.kernel.invokeFunction('convertToInteractive',\n",
              "                                                     [key], {});\n",
              "          if (!dataTable) return;\n",
              "\n",
              "          const docLinkHtml = 'Like what you see? Visit the ' +\n",
              "            '<a target=\"_blank\" href=https://colab.research.google.com/notebooks/data_table.ipynb>data table notebook</a>'\n",
              "            + ' to learn more about interactive tables.';\n",
              "          element.innerHTML = '';\n",
              "          dataTable['output_type'] = 'display_data';\n",
              "          await google.colab.output.renderOutput(dataTable, element);\n",
              "          const docLink = document.createElement('div');\n",
              "          docLink.innerHTML = docLinkHtml;\n",
              "          element.appendChild(docLink);\n",
              "        }\n",
              "      </script>\n",
              "    </div>\n",
              "  </div>\n",
              "  "
            ]
          },
          "metadata": {},
          "execution_count": 68
        }
      ]
    },
    {
      "cell_type": "markdown",
      "source": [
        "💡 그런데 2022년 부터는 청원의 동의수가 50,000이상만 되어도 통과인데 \n",
        "max = 100,000 인 값 발견 "
      ],
      "metadata": {
        "id": "4aqmE8nwEoqG"
      }
    },
    {
      "cell_type": "markdown",
      "source": [
        "▣ 이상치 확인"
      ],
      "metadata": {
        "id": "VQi5D2YrESei"
      }
    },
    {
      "cell_type": "code",
      "source": [
        "# 이상치 확인\n",
        "# IQR method\n",
        "import matplotlib.pyplot as plt\n",
        "\n",
        "fig, ax = plt.subplots()\n",
        "ax.boxplot(df_petit['청원동의수'])\n",
        "plt.show()"
      ],
      "metadata": {
        "colab": {
          "base_uri": "https://localhost:8080/",
          "height": 265
        },
        "id": "V9_VLKFREAVA",
        "outputId": "058fc782-7be7-4f62-b617-4c47e49fa9c6"
      },
      "execution_count": 75,
      "outputs": [
        {
          "output_type": "display_data",
          "data": {
            "text/plain": [
              "<Figure size 432x288 with 1 Axes>"
            ],
            "image/png": "[encoded data removed]"
          },
          "metadata": {
            "needs_background": "light"
          }
        }
      ]
    },
    {
      "cell_type": "code",
      "source": [
        "# max 100,000인 데이터를 가져와보자. 총 1건\n",
        "df_petit_100000 = df_petit[df_petit['청원동의수'] == 100000]\n",
        "df_petit_100000\n",
        "\n",
        "# 제일 마지막 페이지의 마지막 청원 ( = 2022년 1월 처음 종료된 청원) 1건\n",
        "# 종료일 기준으로 가져와서 동의시작일이 2021년이어도 수집에 포함됨"
      ],
      "metadata": {
        "colab": {
          "base_uri": "https://localhost:8080/",
          "height": 229
        },
        "id": "BRt0oZEPEX-k",
        "outputId": "4020a1d9-29b2-4a65-d632-ba4f8db68744"
      },
      "execution_count": 84,
      "outputs": [
        {
          "output_type": "execute_result",
          "data": {
            "text/plain": [
              "       분야코드          분야                                    청원제목  \\\n",
              "338  POLITC  정치/선거/국회운영  22년 3월 대선에서 수개표 시행을 위한 공직선거법 개정에 관한 청원   \n",
              "\n",
              "                                                  청원취지  \\\n",
              "338  공직선거에서 전자개표가 도입된 이래 끊임없이 부정선거의 논란이 계속되고 있습니다. ...   \n",
              "\n",
              "                                                  청원내용 심사위원회   청원결과  \\\n",
              "338  1. ‘당일 투표’만 시행한다는 내용을 개정법안에 명시해 주십시오.\\n\\n부정선거의...   미확정  위원회심사   \n",
              "\n",
              "                청원동의 종료일             청원동의 시작일   청원동의수  \n",
              "338  2022-01-06 14:49:10  2021-12-07 16:22:05  100000  "
            ],
            "text/html": [
              "\n",
              "  <div id=\"df-b6e685c9-c4e9-4ea1-827e-b00c140da700\">\n",
              "    <div class=\"colab-df-container\">\n",
              "      <div>\n",
              "<style scoped>\n",
              "    .dataframe tbody tr th:only-of-type {\n",
              "        vertical-align: middle;\n",
              "    }\n",
              "\n",
              "    .dataframe tbody tr th {\n",
              "        vertical-align: top;\n",
              "    }\n",
              "\n",
              "    .dataframe thead th {\n",
              "        text-align: right;\n",
              "    }\n",
              "</style>\n",
              "<table border=\"1\" class=\"dataframe\">\n",
              "  <thead>\n",
              "    <tr style=\"text-align: right;\">\n",
              "      <th></th>\n",
              "      <th>분야코드</th>\n",
              "      <th>분야</th>\n",
              "      <th>청원제목</th>\n",
              "      <th>청원취지</th>\n",
              "      <th>청원내용</th>\n",
              "      <th>심사위원회</th>\n",
              "      <th>청원결과</th>\n",
              "      <th>청원동의 종료일</th>\n",
              "      <th>청원동의 시작일</th>\n",
              "      <th>청원동의수</th>\n",
              "    </tr>\n",
              "  </thead>\n",
              "  <tbody>\n",
              "    <tr>\n",
              "      <th>338</th>\n",
              "      <td>POLITC</td>\n",
              "      <td>정치/선거/국회운영</td>\n",
              "      <td>22년 3월 대선에서 수개표 시행을 위한 공직선거법 개정에 관한 청원</td>\n",
              "      <td>공직선거에서 전자개표가 도입된 이래 끊임없이 부정선거의 논란이 계속되고 있습니다. ...</td>\n",
              "      <td>1. ‘당일 투표’만 시행한다는 내용을 개정법안에 명시해 주십시오.\\n\\n부정선거의...</td>\n",
              "      <td>미확정</td>\n",
              "      <td>위원회심사</td>\n",
              "      <td>2022-01-06 14:49:10</td>\n",
              "      <td>2021-12-07 16:22:05</td>\n",
              "      <td>100000</td>\n",
              "    </tr>\n",
              "  </tbody>\n",
              "</table>\n",
              "</div>\n",
              "      <button class=\"colab-df-convert\" onclick=\"convertToInteractive('df-b6e685c9-c4e9-4ea1-827e-b00c140da700')\"\n",
              "              title=\"Convert this dataframe to an interactive table.\"\n",
              "              style=\"display:none;\">\n",
              "        \n",
              "  <svg xmlns=\"http://www.w3.org/2000/svg\" height=\"24px\"viewBox=\"0 0 24 24\"\n",
              "       width=\"24px\">\n",
              "    <path d=\"M0 0h24v24H0V0z\" fill=\"none\"/>\n",
              "    <path d=\"M18.56 5.44l.94 2.06.94-2.06 2.06-.94-2.06-.94-.94-2.06-.94 2.06-2.06.94zm-11 1L8.5 8.5l.94-2.06 2.06-.94-2.06-.94L8.5 2.5l-.94 2.06-2.06.94zm10 10l.94 2.06.94-2.06 2.06-.94-2.06-.94-.94-2.06-.94 2.06-2.06.94z\"/><path d=\"M17.41 7.96l-1.37-1.37c-.4-.4-.92-.59-1.43-.59-.52 0-1.04.2-1.43.59L10.3 9.45l-7.72 7.72c-.78.78-.78 2.05 0 2.83L4 21.41c.39.39.9.59 1.41.59.51 0 1.02-.2 1.41-.59l7.78-7.78 2.81-2.81c.8-.78.8-2.07 0-2.86zM5.41 20L4 18.59l7.72-7.72 1.47 1.35L5.41 20z\"/>\n",
              "  </svg>\n",
              "      </button>\n",
              "      \n",
              "  <style>\n",
              "    .colab-df-container {\n",
              "      display:flex;\n",
              "      flex-wrap:wrap;\n",
              "      gap: 12px;\n",
              "    }\n",
              "\n",
              "    .colab-df-convert {\n",
              "      background-color: #E8F0FE;\n",
              "      border: none;\n",
              "      border-radius: 50%;\n",
              "      cursor: pointer;\n",
              "      display: none;\n",
              "      fill: #1967D2;\n",
              "      height: 32px;\n",
              "      padding: 0 0 0 0;\n",
              "      width: 32px;\n",
              "    }\n",
              "\n",
              "    .colab-df-convert:hover {\n",
              "      background-color: #E2EBFA;\n",
              "      box-shadow: 0px 1px 2px rgba(60, 64, 67, 0.3), 0px 1px 3px 1px rgba(60, 64, 67, 0.15);\n",
              "      fill: #174EA6;\n",
              "    }\n",
              "\n",
              "    [theme=dark] .colab-df-convert {\n",
              "      background-color: #3B4455;\n",
              "      fill: #D2E3FC;\n",
              "    }\n",
              "\n",
              "    [theme=dark] .colab-df-convert:hover {\n",
              "      background-color: #434B5C;\n",
              "      box-shadow: 0px 1px 3px 1px rgba(0, 0, 0, 0.15);\n",
              "      filter: drop-shadow(0px 1px 2px rgba(0, 0, 0, 0.3));\n",
              "      fill: #FFFFFF;\n",
              "    }\n",
              "  </style>\n",
              "\n",
              "      <script>\n",
              "        const buttonEl =\n",
              "          document.querySelector('#df-b6e685c9-c4e9-4ea1-827e-b00c140da700 button.colab-df-convert');\n",
              "        buttonEl.style.display =\n",
              "          google.colab.kernel.accessAllowed ? 'block' : 'none';\n",
              "\n",
              "        async function convertToInteractive(key) {\n",
              "          const element = document.querySelector('#df-b6e685c9-c4e9-4ea1-827e-b00c140da700');\n",
              "          const dataTable =\n",
              "            await google.colab.kernel.invokeFunction('convertToInteractive',\n",
              "                                                     [key], {});\n",
              "          if (!dataTable) return;\n",
              "\n",
              "          const docLinkHtml = 'Like what you see? Visit the ' +\n",
              "            '<a target=\"_blank\" href=https://colab.research.google.com/notebooks/data_table.ipynb>data table notebook</a>'\n",
              "            + ' to learn more about interactive tables.';\n",
              "          element.innerHTML = '';\n",
              "          dataTable['output_type'] = 'display_data';\n",
              "          await google.colab.output.renderOutput(dataTable, element);\n",
              "          const docLink = document.createElement('div');\n",
              "          docLink.innerHTML = docLinkHtml;\n",
              "          element.appendChild(docLink);\n",
              "        }\n",
              "      </script>\n",
              "    </div>\n",
              "  </div>\n",
              "  "
            ]
          },
          "metadata": {},
          "execution_count": 84
        }
      ]
    },
    {
      "cell_type": "markdown",
      "source": [
        "▣ 범주형(객체) 변수의 기초 통계"
      ],
      "metadata": {
        "id": "U1y88WWcGx58"
      }
    },
    {
      "cell_type": "code",
      "source": [
        "df_petit.describe(include = 'O')"
      ],
      "metadata": {
        "colab": {
          "base_uri": "https://localhost:8080/",
          "height": 271
        },
        "id": "aSfIqCfQG7Ev",
        "outputId": "cf809bfd-aa5b-4216-df25-0850ec37faca"
      },
      "execution_count": 85,
      "outputs": [
        {
          "output_type": "execute_result",
          "data": {
            "text/plain": [
              "         분야코드    분야                            청원제목  \\\n",
              "count     339   339                             339   \n",
              "unique     18    18                             334   \n",
              "top     HMCCS  보건의료  코로나 백신 접종 중단과 부작용 피해 조사에 관한 청원   \n",
              "freq       57    57                               3   \n",
              "\n",
              "                                                     청원취지  \\\n",
              "count                                                 339   \n",
              "unique                                                335   \n",
              "top     양승태 전 대법원장 체제하에서의 대법원이 상고 법원 \\n설치 등 특정 목적을 관철 ...   \n",
              "freq                                                    4   \n",
              "\n",
              "                                                     청원내용    심사위원회    청원결과  \\\n",
              "count                                                 339      339     339   \n",
              "unique                                                338       19       4   \n",
              "top     # 관련 파일 첨부 참조 요망 #\\n제2조(정의) 이 법에서 사용하는 용어의 뜻은 ...  보건복지위원회  동의만료폐기   \n",
              "freq                                                    2       68     311   \n",
              "\n",
              "                   청원동의 종료일             청원동의 시작일  \n",
              "count                   339                  339  \n",
              "unique                  117                  339  \n",
              "top     2022-09-01 00:01:00  2022-11-30 09:52:01  \n",
              "freq                     13                    1  "
            ],
            "text/html": [
              "\n",
              "  <div id=\"df-d943b560-f84e-4993-8c0a-9cb184fb9b3a\">\n",
              "    <div class=\"colab-df-container\">\n",
              "      <div>\n",
              "<style scoped>\n",
              "    .dataframe tbody tr th:only-of-type {\n",
              "        vertical-align: middle;\n",
              "    }\n",
              "\n",
              "    .dataframe tbody tr th {\n",
              "        vertical-align: top;\n",
              "    }\n",
              "\n",
              "    .dataframe thead th {\n",
              "        text-align: right;\n",
              "    }\n",
              "</style>\n",
              "<table border=\"1\" class=\"dataframe\">\n",
              "  <thead>\n",
              "    <tr style=\"text-align: right;\">\n",
              "      <th></th>\n",
              "      <th>분야코드</th>\n",
              "      <th>분야</th>\n",
              "      <th>청원제목</th>\n",
              "      <th>청원취지</th>\n",
              "      <th>청원내용</th>\n",
              "      <th>심사위원회</th>\n",
              "      <th>청원결과</th>\n",
              "      <th>청원동의 종료일</th>\n",
              "      <th>청원동의 시작일</th>\n",
              "    </tr>\n",
              "  </thead>\n",
              "  <tbody>\n",
              "    <tr>\n",
              "      <th>count</th>\n",
              "      <td>339</td>\n",
              "      <td>339</td>\n",
              "      <td>339</td>\n",
              "      <td>339</td>\n",
              "      <td>339</td>\n",
              "      <td>339</td>\n",
              "      <td>339</td>\n",
              "      <td>339</td>\n",
              "      <td>339</td>\n",
              "    </tr>\n",
              "    <tr>\n",
              "      <th>unique</th>\n",
              "      <td>18</td>\n",
              "      <td>18</td>\n",
              "      <td>334</td>\n",
              "      <td>335</td>\n",
              "      <td>338</td>\n",
              "      <td>19</td>\n",
              "      <td>4</td>\n",
              "      <td>117</td>\n",
              "      <td>339</td>\n",
              "    </tr>\n",
              "    <tr>\n",
              "      <th>top</th>\n",
              "      <td>HMCCS</td>\n",
              "      <td>보건의료</td>\n",
              "      <td>코로나 백신 접종 중단과 부작용 피해 조사에 관한 청원</td>\n",
              "      <td>양승태 전 대법원장 체제하에서의 대법원이 상고 법원 \\n설치 등 특정 목적을 관철 ...</td>\n",
              "      <td># 관련 파일 첨부 참조 요망 #\\n제2조(정의) 이 법에서 사용하는 용어의 뜻은 ...</td>\n",
              "      <td>보건복지위원회</td>\n",
              "      <td>동의만료폐기</td>\n",
              "      <td>2022-09-01 00:01:00</td>\n",
              "      <td>2022-11-30 09:52:01</td>\n",
              "    </tr>\n",
              "    <tr>\n",
              "      <th>freq</th>\n",
              "      <td>57</td>\n",
              "      <td>57</td>\n",
              "      <td>3</td>\n",
              "      <td>4</td>\n",
              "      <td>2</td>\n",
              "      <td>68</td>\n",
              "      <td>311</td>\n",
              "      <td>13</td>\n",
              "      <td>1</td>\n",
              "    </tr>\n",
              "  </tbody>\n",
              "</table>\n",
              "</div>\n",
              "      <button class=\"colab-df-convert\" onclick=\"convertToInteractive('df-d943b560-f84e-4993-8c0a-9cb184fb9b3a')\"\n",
              "              title=\"Convert this dataframe to an interactive table.\"\n",
              "              style=\"display:none;\">\n",
              "        \n",
              "  <svg xmlns=\"http://www.w3.org/2000/svg\" height=\"24px\"viewBox=\"0 0 24 24\"\n",
              "       width=\"24px\">\n",
              "    <path d=\"M0 0h24v24H0V0z\" fill=\"none\"/>\n",
              "    <path d=\"M18.56 5.44l.94 2.06.94-2.06 2.06-.94-2.06-.94-.94-2.06-.94 2.06-2.06.94zm-11 1L8.5 8.5l.94-2.06 2.06-.94-2.06-.94L8.5 2.5l-.94 2.06-2.06.94zm10 10l.94 2.06.94-2.06 2.06-.94-2.06-.94-.94-2.06-.94 2.06-2.06.94z\"/><path d=\"M17.41 7.96l-1.37-1.37c-.4-.4-.92-.59-1.43-.59-.52 0-1.04.2-1.43.59L10.3 9.45l-7.72 7.72c-.78.78-.78 2.05 0 2.83L4 21.41c.39.39.9.59 1.41.59.51 0 1.02-.2 1.41-.59l7.78-7.78 2.81-2.81c.8-.78.8-2.07 0-2.86zM5.41 20L4 18.59l7.72-7.72 1.47 1.35L5.41 20z\"/>\n",
              "  </svg>\n",
              "      </button>\n",
              "      \n",
              "  <style>\n",
              "    .colab-df-container {\n",
              "      display:flex;\n",
              "      flex-wrap:wrap;\n",
              "      gap: 12px;\n",
              "    }\n",
              "\n",
              "    .colab-df-convert {\n",
              "      background-color: #E8F0FE;\n",
              "      border: none;\n",
              "      border-radius: 50%;\n",
              "      cursor: pointer;\n",
              "      display: none;\n",
              "      fill: #1967D2;\n",
              "      height: 32px;\n",
              "      padding: 0 0 0 0;\n",
              "      width: 32px;\n",
              "    }\n",
              "\n",
              "    .colab-df-convert:hover {\n",
              "      background-color: #E2EBFA;\n",
              "      box-shadow: 0px 1px 2px rgba(60, 64, 67, 0.3), 0px 1px 3px 1px rgba(60, 64, 67, 0.15);\n",
              "      fill: #174EA6;\n",
              "    }\n",
              "\n",
              "    [theme=dark] .colab-df-convert {\n",
              "      background-color: #3B4455;\n",
              "      fill: #D2E3FC;\n",
              "    }\n",
              "\n",
              "    [theme=dark] .colab-df-convert:hover {\n",
              "      background-color: #434B5C;\n",
              "      box-shadow: 0px 1px 3px 1px rgba(0, 0, 0, 0.15);\n",
              "      filter: drop-shadow(0px 1px 2px rgba(0, 0, 0, 0.3));\n",
              "      fill: #FFFFFF;\n",
              "    }\n",
              "  </style>\n",
              "\n",
              "      <script>\n",
              "        const buttonEl =\n",
              "          document.querySelector('#df-d943b560-f84e-4993-8c0a-9cb184fb9b3a button.colab-df-convert');\n",
              "        buttonEl.style.display =\n",
              "          google.colab.kernel.accessAllowed ? 'block' : 'none';\n",
              "\n",
              "        async function convertToInteractive(key) {\n",
              "          const element = document.querySelector('#df-d943b560-f84e-4993-8c0a-9cb184fb9b3a');\n",
              "          const dataTable =\n",
              "            await google.colab.kernel.invokeFunction('convertToInteractive',\n",
              "                                                     [key], {});\n",
              "          if (!dataTable) return;\n",
              "\n",
              "          const docLinkHtml = 'Like what you see? Visit the ' +\n",
              "            '<a target=\"_blank\" href=https://colab.research.google.com/notebooks/data_table.ipynb>data table notebook</a>'\n",
              "            + ' to learn more about interactive tables.';\n",
              "          element.innerHTML = '';\n",
              "          dataTable['output_type'] = 'display_data';\n",
              "          await google.colab.output.renderOutput(dataTable, element);\n",
              "          const docLink = document.createElement('div');\n",
              "          docLink.innerHTML = docLinkHtml;\n",
              "          element.appendChild(docLink);\n",
              "        }\n",
              "      </script>\n",
              "    </div>\n",
              "  </div>\n",
              "  "
            ]
          },
          "metadata": {},
          "execution_count": 85
        }
      ]
    },
    {
      "cell_type": "markdown",
      "source": [
        "\n",
        "\n",
        "* 💡 총 18개의 분야 중 청원이 가장 많은 분야는 '보건의료' \n",
        "* 💡 그래서 청원이 가장 많이 통과 된 위원회도 '보건복지위원회'\n",
        "* 💡 2022년도 역시 코로나가 가라앉지 않았기 때문에 코로나 관련 청원이 많은 것 같다\n",
        "\n",
        "\n"
      ],
      "metadata": {
        "id": "BOCH3sTkFgSa"
      }
    },
    {
      "cell_type": "markdown",
      "source": [
        "# 3. 데이터 분석 방향 및 시각화"
      ],
      "metadata": {
        "id": "hyiLhbs6Jtxh"
      }
    },
    {
      "cell_type": "markdown",
      "source": [
        "\n",
        "\n",
        "## ● 분석 방향\n",
        "\n",
        "\n",
        "\n"
      ],
      "metadata": {
        "id": "nxfzfCK7GQ57"
      }
    },
    {
      "cell_type": "markdown",
      "source": [
        "## 1) 데이터에서 청원 수 통과된(= 동의 수 50,000이 넘는) 청원내용 확인"
      ],
      "metadata": {
        "id": "NsxzdfHfFWU6"
      }
    },
    {
      "cell_type": "code",
      "source": [
        "df_agree = df_petit[df_petit['청원동의수'] >= 50000]\n",
        "df_agree"
      ],
      "metadata": {
        "id": "nxI_MUjfFWAf"
      },
      "execution_count": null,
      "outputs": []
    },
    {
      "cell_type": "code",
      "source": [
        "df_agree.shape \n",
        "# 총 28개의 청원이 통과되었다"
      ],
      "metadata": {
        "colab": {
          "base_uri": "https://localhost:8080/"
        },
        "id": "yD9qvahZFawz",
        "outputId": "468686b6-2ae9-4181-89c1-00239af0544d"
      },
      "execution_count": 87,
      "outputs": [
        {
          "output_type": "execute_result",
          "data": {
            "text/plain": [
              "(28, 10)"
            ]
          },
          "metadata": {},
          "execution_count": 87
        }
      ]
    },
    {
      "cell_type": "markdown",
      "source": [
        "## 2) 데이터에서 통과되지 못한 청원내용 확인"
      ],
      "metadata": {
        "id": "FFevmk27GCg5"
      }
    },
    {
      "cell_type": "code",
      "source": [
        "df_disagree = df_petit[df_petit['청원동의수'] < 50000]\n",
        "df_disagree"
      ],
      "metadata": {
        "id": "fsLUiFkjGa5K"
      },
      "execution_count": null,
      "outputs": []
    },
    {
      "cell_type": "code",
      "source": [
        "df_disagree.shape\n",
        "# 동의 된 청원을 제외한 모든 청원"
      ],
      "metadata": {
        "colab": {
          "base_uri": "https://localhost:8080/"
        },
        "id": "KMiSVCyxGa2q",
        "outputId": "409ac5ca-538d-4bb9-d3e8-497ceaa2cd9e"
      },
      "execution_count": 89,
      "outputs": [
        {
          "output_type": "execute_result",
          "data": {
            "text/plain": [
              "(311, 10)"
            ]
          },
          "metadata": {},
          "execution_count": 89
        }
      ]
    },
    {
      "cell_type": "markdown",
      "source": [
        "## 2-1) 통과되지 못한 청원 중 동의수가 가장 높은 청원"
      ],
      "metadata": {
        "id": "hczk_lNuHETC"
      }
    },
    {
      "cell_type": "code",
      "source": [
        "df_disag = df_disagree.sort_values(by = '청원동의수', ascending = False)\n",
        "df_disag.head(5)"
      ],
      "metadata": {
        "colab": {
          "base_uri": "https://localhost:8080/",
          "height": 580
        },
        "id": "dFPEF2lfGa0S",
        "outputId": "0cc2c558-2f29-450b-8921-583b0b12e5e6"
      },
      "execution_count": 91,
      "outputs": [
        {
          "output_type": "execute_result",
          "data": {
            "text/plain": [
              "       분야코드           분야                                               청원제목  \\\n",
              "98   INDUST        산업/통상  구멍 뚫린 GMO수입검역체계 OUT, 유전자변형생물체의국가간이동등에관한법률의 개정에...   \n",
              "300   INVST   수사/법무/사법제도  양승태 전 대법원장 재임기간 중의 사법농단 의혹사건 피해자 구제를 위한 특별법안 제...   \n",
              "45    FNANC  재정/세제/금융/예산  1,400만명 개인주주를 절망에 빠트리고 건전한 자본시장을 좀먹는 공매도의 한시적 ...   \n",
              "329   INVST   수사/법무/사법제도                                코로나 백신 특검 요청에 관한 청원   \n",
              "224   INVST   수사/법무/사법제도                촉법소년인 학교폭력 및 성폭행 가해자들의 엄중 처벌에 관한 청원   \n",
              "\n",
              "                                                  청원취지  \\\n",
              "98   ▶전 세계 약 180개 국가는 GMO의 인체 ·환경 피해를 사전방지하기 위해 공동의...   \n",
              "300  양승태 전 대법원장 체제하에서의 대법원이 상고 법원 설치 등 특정 목적을  관철 시...   \n",
              "45   1) 본 청원은 우리 증시를 글로벌 증시 대비 과도하게 하락한 상황이 정상화될 때까...   \n",
              "329  너무나도 많은 국민이 백신 부작용으로 큰 피해를 보고 있고, 정작 최선의 대안은 백...   \n",
              "224  촉법소년 이란 이유로 너무나도 큰 죄를 지었음에 불구하고 처벌이 되지 않는다는것은 ...   \n",
              "\n",
              "                                                  청원내용            심사위원회  \\\n",
              "98   1996년 GMO가 처음 상업화된 후 30년 가까운 시간이 흘렀어도 논쟁이 계속되고...  산업통상자원중소벤처기업위원회   \n",
              "300  제2조(정의) 이 법에서 사용하는 용어의 뜻은 다음과 같다.\\n1. “사법농단피해자...          법제사법위원회   \n",
              "45   현재 우리나라 증시는 공매도 세력들의 놀이터가 되어버렸습니다. 우리나라 공매도 거래...            정무위원회   \n",
              "329  에코헬스 얼라이언스(EcoHealth Alliance)의 회장 피터 다작(Peter...          법제사법위원회   \n",
              "224  조카가 초등학교 3학년입니다 동급생 친구와\\r\\n같은학교 6학년 형들에게 꾸준한 학...          법제사법위원회   \n",
              "\n",
              "       청원결과             청원동의 종료일             청원동의 시작일  청원동의수  \n",
              "98   동의만료폐기  2022-10-24 00:01:00  2022-09-23 14:07:08  35303  \n",
              "300  동의만료폐기  2022-05-21 00:01:00  2022-04-20 17:34:56  34004  \n",
              "45   동의만료폐기  2022-12-01 00:01:00  2022-10-31 17:00:18  28405  \n",
              "329  동의만료폐기  2022-01-21 00:01:00  2021-12-21 09:41:41  27092  \n",
              "224  동의만료폐기  2022-07-16 00:01:00  2022-06-15 15:26:23  26796  "
            ],
            "text/html": [
              "\n",
              "  <div id=\"df-f95eb668-3ebf-45e4-a46e-9d51759837e7\">\n",
              "    <div class=\"colab-df-container\">\n",
              "      <div>\n",
              "<style scoped>\n",
              "    .dataframe tbody tr th:only-of-type {\n",
              "        vertical-align: middle;\n",
              "    }\n",
              "\n",
              "    .dataframe tbody tr th {\n",
              "        vertical-align: top;\n",
              "    }\n",
              "\n",
              "    .dataframe thead th {\n",
              "        text-align: right;\n",
              "    }\n",
              "</style>\n",
              "<table border=\"1\" class=\"dataframe\">\n",
              "  <thead>\n",
              "    <tr style=\"text-align: right;\">\n",
              "      <th></th>\n",
              "      <th>분야코드</th>\n",
              "      <th>분야</th>\n",
              "      <th>청원제목</th>\n",
              "      <th>청원취지</th>\n",
              "      <th>청원내용</th>\n",
              "      <th>심사위원회</th>\n",
              "      <th>청원결과</th>\n",
              "      <th>청원동의 종료일</th>\n",
              "      <th>청원동의 시작일</th>\n",
              "      <th>청원동의수</th>\n",
              "    </tr>\n",
              "  </thead>\n",
              "  <tbody>\n",
              "    <tr>\n",
              "      <th>98</th>\n",
              "      <td>INDUST</td>\n",
              "      <td>산업/통상</td>\n",
              "      <td>구멍 뚫린 GMO수입검역체계 OUT, 유전자변형생물체의국가간이동등에관한법률의 개정에...</td>\n",
              "      <td>▶전 세계 약 180개 국가는 GMO의 인체 ·환경 피해를 사전방지하기 위해 공동의...</td>\n",
              "      <td>1996년 GMO가 처음 상업화된 후 30년 가까운 시간이 흘렀어도 논쟁이 계속되고...</td>\n",
              "      <td>산업통상자원중소벤처기업위원회</td>\n",
              "      <td>동의만료폐기</td>\n",
              "      <td>2022-10-24 00:01:00</td>\n",
              "      <td>2022-09-23 14:07:08</td>\n",
              "      <td>35303</td>\n",
              "    </tr>\n",
              "    <tr>\n",
              "      <th>300</th>\n",
              "      <td>INVST</td>\n",
              "      <td>수사/법무/사법제도</td>\n",
              "      <td>양승태 전 대법원장 재임기간 중의 사법농단 의혹사건 피해자 구제를 위한 특별법안 제...</td>\n",
              "      <td>양승태 전 대법원장 체제하에서의 대법원이 상고 법원 설치 등 특정 목적을  관철 시...</td>\n",
              "      <td>제2조(정의) 이 법에서 사용하는 용어의 뜻은 다음과 같다.\\n1. “사법농단피해자...</td>\n",
              "      <td>법제사법위원회</td>\n",
              "      <td>동의만료폐기</td>\n",
              "      <td>2022-05-21 00:01:00</td>\n",
              "      <td>2022-04-20 17:34:56</td>\n",
              "      <td>34004</td>\n",
              "    </tr>\n",
              "    <tr>\n",
              "      <th>45</th>\n",
              "      <td>FNANC</td>\n",
              "      <td>재정/세제/금융/예산</td>\n",
              "      <td>1,400만명 개인주주를 절망에 빠트리고 건전한 자본시장을 좀먹는 공매도의 한시적 ...</td>\n",
              "      <td>1) 본 청원은 우리 증시를 글로벌 증시 대비 과도하게 하락한 상황이 정상화될 때까...</td>\n",
              "      <td>현재 우리나라 증시는 공매도 세력들의 놀이터가 되어버렸습니다. 우리나라 공매도 거래...</td>\n",
              "      <td>정무위원회</td>\n",
              "      <td>동의만료폐기</td>\n",
              "      <td>2022-12-01 00:01:00</td>\n",
              "      <td>2022-10-31 17:00:18</td>\n",
              "      <td>28405</td>\n",
              "    </tr>\n",
              "    <tr>\n",
              "      <th>329</th>\n",
              "      <td>INVST</td>\n",
              "      <td>수사/법무/사법제도</td>\n",
              "      <td>코로나 백신 특검 요청에 관한 청원</td>\n",
              "      <td>너무나도 많은 국민이 백신 부작용으로 큰 피해를 보고 있고, 정작 최선의 대안은 백...</td>\n",
              "      <td>에코헬스 얼라이언스(EcoHealth Alliance)의 회장 피터 다작(Peter...</td>\n",
              "      <td>법제사법위원회</td>\n",
              "      <td>동의만료폐기</td>\n",
              "      <td>2022-01-21 00:01:00</td>\n",
              "      <td>2021-12-21 09:41:41</td>\n",
              "      <td>27092</td>\n",
              "    </tr>\n",
              "    <tr>\n",
              "      <th>224</th>\n",
              "      <td>INVST</td>\n",
              "      <td>수사/법무/사법제도</td>\n",
              "      <td>촉법소년인 학교폭력 및 성폭행 가해자들의 엄중 처벌에 관한 청원</td>\n",
              "      <td>촉법소년 이란 이유로 너무나도 큰 죄를 지었음에 불구하고 처벌이 되지 않는다는것은 ...</td>\n",
              "      <td>조카가 초등학교 3학년입니다 동급생 친구와\\r\\n같은학교 6학년 형들에게 꾸준한 학...</td>\n",
              "      <td>법제사법위원회</td>\n",
              "      <td>동의만료폐기</td>\n",
              "      <td>2022-07-16 00:01:00</td>\n",
              "      <td>2022-06-15 15:26:23</td>\n",
              "      <td>26796</td>\n",
              "    </tr>\n",
              "  </tbody>\n",
              "</table>\n",
              "</div>\n",
              "      <button class=\"colab-df-convert\" onclick=\"convertToInteractive('df-f95eb668-3ebf-45e4-a46e-9d51759837e7')\"\n",
              "              title=\"Convert this dataframe to an interactive table.\"\n",
              "              style=\"display:none;\">\n",
              "        \n",
              "  <svg xmlns=\"http://www.w3.org/2000/svg\" height=\"24px\"viewBox=\"0 0 24 24\"\n",
              "       width=\"24px\">\n",
              "    <path d=\"M0 0h24v24H0V0z\" fill=\"none\"/>\n",
              "    <path d=\"M18.56 5.44l.94 2.06.94-2.06 2.06-.94-2.06-.94-.94-2.06-.94 2.06-2.06.94zm-11 1L8.5 8.5l.94-2.06 2.06-.94-2.06-.94L8.5 2.5l-.94 2.06-2.06.94zm10 10l.94 2.06.94-2.06 2.06-.94-2.06-.94-.94-2.06-.94 2.06-2.06.94z\"/><path d=\"M17.41 7.96l-1.37-1.37c-.4-.4-.92-.59-1.43-.59-.52 0-1.04.2-1.43.59L10.3 9.45l-7.72 7.72c-.78.78-.78 2.05 0 2.83L4 21.41c.39.39.9.59 1.41.59.51 0 1.02-.2 1.41-.59l7.78-7.78 2.81-2.81c.8-.78.8-2.07 0-2.86zM5.41 20L4 18.59l7.72-7.72 1.47 1.35L5.41 20z\"/>\n",
              "  </svg>\n",
              "      </button>\n",
              "      \n",
              "  <style>\n",
              "    .colab-df-container {\n",
              "      display:flex;\n",
              "      flex-wrap:wrap;\n",
              "      gap: 12px;\n",
              "    }\n",
              "\n",
              "    .colab-df-convert {\n",
              "      background-color: #E8F0FE;\n",
              "      border: none;\n",
              "      border-radius: 50%;\n",
              "      cursor: pointer;\n",
              "      display: none;\n",
              "      fill: #1967D2;\n",
              "      height: 32px;\n",
              "      padding: 0 0 0 0;\n",
              "      width: 32px;\n",
              "    }\n",
              "\n",
              "    .colab-df-convert:hover {\n",
              "      background-color: #E2EBFA;\n",
              "      box-shadow: 0px 1px 2px rgba(60, 64, 67, 0.3), 0px 1px 3px 1px rgba(60, 64, 67, 0.15);\n",
              "      fill: #174EA6;\n",
              "    }\n",
              "\n",
              "    [theme=dark] .colab-df-convert {\n",
              "      background-color: #3B4455;\n",
              "      fill: #D2E3FC;\n",
              "    }\n",
              "\n",
              "    [theme=dark] .colab-df-convert:hover {\n",
              "      background-color: #434B5C;\n",
              "      box-shadow: 0px 1px 3px 1px rgba(0, 0, 0, 0.15);\n",
              "      filter: drop-shadow(0px 1px 2px rgba(0, 0, 0, 0.3));\n",
              "      fill: #FFFFFF;\n",
              "    }\n",
              "  </style>\n",
              "\n",
              "      <script>\n",
              "        const buttonEl =\n",
              "          document.querySelector('#df-f95eb668-3ebf-45e4-a46e-9d51759837e7 button.colab-df-convert');\n",
              "        buttonEl.style.display =\n",
              "          google.colab.kernel.accessAllowed ? 'block' : 'none';\n",
              "\n",
              "        async function convertToInteractive(key) {\n",
              "          const element = document.querySelector('#df-f95eb668-3ebf-45e4-a46e-9d51759837e7');\n",
              "          const dataTable =\n",
              "            await google.colab.kernel.invokeFunction('convertToInteractive',\n",
              "                                                     [key], {});\n",
              "          if (!dataTable) return;\n",
              "\n",
              "          const docLinkHtml = 'Like what you see? Visit the ' +\n",
              "            '<a target=\"_blank\" href=https://colab.research.google.com/notebooks/data_table.ipynb>data table notebook</a>'\n",
              "            + ' to learn more about interactive tables.';\n",
              "          element.innerHTML = '';\n",
              "          dataTable['output_type'] = 'display_data';\n",
              "          await google.colab.output.renderOutput(dataTable, element);\n",
              "          const docLink = document.createElement('div');\n",
              "          docLink.innerHTML = docLinkHtml;\n",
              "          element.appendChild(docLink);\n",
              "        }\n",
              "      </script>\n",
              "    </div>\n",
              "  </div>\n",
              "  "
            ]
          },
          "metadata": {},
          "execution_count": 91
        }
      ]
    },
    {
      "cell_type": "markdown",
      "source": [
        "## ● 시각화 ( 가장 많이 청원을 통과시킨 위원회 순위 및 그래프 )"
      ],
      "metadata": {
        "id": "-adSnwUuIdzz"
      }
    },
    {
      "cell_type": "code",
      "source": [
        "# 라이브러리 불러오기\n",
        "\n",
        "import seaborn as sns\n",
        "import matplotlib.pyplot as plt\n",
        "import numpy as np\n",
        "%matplotlib inline"
      ],
      "metadata": {
        "id": "i7mp3O9qJwBm"
      },
      "execution_count": null,
      "outputs": []
    },
    {
      "cell_type": "code",
      "source": [
        "#한글폰트 설치(일단 나눔이라는 폰트 1개만)\n",
        "!sudo apt-get install -y fonts-nanum\n",
        "!sudo fc-cache -fv\n",
        "!rm ~/.cache/matplotlib -rf\n",
        "\n",
        "plt.rcParams['font.family'] = 'NanumBarunGothic'"
      ],
      "metadata": {
        "colab": {
          "base_uri": "https://localhost:8080/"
        },
        "id": "IsLDCMideioP",
        "outputId": "bccb6735-a500-4a67-bc93-a62a642ffaa9"
      },
      "execution_count": null,
      "outputs": [
        {
          "output_type": "stream",
          "name": "stdout",
          "text": [
            "Reading package lists... Done\n",
            "Building dependency tree       \n",
            "Reading state information... Done\n",
            "The following NEW packages will be installed:\n",
            "  fonts-nanum\n",
            "0 upgraded, 1 newly installed, 0 to remove and 23 not upgraded.\n",
            "Need to get 9,599 kB of archives.\n",
            "After this operation, 29.6 MB of additional disk space will be used.\n",
            "Get:1 http://archive.ubuntu.com/ubuntu focal/universe amd64 fonts-nanum all 20180306-3 [9,599 kB]\n",
            "Fetched 9,599 kB in 0s (46.4 MB/s)\n",
            "debconf: unable to initialize frontend: Dialog\n",
            "debconf: (No usable dialog-like program is installed, so the dialog based frontend cannot be used. at /usr/share/perl5/Debconf/FrontEnd/Dialog.pm line 76, <> line 1.)\n",
            "debconf: falling back to frontend: Readline\n",
            "debconf: unable to initialize frontend: Readline\n",
            "debconf: (This frontend requires a controlling tty.)\n",
            "debconf: falling back to frontend: Teletype\n",
            "dpkg-preconfigure: unable to re-open stdin: \n",
            "Selecting previously unselected package fonts-nanum.\n",
            "(Reading database ... 129506 files and directories currently installed.)\n",
            "Preparing to unpack .../fonts-nanum_20180306-3_all.deb ...\n",
            "Unpacking fonts-nanum (20180306-3) ...\n",
            "Setting up fonts-nanum (20180306-3) ...\n",
            "Processing triggers for fontconfig (2.13.1-2ubuntu3) ...\n",
            "/usr/share/fonts: caching, new cache contents: 0 fonts, 1 dirs\n",
            "/usr/share/fonts/truetype: caching, new cache contents: 0 fonts, 3 dirs\n",
            "/usr/share/fonts/truetype/humor-sans: caching, new cache contents: 1 fonts, 0 dirs\n",
            "/usr/share/fonts/truetype/liberation: caching, new cache contents: 16 fonts, 0 dirs\n",
            "/usr/share/fonts/truetype/nanum: caching, new cache contents: 10 fonts, 0 dirs\n",
            "/usr/local/share/fonts: caching, new cache contents: 0 fonts, 0 dirs\n",
            "/root/.local/share/fonts: skipping, no such directory\n",
            "/root/.fonts: skipping, no such directory\n",
            "/usr/share/fonts/truetype: skipping, looped directory detected\n",
            "/usr/share/fonts/truetype/humor-sans: skipping, looped directory detected\n",
            "/usr/share/fonts/truetype/liberation: skipping, looped directory detected\n",
            "/usr/share/fonts/truetype/nanum: skipping, looped directory detected\n",
            "/var/cache/fontconfig: cleaning cache directory\n",
            "/root/.cache/fontconfig: not cleaning non-existent cache directory\n",
            "/root/.fontconfig: not cleaning non-existent cache directory\n",
            "fc-cache: succeeded\n"
          ]
        }
      ]
    },
    {
      "cell_type": "code",
      "source": [
        "# 시각화를 위한 폰트 설정\n",
        "import os\n",
        "\n",
        "if os.name == \"posix\":\n",
        "    sns.set(font=\"AppleGothic\")\n",
        "elif os.name == \"nt\":\n",
        "    sns.set(font=\"Malgun Gothic\")\n",
        "    \n",
        "# 레티나 설정을 해주면 글씨가 좀더 선명하게 보임\n",
        "# 폰트의 주변이 흐릿하게 보이는 것을 방지\n",
        "%config InlineBackend.figure_format='retina'"
      ],
      "metadata": {
        "id": "dfB4PJu0KmN2"
      },
      "execution_count": null,
      "outputs": []
    },
    {
      "cell_type": "markdown",
      "source": [
        "▣ 심사위원회(안건을 통과시킨 주체) 분포 확인"
      ],
      "metadata": {
        "id": "T2Mpj-hUKqbr"
      }
    },
    {
      "cell_type": "code",
      "source": [
        "tips = pd.read_csv('petit_list.csv')"
      ],
      "metadata": {
        "id": "aBA4gvM3O_PL"
      },
      "execution_count": null,
      "outputs": []
    },
    {
      "cell_type": "markdown",
      "source": [],
      "metadata": {
        "id": "t-ZBFa50ONU1"
      }
    },
    {
      "cell_type": "code",
      "source": [
        "tips['심사위원회'].unique()"
      ],
      "metadata": {
        "colab": {
          "base_uri": "https://localhost:8080/"
        },
        "id": "Sa8m-VVeM70b",
        "outputId": "4898ccbe-3b7c-4adc-8fde-1fbca9373ca8"
      },
      "execution_count": null,
      "outputs": [
        {
          "output_type": "execute_result",
          "data": {
            "text/plain": [
              "array(['국토교통위원회', '보건복지위원회', '정무위원회', '환경노동위원회', '교육위원회', '기획재정위원회',\n",
              "       '행정안전위원회', '과학기술정보방송통신위원회', '법제사법위원회', '외교통일위원회', '문화체육관광위원회',\n",
              "       '산업통상자원중소벤처기업위원회', '예산결산특별위원회', '농림축산식품해양수산위원회', '국회운영위원회',\n",
              "       '국방위원회', '정보위원회', '여성가족위원회', '미확정'], dtype=object)"
            ]
          },
          "metadata": {},
          "execution_count": 169
        }
      ]
    },
    {
      "cell_type": "code",
      "source": [
        "sns.countplot( x='심사위원회', data=tips )"
      ],
      "metadata": {
        "colab": {
          "base_uri": "https://localhost:8080/",
          "height": 1000
        },
        "id": "0Jq2eN9ORNnx",
        "outputId": "fb3ab676-1171-401a-c6e7-6a2cb33d4207"
      },
      "execution_count": null,
      "outputs": [
        {
          "output_type": "execute_result",
          "data": {
            "text/plain": [
              "<matplotlib.axes._subplots.AxesSubplot at 0x7f19e0b25250>"
            ]
          },
          "metadata": {},
          "execution_count": 170
        },
        {
          "output_type": "stream",
          "name": "stderr",
          "text": [
            "WARNING:matplotlib.font_manager:findfont: Font family ['NanumBarunGothic'] not found. Falling back to DejaVu Sans.\n",
            "/usr/local/lib/python3.8/dist-packages/matplotlib/backends/backend_agg.py:214: RuntimeWarning: Glyph 44397 missing from current font.\n",
            "  font.set_text(s, 0.0, flags=flags)\n",
            "/usr/local/lib/python3.8/dist-packages/matplotlib/backends/backend_agg.py:214: RuntimeWarning: Glyph 53664 missing from current font.\n",
            "  font.set_text(s, 0.0, flags=flags)\n",
            "/usr/local/lib/python3.8/dist-packages/matplotlib/backends/backend_agg.py:214: RuntimeWarning: Glyph 44368 missing from current font.\n",
            "  font.set_text(s, 0.0, flags=flags)\n",
            "/usr/local/lib/python3.8/dist-packages/matplotlib/backends/backend_agg.py:214: RuntimeWarning: Glyph 53685 missing from current font.\n",
            "  font.set_text(s, 0.0, flags=flags)\n",
            "/usr/local/lib/python3.8/dist-packages/matplotlib/backends/backend_agg.py:214: RuntimeWarning: Glyph 50948 missing from current font.\n",
            "  font.set_text(s, 0.0, flags=flags)\n",
            "/usr/local/lib/python3.8/dist-packages/matplotlib/backends/backend_agg.py:214: RuntimeWarning: Glyph 50896 missing from current font.\n",
            "  font.set_text(s, 0.0, flags=flags)\n",
            "/usr/local/lib/python3.8/dist-packages/matplotlib/backends/backend_agg.py:214: RuntimeWarning: Glyph 54924 missing from current font.\n",
            "  font.set_text(s, 0.0, flags=flags)\n",
            "/usr/local/lib/python3.8/dist-packages/matplotlib/backends/backend_agg.py:214: RuntimeWarning: Glyph 48372 missing from current font.\n",
            "  font.set_text(s, 0.0, flags=flags)\n",
            "/usr/local/lib/python3.8/dist-packages/matplotlib/backends/backend_agg.py:214: RuntimeWarning: Glyph 44148 missing from current font.\n",
            "  font.set_text(s, 0.0, flags=flags)\n",
            "/usr/local/lib/python3.8/dist-packages/matplotlib/backends/backend_agg.py:214: RuntimeWarning: Glyph 48373 missing from current font.\n",
            "  font.set_text(s, 0.0, flags=flags)\n",
            "/usr/local/lib/python3.8/dist-packages/matplotlib/backends/backend_agg.py:214: RuntimeWarning: Glyph 51648 missing from current font.\n",
            "  font.set_text(s, 0.0, flags=flags)\n",
            "/usr/local/lib/python3.8/dist-packages/matplotlib/backends/backend_agg.py:214: RuntimeWarning: Glyph 51221 missing from current font.\n",
            "  font.set_text(s, 0.0, flags=flags)\n",
            "/usr/local/lib/python3.8/dist-packages/matplotlib/backends/backend_agg.py:214: RuntimeWarning: Glyph 47924 missing from current font.\n",
            "  font.set_text(s, 0.0, flags=flags)\n",
            "/usr/local/lib/python3.8/dist-packages/matplotlib/backends/backend_agg.py:214: RuntimeWarning: Glyph 54872 missing from current font.\n",
            "  font.set_text(s, 0.0, flags=flags)\n",
            "/usr/local/lib/python3.8/dist-packages/matplotlib/backends/backend_agg.py:214: RuntimeWarning: Glyph 44221 missing from current font.\n",
            "  font.set_text(s, 0.0, flags=flags)\n",
            "/usr/local/lib/python3.8/dist-packages/matplotlib/backends/backend_agg.py:214: RuntimeWarning: Glyph 45432 missing from current font.\n",
            "  font.set_text(s, 0.0, flags=flags)\n",
            "/usr/local/lib/python3.8/dist-packages/matplotlib/backends/backend_agg.py:214: RuntimeWarning: Glyph 46041 missing from current font.\n",
            "  font.set_text(s, 0.0, flags=flags)\n",
            "/usr/local/lib/python3.8/dist-packages/matplotlib/backends/backend_agg.py:214: RuntimeWarning: Glyph 50977 missing from current font.\n",
            "  font.set_text(s, 0.0, flags=flags)\n",
            "/usr/local/lib/python3.8/dist-packages/matplotlib/backends/backend_agg.py:214: RuntimeWarning: Glyph 44592 missing from current font.\n",
            "  font.set_text(s, 0.0, flags=flags)\n",
            "/usr/local/lib/python3.8/dist-packages/matplotlib/backends/backend_agg.py:214: RuntimeWarning: Glyph 54925 missing from current font.\n",
            "  font.set_text(s, 0.0, flags=flags)\n",
            "/usr/local/lib/python3.8/dist-packages/matplotlib/backends/backend_agg.py:214: RuntimeWarning: Glyph 51116 missing from current font.\n",
            "  font.set_text(s, 0.0, flags=flags)\n",
            "/usr/local/lib/python3.8/dist-packages/matplotlib/backends/backend_agg.py:214: RuntimeWarning: Glyph 54665 missing from current font.\n",
            "  font.set_text(s, 0.0, flags=flags)\n",
            "/usr/local/lib/python3.8/dist-packages/matplotlib/backends/backend_agg.py:214: RuntimeWarning: Glyph 50504 missing from current font.\n",
            "  font.set_text(s, 0.0, flags=flags)\n",
            "/usr/local/lib/python3.8/dist-packages/matplotlib/backends/backend_agg.py:214: RuntimeWarning: Glyph 51204 missing from current font.\n",
            "  font.set_text(s, 0.0, flags=flags)\n",
            "/usr/local/lib/python3.8/dist-packages/matplotlib/backends/backend_agg.py:214: RuntimeWarning: Glyph 44284 missing from current font.\n",
            "  font.set_text(s, 0.0, flags=flags)\n",
            "/usr/local/lib/python3.8/dist-packages/matplotlib/backends/backend_agg.py:214: RuntimeWarning: Glyph 54617 missing from current font.\n",
            "  font.set_text(s, 0.0, flags=flags)\n",
            "/usr/local/lib/python3.8/dist-packages/matplotlib/backends/backend_agg.py:214: RuntimeWarning: Glyph 49696 missing from current font.\n",
            "  font.set_text(s, 0.0, flags=flags)\n",
            "/usr/local/lib/python3.8/dist-packages/matplotlib/backends/backend_agg.py:214: RuntimeWarning: Glyph 48169 missing from current font.\n",
            "  font.set_text(s, 0.0, flags=flags)\n",
            "/usr/local/lib/python3.8/dist-packages/matplotlib/backends/backend_agg.py:214: RuntimeWarning: Glyph 49569 missing from current font.\n",
            "  font.set_text(s, 0.0, flags=flags)\n",
            "/usr/local/lib/python3.8/dist-packages/matplotlib/backends/backend_agg.py:214: RuntimeWarning: Glyph 49888 missing from current font.\n",
            "  font.set_text(s, 0.0, flags=flags)\n",
            "/usr/local/lib/python3.8/dist-packages/matplotlib/backends/backend_agg.py:214: RuntimeWarning: Glyph 48277 missing from current font.\n",
            "  font.set_text(s, 0.0, flags=flags)\n",
            "/usr/local/lib/python3.8/dist-packages/matplotlib/backends/backend_agg.py:214: RuntimeWarning: Glyph 51228 missing from current font.\n",
            "  font.set_text(s, 0.0, flags=flags)\n",
            "/usr/local/lib/python3.8/dist-packages/matplotlib/backends/backend_agg.py:214: RuntimeWarning: Glyph 49324 missing from current font.\n",
            "  font.set_text(s, 0.0, flags=flags)\n",
            "/usr/local/lib/python3.8/dist-packages/matplotlib/backends/backend_agg.py:214: RuntimeWarning: Glyph 50808 missing from current font.\n",
            "  font.set_text(s, 0.0, flags=flags)\n",
            "/usr/local/lib/python3.8/dist-packages/matplotlib/backends/backend_agg.py:214: RuntimeWarning: Glyph 51068 missing from current font.\n",
            "  font.set_text(s, 0.0, flags=flags)\n",
            "/usr/local/lib/python3.8/dist-packages/matplotlib/backends/backend_agg.py:214: RuntimeWarning: Glyph 47928 missing from current font.\n",
            "  font.set_text(s, 0.0, flags=flags)\n",
            "/usr/local/lib/python3.8/dist-packages/matplotlib/backends/backend_agg.py:214: RuntimeWarning: Glyph 54868 missing from current font.\n",
            "  font.set_text(s, 0.0, flags=flags)\n",
            "/usr/local/lib/python3.8/dist-packages/matplotlib/backends/backend_agg.py:214: RuntimeWarning: Glyph 52404 missing from current font.\n",
            "  font.set_text(s, 0.0, flags=flags)\n",
            "/usr/local/lib/python3.8/dist-packages/matplotlib/backends/backend_agg.py:214: RuntimeWarning: Glyph 44288 missing from current font.\n",
            "  font.set_text(s, 0.0, flags=flags)\n",
            "/usr/local/lib/python3.8/dist-packages/matplotlib/backends/backend_agg.py:214: RuntimeWarning: Glyph 44305 missing from current font.\n",
            "  font.set_text(s, 0.0, flags=flags)\n",
            "/usr/local/lib/python3.8/dist-packages/matplotlib/backends/backend_agg.py:214: RuntimeWarning: Glyph 49328 missing from current font.\n",
            "  font.set_text(s, 0.0, flags=flags)\n",
            "/usr/local/lib/python3.8/dist-packages/matplotlib/backends/backend_agg.py:214: RuntimeWarning: Glyph 50629 missing from current font.\n",
            "  font.set_text(s, 0.0, flags=flags)\n",
            "/usr/local/lib/python3.8/dist-packages/matplotlib/backends/backend_agg.py:214: RuntimeWarning: Glyph 49345 missing from current font.\n",
            "  font.set_text(s, 0.0, flags=flags)\n",
            "/usr/local/lib/python3.8/dist-packages/matplotlib/backends/backend_agg.py:214: RuntimeWarning: Glyph 51088 missing from current font.\n",
            "  font.set_text(s, 0.0, flags=flags)\n",
            "/usr/local/lib/python3.8/dist-packages/matplotlib/backends/backend_agg.py:214: RuntimeWarning: Glyph 51473 missing from current font.\n",
            "  font.set_text(s, 0.0, flags=flags)\n",
            "/usr/local/lib/python3.8/dist-packages/matplotlib/backends/backend_agg.py:214: RuntimeWarning: Glyph 49548 missing from current font.\n",
            "  font.set_text(s, 0.0, flags=flags)\n",
            "/usr/local/lib/python3.8/dist-packages/matplotlib/backends/backend_agg.py:214: RuntimeWarning: Glyph 48292 missing from current font.\n",
            "  font.set_text(s, 0.0, flags=flags)\n",
            "/usr/local/lib/python3.8/dist-packages/matplotlib/backends/backend_agg.py:214: RuntimeWarning: Glyph 52376 missing from current font.\n",
            "  font.set_text(s, 0.0, flags=flags)\n",
            "/usr/local/lib/python3.8/dist-packages/matplotlib/backends/backend_agg.py:214: RuntimeWarning: Glyph 50696 missing from current font.\n",
            "  font.set_text(s, 0.0, flags=flags)\n",
            "/usr/local/lib/python3.8/dist-packages/matplotlib/backends/backend_agg.py:214: RuntimeWarning: Glyph 44208 missing from current font.\n",
            "  font.set_text(s, 0.0, flags=flags)\n",
            "/usr/local/lib/python3.8/dist-packages/matplotlib/backends/backend_agg.py:214: RuntimeWarning: Glyph 53945 missing from current font.\n",
            "  font.set_text(s, 0.0, flags=flags)\n",
            "/usr/local/lib/python3.8/dist-packages/matplotlib/backends/backend_agg.py:214: RuntimeWarning: Glyph 48324 missing from current font.\n",
            "  font.set_text(s, 0.0, flags=flags)\n",
            "/usr/local/lib/python3.8/dist-packages/matplotlib/backends/backend_agg.py:214: RuntimeWarning: Glyph 45453 missing from current font.\n",
            "  font.set_text(s, 0.0, flags=flags)\n",
            "/usr/local/lib/python3.8/dist-packages/matplotlib/backends/backend_agg.py:214: RuntimeWarning: Glyph 47548 missing from current font.\n",
            "  font.set_text(s, 0.0, flags=flags)\n",
            "/usr/local/lib/python3.8/dist-packages/matplotlib/backends/backend_agg.py:214: RuntimeWarning: Glyph 52629 missing from current font.\n",
            "  font.set_text(s, 0.0, flags=flags)\n",
            "/usr/local/lib/python3.8/dist-packages/matplotlib/backends/backend_agg.py:214: RuntimeWarning: Glyph 49885 missing from current font.\n",
            "  font.set_text(s, 0.0, flags=flags)\n",
            "/usr/local/lib/python3.8/dist-packages/matplotlib/backends/backend_agg.py:214: RuntimeWarning: Glyph 54408 missing from current font.\n",
            "  font.set_text(s, 0.0, flags=flags)\n",
            "/usr/local/lib/python3.8/dist-packages/matplotlib/backends/backend_agg.py:214: RuntimeWarning: Glyph 54644 missing from current font.\n",
            "  font.set_text(s, 0.0, flags=flags)\n",
            "/usr/local/lib/python3.8/dist-packages/matplotlib/backends/backend_agg.py:214: RuntimeWarning: Glyph 50577 missing from current font.\n",
            "  font.set_text(s, 0.0, flags=flags)\n",
            "/usr/local/lib/python3.8/dist-packages/matplotlib/backends/backend_agg.py:214: RuntimeWarning: Glyph 49688 missing from current font.\n",
            "  font.set_text(s, 0.0, flags=flags)\n",
            "/usr/local/lib/python3.8/dist-packages/matplotlib/backends/backend_agg.py:214: RuntimeWarning: Glyph 50868 missing from current font.\n",
            "  font.set_text(s, 0.0, flags=flags)\n",
            "/usr/local/lib/python3.8/dist-packages/matplotlib/backends/backend_agg.py:214: RuntimeWarning: Glyph 50689 missing from current font.\n",
            "  font.set_text(s, 0.0, flags=flags)\n",
            "/usr/local/lib/python3.8/dist-packages/matplotlib/backends/backend_agg.py:214: RuntimeWarning: Glyph 50668 missing from current font.\n",
            "  font.set_text(s, 0.0, flags=flags)\n",
            "/usr/local/lib/python3.8/dist-packages/matplotlib/backends/backend_agg.py:214: RuntimeWarning: Glyph 49457 missing from current font.\n",
            "  font.set_text(s, 0.0, flags=flags)\n",
            "/usr/local/lib/python3.8/dist-packages/matplotlib/backends/backend_agg.py:214: RuntimeWarning: Glyph 44032 missing from current font.\n",
            "  font.set_text(s, 0.0, flags=flags)\n",
            "/usr/local/lib/python3.8/dist-packages/matplotlib/backends/backend_agg.py:214: RuntimeWarning: Glyph 51313 missing from current font.\n",
            "  font.set_text(s, 0.0, flags=flags)\n",
            "/usr/local/lib/python3.8/dist-packages/matplotlib/backends/backend_agg.py:214: RuntimeWarning: Glyph 48120 missing from current font.\n",
            "  font.set_text(s, 0.0, flags=flags)\n",
            "/usr/local/lib/python3.8/dist-packages/matplotlib/backends/backend_agg.py:214: RuntimeWarning: Glyph 54869 missing from current font.\n",
            "  font.set_text(s, 0.0, flags=flags)\n",
            "/usr/local/lib/python3.8/dist-packages/matplotlib/backends/backend_agg.py:183: RuntimeWarning: Glyph 44397 missing from current font.\n",
            "  font.set_text(s, 0, flags=flags)\n",
            "/usr/local/lib/python3.8/dist-packages/matplotlib/backends/backend_agg.py:183: RuntimeWarning: Glyph 53664 missing from current font.\n",
            "  font.set_text(s, 0, flags=flags)\n",
            "/usr/local/lib/python3.8/dist-packages/matplotlib/backends/backend_agg.py:183: RuntimeWarning: Glyph 44368 missing from current font.\n",
            "  font.set_text(s, 0, flags=flags)\n",
            "/usr/local/lib/python3.8/dist-packages/matplotlib/backends/backend_agg.py:183: RuntimeWarning: Glyph 53685 missing from current font.\n",
            "  font.set_text(s, 0, flags=flags)\n",
            "/usr/local/lib/python3.8/dist-packages/matplotlib/backends/backend_agg.py:183: RuntimeWarning: Glyph 50948 missing from current font.\n",
            "  font.set_text(s, 0, flags=flags)\n",
            "/usr/local/lib/python3.8/dist-packages/matplotlib/backends/backend_agg.py:183: RuntimeWarning: Glyph 50896 missing from current font.\n",
            "  font.set_text(s, 0, flags=flags)\n",
            "/usr/local/lib/python3.8/dist-packages/matplotlib/backends/backend_agg.py:183: RuntimeWarning: Glyph 54924 missing from current font.\n",
            "  font.set_text(s, 0, flags=flags)\n",
            "/usr/local/lib/python3.8/dist-packages/matplotlib/backends/backend_agg.py:183: RuntimeWarning: Glyph 48372 missing from current font.\n",
            "  font.set_text(s, 0, flags=flags)\n",
            "/usr/local/lib/python3.8/dist-packages/matplotlib/backends/backend_agg.py:183: RuntimeWarning: Glyph 44148 missing from current font.\n",
            "  font.set_text(s, 0, flags=flags)\n",
            "/usr/local/lib/python3.8/dist-packages/matplotlib/backends/backend_agg.py:183: RuntimeWarning: Glyph 48373 missing from current font.\n",
            "  font.set_text(s, 0, flags=flags)\n",
            "/usr/local/lib/python3.8/dist-packages/matplotlib/backends/backend_agg.py:183: RuntimeWarning: Glyph 51648 missing from current font.\n",
            "  font.set_text(s, 0, flags=flags)\n",
            "/usr/local/lib/python3.8/dist-packages/matplotlib/backends/backend_agg.py:183: RuntimeWarning: Glyph 51221 missing from current font.\n",
            "  font.set_text(s, 0, flags=flags)\n",
            "/usr/local/lib/python3.8/dist-packages/matplotlib/backends/backend_agg.py:183: RuntimeWarning: Glyph 47924 missing from current font.\n",
            "  font.set_text(s, 0, flags=flags)\n",
            "/usr/local/lib/python3.8/dist-packages/matplotlib/backends/backend_agg.py:183: RuntimeWarning: Glyph 54872 missing from current font.\n",
            "  font.set_text(s, 0, flags=flags)\n",
            "/usr/local/lib/python3.8/dist-packages/matplotlib/backends/backend_agg.py:183: RuntimeWarning: Glyph 44221 missing from current font.\n",
            "  font.set_text(s, 0, flags=flags)\n",
            "/usr/local/lib/python3.8/dist-packages/matplotlib/backends/backend_agg.py:183: RuntimeWarning: Glyph 45432 missing from current font.\n",
            "  font.set_text(s, 0, flags=flags)\n",
            "/usr/local/lib/python3.8/dist-packages/matplotlib/backends/backend_agg.py:183: RuntimeWarning: Glyph 46041 missing from current font.\n",
            "  font.set_text(s, 0, flags=flags)\n",
            "/usr/local/lib/python3.8/dist-packages/matplotlib/backends/backend_agg.py:183: RuntimeWarning: Glyph 50977 missing from current font.\n",
            "  font.set_text(s, 0, flags=flags)\n",
            "/usr/local/lib/python3.8/dist-packages/matplotlib/backends/backend_agg.py:183: RuntimeWarning: Glyph 44592 missing from current font.\n",
            "  font.set_text(s, 0, flags=flags)\n",
            "/usr/local/lib/python3.8/dist-packages/matplotlib/backends/backend_agg.py:183: RuntimeWarning: Glyph 54925 missing from current font.\n",
            "  font.set_text(s, 0, flags=flags)\n",
            "/usr/local/lib/python3.8/dist-packages/matplotlib/backends/backend_agg.py:183: RuntimeWarning: Glyph 51116 missing from current font.\n",
            "  font.set_text(s, 0, flags=flags)\n",
            "/usr/local/lib/python3.8/dist-packages/matplotlib/backends/backend_agg.py:183: RuntimeWarning: Glyph 54665 missing from current font.\n",
            "  font.set_text(s, 0, flags=flags)\n",
            "/usr/local/lib/python3.8/dist-packages/matplotlib/backends/backend_agg.py:183: RuntimeWarning: Glyph 50504 missing from current font.\n",
            "  font.set_text(s, 0, flags=flags)\n",
            "/usr/local/lib/python3.8/dist-packages/matplotlib/backends/backend_agg.py:183: RuntimeWarning: Glyph 51204 missing from current font.\n",
            "  font.set_text(s, 0, flags=flags)\n",
            "/usr/local/lib/python3.8/dist-packages/matplotlib/backends/backend_agg.py:183: RuntimeWarning: Glyph 44284 missing from current font.\n",
            "  font.set_text(s, 0, flags=flags)\n",
            "/usr/local/lib/python3.8/dist-packages/matplotlib/backends/backend_agg.py:183: RuntimeWarning: Glyph 54617 missing from current font.\n",
            "  font.set_text(s, 0, flags=flags)\n",
            "/usr/local/lib/python3.8/dist-packages/matplotlib/backends/backend_agg.py:183: RuntimeWarning: Glyph 49696 missing from current font.\n",
            "  font.set_text(s, 0, flags=flags)\n",
            "/usr/local/lib/python3.8/dist-packages/matplotlib/backends/backend_agg.py:183: RuntimeWarning: Glyph 48169 missing from current font.\n",
            "  font.set_text(s, 0, flags=flags)\n",
            "/usr/local/lib/python3.8/dist-packages/matplotlib/backends/backend_agg.py:183: RuntimeWarning: Glyph 49569 missing from current font.\n",
            "  font.set_text(s, 0, flags=flags)\n",
            "/usr/local/lib/python3.8/dist-packages/matplotlib/backends/backend_agg.py:183: RuntimeWarning: Glyph 49888 missing from current font.\n",
            "  font.set_text(s, 0, flags=flags)\n",
            "/usr/local/lib/python3.8/dist-packages/matplotlib/backends/backend_agg.py:183: RuntimeWarning: Glyph 48277 missing from current font.\n",
            "  font.set_text(s, 0, flags=flags)\n",
            "/usr/local/lib/python3.8/dist-packages/matplotlib/backends/backend_agg.py:183: RuntimeWarning: Glyph 51228 missing from current font.\n",
            "  font.set_text(s, 0, flags=flags)\n",
            "/usr/local/lib/python3.8/dist-packages/matplotlib/backends/backend_agg.py:183: RuntimeWarning: Glyph 49324 missing from current font.\n",
            "  font.set_text(s, 0, flags=flags)\n",
            "/usr/local/lib/python3.8/dist-packages/matplotlib/backends/backend_agg.py:183: RuntimeWarning: Glyph 50808 missing from current font.\n",
            "  font.set_text(s, 0, flags=flags)\n",
            "/usr/local/lib/python3.8/dist-packages/matplotlib/backends/backend_agg.py:183: RuntimeWarning: Glyph 51068 missing from current font.\n",
            "  font.set_text(s, 0, flags=flags)\n",
            "/usr/local/lib/python3.8/dist-packages/matplotlib/backends/backend_agg.py:183: RuntimeWarning: Glyph 47928 missing from current font.\n",
            "  font.set_text(s, 0, flags=flags)\n",
            "/usr/local/lib/python3.8/dist-packages/matplotlib/backends/backend_agg.py:183: RuntimeWarning: Glyph 54868 missing from current font.\n",
            "  font.set_text(s, 0, flags=flags)\n",
            "/usr/local/lib/python3.8/dist-packages/matplotlib/backends/backend_agg.py:183: RuntimeWarning: Glyph 52404 missing from current font.\n",
            "  font.set_text(s, 0, flags=flags)\n",
            "/usr/local/lib/python3.8/dist-packages/matplotlib/backends/backend_agg.py:183: RuntimeWarning: Glyph 44288 missing from current font.\n",
            "  font.set_text(s, 0, flags=flags)\n",
            "/usr/local/lib/python3.8/dist-packages/matplotlib/backends/backend_agg.py:183: RuntimeWarning: Glyph 44305 missing from current font.\n",
            "  font.set_text(s, 0, flags=flags)\n",
            "/usr/local/lib/python3.8/dist-packages/matplotlib/backends/backend_agg.py:183: RuntimeWarning: Glyph 49328 missing from current font.\n",
            "  font.set_text(s, 0, flags=flags)\n",
            "/usr/local/lib/python3.8/dist-packages/matplotlib/backends/backend_agg.py:183: RuntimeWarning: Glyph 50629 missing from current font.\n",
            "  font.set_text(s, 0, flags=flags)\n",
            "/usr/local/lib/python3.8/dist-packages/matplotlib/backends/backend_agg.py:183: RuntimeWarning: Glyph 49345 missing from current font.\n",
            "  font.set_text(s, 0, flags=flags)\n",
            "/usr/local/lib/python3.8/dist-packages/matplotlib/backends/backend_agg.py:183: RuntimeWarning: Glyph 51088 missing from current font.\n",
            "  font.set_text(s, 0, flags=flags)\n",
            "/usr/local/lib/python3.8/dist-packages/matplotlib/backends/backend_agg.py:183: RuntimeWarning: Glyph 51473 missing from current font.\n",
            "  font.set_text(s, 0, flags=flags)\n",
            "/usr/local/lib/python3.8/dist-packages/matplotlib/backends/backend_agg.py:183: RuntimeWarning: Glyph 49548 missing from current font.\n",
            "  font.set_text(s, 0, flags=flags)\n",
            "/usr/local/lib/python3.8/dist-packages/matplotlib/backends/backend_agg.py:183: RuntimeWarning: Glyph 48292 missing from current font.\n",
            "  font.set_text(s, 0, flags=flags)\n",
            "/usr/local/lib/python3.8/dist-packages/matplotlib/backends/backend_agg.py:183: RuntimeWarning: Glyph 52376 missing from current font.\n",
            "  font.set_text(s, 0, flags=flags)\n",
            "/usr/local/lib/python3.8/dist-packages/matplotlib/backends/backend_agg.py:183: RuntimeWarning: Glyph 50696 missing from current font.\n",
            "  font.set_text(s, 0, flags=flags)\n",
            "/usr/local/lib/python3.8/dist-packages/matplotlib/backends/backend_agg.py:183: RuntimeWarning: Glyph 44208 missing from current font.\n",
            "  font.set_text(s, 0, flags=flags)\n",
            "/usr/local/lib/python3.8/dist-packages/matplotlib/backends/backend_agg.py:183: RuntimeWarning: Glyph 53945 missing from current font.\n",
            "  font.set_text(s, 0, flags=flags)\n",
            "/usr/local/lib/python3.8/dist-packages/matplotlib/backends/backend_agg.py:183: RuntimeWarning: Glyph 48324 missing from current font.\n",
            "  font.set_text(s, 0, flags=flags)\n",
            "/usr/local/lib/python3.8/dist-packages/matplotlib/backends/backend_agg.py:183: RuntimeWarning: Glyph 45453 missing from current font.\n",
            "  font.set_text(s, 0, flags=flags)\n",
            "/usr/local/lib/python3.8/dist-packages/matplotlib/backends/backend_agg.py:183: RuntimeWarning: Glyph 47548 missing from current font.\n",
            "  font.set_text(s, 0, flags=flags)\n",
            "/usr/local/lib/python3.8/dist-packages/matplotlib/backends/backend_agg.py:183: RuntimeWarning: Glyph 52629 missing from current font.\n",
            "  font.set_text(s, 0, flags=flags)\n",
            "/usr/local/lib/python3.8/dist-packages/matplotlib/backends/backend_agg.py:183: RuntimeWarning: Glyph 49885 missing from current font.\n",
            "  font.set_text(s, 0, flags=flags)\n",
            "/usr/local/lib/python3.8/dist-packages/matplotlib/backends/backend_agg.py:183: RuntimeWarning: Glyph 54408 missing from current font.\n",
            "  font.set_text(s, 0, flags=flags)\n",
            "/usr/local/lib/python3.8/dist-packages/matplotlib/backends/backend_agg.py:183: RuntimeWarning: Glyph 54644 missing from current font.\n",
            "  font.set_text(s, 0, flags=flags)\n",
            "/usr/local/lib/python3.8/dist-packages/matplotlib/backends/backend_agg.py:183: RuntimeWarning: Glyph 50577 missing from current font.\n",
            "  font.set_text(s, 0, flags=flags)\n",
            "/usr/local/lib/python3.8/dist-packages/matplotlib/backends/backend_agg.py:183: RuntimeWarning: Glyph 49688 missing from current font.\n",
            "  font.set_text(s, 0, flags=flags)\n",
            "/usr/local/lib/python3.8/dist-packages/matplotlib/backends/backend_agg.py:183: RuntimeWarning: Glyph 50868 missing from current font.\n",
            "  font.set_text(s, 0, flags=flags)\n",
            "/usr/local/lib/python3.8/dist-packages/matplotlib/backends/backend_agg.py:183: RuntimeWarning: Glyph 50689 missing from current font.\n",
            "  font.set_text(s, 0, flags=flags)\n",
            "/usr/local/lib/python3.8/dist-packages/matplotlib/backends/backend_agg.py:183: RuntimeWarning: Glyph 50668 missing from current font.\n",
            "  font.set_text(s, 0, flags=flags)\n",
            "/usr/local/lib/python3.8/dist-packages/matplotlib/backends/backend_agg.py:183: RuntimeWarning: Glyph 49457 missing from current font.\n",
            "  font.set_text(s, 0, flags=flags)\n",
            "/usr/local/lib/python3.8/dist-packages/matplotlib/backends/backend_agg.py:183: RuntimeWarning: Glyph 44032 missing from current font.\n",
            "  font.set_text(s, 0, flags=flags)\n",
            "/usr/local/lib/python3.8/dist-packages/matplotlib/backends/backend_agg.py:183: RuntimeWarning: Glyph 51313 missing from current font.\n",
            "  font.set_text(s, 0, flags=flags)\n",
            "/usr/local/lib/python3.8/dist-packages/matplotlib/backends/backend_agg.py:183: RuntimeWarning: Glyph 48120 missing from current font.\n",
            "  font.set_text(s, 0, flags=flags)\n",
            "/usr/local/lib/python3.8/dist-packages/matplotlib/backends/backend_agg.py:183: RuntimeWarning: Glyph 54869 missing from current font.\n",
            "  font.set_text(s, 0, flags=flags)\n",
            "/usr/local/lib/python3.8/dist-packages/matplotlib/backends/backend_agg.py:214: RuntimeWarning: Glyph 49900 missing from current font.\n",
            "  font.set_text(s, 0.0, flags=flags)\n",
            "/usr/local/lib/python3.8/dist-packages/matplotlib/backends/backend_agg.py:183: RuntimeWarning: Glyph 49900 missing from current font.\n",
            "  font.set_text(s, 0, flags=flags)\n"
          ]
        },
        {
          "output_type": "display_data",
          "data": {
            "text/plain": [
              "<Figure size 640x480 with 1 Axes>"
            ],
            "image/png": "[encoded data removed]"
          },
          "metadata": {
            "image/png": {
              "width": 551,
              "height": 442
            }
          }
        }
      ]
    },
    {
      "cell_type": "code",
      "source": [
        "plt.style.use('classic') # 스타일서식 지정\n",
        "df_petit.hist(color='coral')\n",
        "plt.title('Histogram of the number of petition agreements')\n",
        "plt.xlabel('Agreements')\n",
        "plt.show()"
      ],
      "metadata": {
        "colab": {
          "base_uri": "https://localhost:8080/",
          "height": 244
        },
        "id": "bRzTji3tZiLO",
        "outputId": "b1a70d01-4970-4613-8435-6b0844645303"
      },
      "execution_count": null,
      "outputs": [
        {
          "output_type": "error",
          "ename": "AttributeError",
          "evalue": "ignored",
          "traceback": [
            "\u001b[0;31m---------------------------------------------------------------------------\u001b[0m",
            "\u001b[0;31mAttributeError\u001b[0m                            Traceback (most recent call last)",
            "\u001b[0;32m<ipython-input-162-6b8d17407c86>\u001b[0m in \u001b[0;36m<module>\u001b[0;34m\u001b[0m\n\u001b[1;32m      1\u001b[0m \u001b[0mplt\u001b[0m\u001b[0;34m.\u001b[0m\u001b[0mstyle\u001b[0m\u001b[0;34m.\u001b[0m\u001b[0muse\u001b[0m\u001b[0;34m(\u001b[0m\u001b[0;34m'classic'\u001b[0m\u001b[0;34m)\u001b[0m \u001b[0;31m# 스타일서식 지정\u001b[0m\u001b[0;34m\u001b[0m\u001b[0;34m\u001b[0m\u001b[0m\n\u001b[0;32m----> 2\u001b[0;31m \u001b[0mdf_petit\u001b[0m\u001b[0;34m.\u001b[0m\u001b[0mhist\u001b[0m\u001b[0;34m(\u001b[0m\u001b[0mcolor\u001b[0m\u001b[0;34m=\u001b[0m\u001b[0;34m'coral'\u001b[0m\u001b[0;34m)\u001b[0m\u001b[0;34m\u001b[0m\u001b[0;34m\u001b[0m\u001b[0m\n\u001b[0m\u001b[1;32m      3\u001b[0m \u001b[0mplt\u001b[0m\u001b[0;34m.\u001b[0m\u001b[0mtitle\u001b[0m\u001b[0;34m(\u001b[0m\u001b[0;34m'Histogram of the number of petition agreements'\u001b[0m\u001b[0;34m)\u001b[0m\u001b[0;34m\u001b[0m\u001b[0;34m\u001b[0m\u001b[0m\n\u001b[1;32m      4\u001b[0m \u001b[0mplt\u001b[0m\u001b[0;34m.\u001b[0m\u001b[0mxlabel\u001b[0m\u001b[0;34m(\u001b[0m\u001b[0;34m'Agreements'\u001b[0m\u001b[0;34m)\u001b[0m\u001b[0;34m\u001b[0m\u001b[0;34m\u001b[0m\u001b[0m\n\u001b[1;32m      5\u001b[0m \u001b[0mplt\u001b[0m\u001b[0;34m.\u001b[0m\u001b[0mshow\u001b[0m\u001b[0;34m(\u001b[0m\u001b[0;34m)\u001b[0m\u001b[0;34m\u001b[0m\u001b[0;34m\u001b[0m\u001b[0m\n",
            "\u001b[0;31mAttributeError\u001b[0m: 'numpy.ndarray' object has no attribute 'hist'"
          ]
        }
      ]
    }
  ]
}
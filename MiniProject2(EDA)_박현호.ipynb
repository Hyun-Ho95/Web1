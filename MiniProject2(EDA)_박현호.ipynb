{
  "nbformat": 4,
  "nbformat_minor": 0,
  "metadata": {
    "colab": {
      "provenance": [],
      "authorship_tag": "ABX9TyPypR51t9hb4Rbobl5Aj4vo",
      "include_colab_link": true
    },
    "kernelspec": {
      "name": "python3",
      "display_name": "Python 3"
    },
    "language_info": {
      "name": "python"
    }
  },
  "cells": [
    {
      "cell_type": "markdown",
      "metadata": {
        "id": "view-in-github",
        "colab_type": "text"
      },
      "source": [
        "<a href=\"https://colab.research.google.com/github/Hyun-Ho95/Web1/blob/master/MiniProject2(EDA)_%EB%B0%95%ED%98%84%ED%98%B8.ipynb\" target=\"_parent\"><img src=\"https://colab.research.google.com/assets/colab-badge.svg\" alt=\"Open In Colab\"/></a>"
      ]
    },
    {
      "cell_type": "markdown",
      "source": [
        "# 포항시 교통카드 버스 이용내역 \n"
      ],
      "metadata": {
        "id": "_o0Uk9SnryE8"
      }
    },
    {
      "cell_type": "markdown",
      "source": [
        "# 📝 데이터(파일) 수집"
      ],
      "metadata": {
        "id": "JOTRv4TmA6iW"
      }
    },
    {
      "cell_type": "markdown",
      "source": [
        "## 라이브러리 불러오기\n"
      ],
      "metadata": {
        "id": "ULNc66Jq-ik5"
      }
    },
    {
      "cell_type": "code",
      "execution_count": 10,
      "metadata": {
        "id": "rossZjlv-faC"
      },
      "outputs": [],
      "source": [
        "import time\n",
        "import numpy as np\n",
        "import pandas as pd\n",
        "import requests\n",
        "#시각화를 위한 matplolib\n",
        "import matplotlib.pyplot as plt"
      ]
    },
    {
      "cell_type": "markdown",
      "source": [
        "## matplotlib의 한글 지원 라이브러리"
      ],
      "metadata": {
        "id": "3iHQL7RB-pZb"
      }
    },
    {
      "cell_type": "code",
      "source": [
        "# 한글폰트 사용을 위해 설치\n",
        "!pip install koreanize-matplotlib"
      ],
      "metadata": {
        "id": "H0J8zIqy_dTu",
        "colab": {
          "base_uri": "https://localhost:8080/"
        },
        "outputId": "6fee5a7d-e024-4594-d1ec-24c5d9cf6c75"
      },
      "execution_count": 11,
      "outputs": [
        {
          "output_type": "stream",
          "name": "stdout",
          "text": [
            "Looking in indexes: https://pypi.org/simple, https://us-python.pkg.dev/colab-wheels/public/simple/\n",
            "Requirement already satisfied: koreanize-matplotlib in /usr/local/lib/python3.8/dist-packages (0.1.1)\n",
            "Requirement already satisfied: matplotlib in /usr/local/lib/python3.8/dist-packages (from koreanize-matplotlib) (3.2.2)\n",
            "Requirement already satisfied: pyparsing!=2.0.4,!=2.1.2,!=2.1.6,>=2.0.1 in /usr/local/lib/python3.8/dist-packages (from matplotlib->koreanize-matplotlib) (3.0.9)\n",
            "Requirement already satisfied: cycler>=0.10 in /usr/local/lib/python3.8/dist-packages (from matplotlib->koreanize-matplotlib) (0.11.0)\n",
            "Requirement already satisfied: numpy>=1.11 in /usr/local/lib/python3.8/dist-packages (from matplotlib->koreanize-matplotlib) (1.21.6)\n",
            "Requirement already satisfied: kiwisolver>=1.0.1 in /usr/local/lib/python3.8/dist-packages (from matplotlib->koreanize-matplotlib) (1.4.4)\n",
            "Requirement already satisfied: python-dateutil>=2.1 in /usr/local/lib/python3.8/dist-packages (from matplotlib->koreanize-matplotlib) (2.8.2)\n",
            "Requirement already satisfied: six>=1.5 in /usr/local/lib/python3.8/dist-packages (from python-dateutil>=2.1->matplotlib->koreanize-matplotlib) (1.15.0)\n"
          ]
        }
      ]
    },
    {
      "cell_type": "code",
      "source": [
        "import koreanize_matplotlib\n",
        "\n",
        "# 그래프에 retina display 적용 (흐릿함 방지)\n",
        "%config InlineBackend.figure_format = 'retina'\n",
        "# 노트북 안에서 그래프를 바로 디스플레이 해주는 설정\n",
        "%matplotlib inline"
      ],
      "metadata": {
        "id": "ZOyY2rbV-n0x"
      },
      "execution_count": 12,
      "outputs": []
    },
    {
      "cell_type": "markdown",
      "source": [
        "## plotly 라이브러리"
      ],
      "metadata": {
        "id": "3mViyn2DUlYB"
      }
    },
    {
      "cell_type": "code",
      "source": [
        "import plotly\n",
        "\n",
        "plotly.__version__"
      ],
      "metadata": {
        "colab": {
          "base_uri": "https://localhost:8080/",
          "height": 35
        },
        "id": "kLaR5kqxUoVN",
        "outputId": "0eead1ae-aee6-499b-a920-ea49f7ee0a94"
      },
      "execution_count": 13,
      "outputs": [
        {
          "output_type": "execute_result",
          "data": {
            "text/plain": [
              "'5.5.0'"
            ],
            "application/vnd.google.colaboratory.intrinsic+json": {
              "type": "string"
            }
          },
          "metadata": {},
          "execution_count": 13
        }
      ]
    },
    {
      "cell_type": "markdown",
      "source": [
        "## 지도 시각화를 위해 설치 \n",
        "conda install -c conda-forge folium\n"
      ],
      "metadata": {
        "id": "0m5d-Wv8RvY0"
      }
    },
    {
      "cell_type": "code",
      "source": [
        "#!pip install folium\n",
        "import folium"
      ],
      "metadata": {
        "id": "eC4bNgudMdJV"
      },
      "execution_count": 14,
      "outputs": []
    },
    {
      "cell_type": "markdown",
      "source": [
        "## 포항시 버스 이용자 교통카드 사용 내역\n",
        "### 💡 주요 내용\n",
        "###   ✅ 승차/하차 정류소 및 승객수 지도에 시각화\n",
        "###   ✅ 승차/하차 승객 수 상위 10개 정류장/노선 시각화\n",
        "###   ✅ 선택 정류장의 승차/하차 승객 수 시각화\n",
        "###   ✅ 22/03/01~22/03/07 동안 버스이용 데이터"
      ],
      "metadata": {
        "id": "Xmjg6Ijf-uDg"
      }
    },
    {
      "cell_type": "markdown",
      "source": [
        "## ● 주피터노트북일 경우\n",
        "\n",
        "\n",
        "*   glob 사용. 프로젝트는 코랩이라 주석처리\n",
        "\n",
        "\n",
        "\n"
      ],
      "metadata": {
        "id": "9HFQwGy0AJBY"
      }
    },
    {
      "cell_type": "code",
      "source": [
        "# 파일 경로 - (\"C:/Users\\black/AI SCHOOL 8기/data/trfcard.csv\")\n",
        "# glob : 주어진 인자에 맞는 파일 경로를 리스트로 반환\n",
        "# from glob import glob\n",
        "# files = glob('data/trfcard*.csv')\n",
        "# files_path = sorted(files)\n",
        "# files_path\n",
        "#first,mid,last는 그냥 홈페이지에서 파일 가져온 순서\n",
        "\n",
        "# df_fir = pd.read_csv(files_path[0]) # 2020/03/31\n",
        "# df_fir.head(2)\n",
        "\n",
        "# df_mid = pd.read_csv(files_path[1]) # 2020/03/12\n",
        "# df_mid.head(2)\n",
        "\n",
        "# df_last = pd.read_csv(files_path[2]) # 2020/03/25\n",
        "# df_last.head(2)\n",
        "\n",
        "# df_p = pd.concat([df_fir,df_mid,df_last])"
      ],
      "metadata": {
        "id": "aVCjcCY8-tK7"
      },
      "execution_count": 15,
      "outputs": []
    },
    {
      "cell_type": "markdown",
      "source": [
        "## ● 코랩일 경우"
      ],
      "metadata": {
        "id": "S8X0jXQUAOF1"
      }
    },
    {
      "cell_type": "code",
      "source": [
        "df_p = pd.read_csv('trfcard.csv')"
      ],
      "metadata": {
        "id": "cHmMF_ldARJg"
      },
      "execution_count": 16,
      "outputs": []
    },
    {
      "cell_type": "code",
      "source": [
        "# 날짜 순서대로 정렬\n",
        "df = df_p.sort_values('on_date',ascending=True)"
      ],
      "metadata": {
        "id": "W3fTgX4iBiaG"
      },
      "execution_count": 17,
      "outputs": []
    },
    {
      "cell_type": "code",
      "source": [
        "df.info()\n",
        "# 날짜가 가독성이 떨어지고, 현재 int type으로 되어있음 => 날짜형식으로 변경"
      ],
      "metadata": {
        "colab": {
          "base_uri": "https://localhost:8080/"
        },
        "id": "NfxYUKp6qpLq",
        "outputId": "656b0e95-340e-45f5-f9ea-68c1cc66aaa9"
      },
      "execution_count": 18,
      "outputs": [
        {
          "output_type": "stream",
          "name": "stdout",
          "text": [
            "<class 'pandas.core.frame.DataFrame'>\n",
            "Int64Index: 36718 entries, 0 to 36717\n",
            "Data columns (total 13 columns):\n",
            " #   Column       Non-Null Count  Dtype  \n",
            "---  ------       --------------  -----  \n",
            " 0   on_date      36718 non-null  int64  \n",
            " 1   off_date     36718 non-null  int64  \n",
            " 2   route_name   36718 non-null  object \n",
            " 3   descr        36718 non-null  object \n",
            " 4   age_type     36718 non-null  object \n",
            " 5   trans_yn     36718 non-null  object \n",
            " 6   addfee_yn    36718 non-null  object \n",
            " 7   start_bstop  36718 non-null  object \n",
            " 8   start_gps_x  36718 non-null  float64\n",
            " 9   start_gps_y  36718 non-null  float64\n",
            " 10  end_bstop    36718 non-null  object \n",
            " 11  end_gps_x    36718 non-null  float64\n",
            " 12  end_gps_y    36718 non-null  float64\n",
            "dtypes: float64(4), int64(2), object(7)\n",
            "memory usage: 3.9+ MB\n"
          ]
        }
      ]
    },
    {
      "cell_type": "code",
      "source": [
        "# astype.(str)로 변경 후에 astype.('datetime64')로 변경\n",
        "# 그냥 astype.('datetime64')하면 에러나거나 1970년? 이 나옴\n",
        "df['on_date'] = df['on_date'].astype(str).astype('datetime64')\n",
        "df['off_date'] = df['off_date'].astype(str).astype('datetime64')"
      ],
      "metadata": {
        "id": "oQ6yKFXGAWM6"
      },
      "execution_count": 19,
      "outputs": []
    },
    {
      "cell_type": "code",
      "source": [
        "# 컬럼들의 영어이름 헷갈리므로 (+가독성 위해) 홈페이지에서 제공하는 문서 내의 컬럼명으로 변경해주기\n",
        "cols = ['승차시각', '하차시각','노선명', '노선경유지', '승객연령', '환승여부',\n",
        "        '추가운임여부', '승차정류장', '승차정류장 GPS X', '승차정류장 GPS Y',\n",
        "        '하차정류장', '하차정류장 GPS X', '하차정류장 GPS Y']\n",
        "df.columns = cols"
      ],
      "metadata": {
        "id": "epIhF9C4BhKO"
      },
      "execution_count": 20,
      "outputs": []
    },
    {
      "cell_type": "markdown",
      "source": [
        "# 📊 데이터 전처리 및 시각화"
      ],
      "metadata": {
        "id": "r2CXlSMOA3Oy"
      }
    },
    {
      "cell_type": "markdown",
      "source": [
        "## 데이터 분석"
      ],
      "metadata": {
        "id": "NYUHhmlKKq1c"
      }
    },
    {
      "cell_type": "code",
      "source": [
        "df.isnull().sum()"
      ],
      "metadata": {
        "id": "gPcihwUEThS9",
        "colab": {
          "base_uri": "https://localhost:8080/"
        },
        "outputId": "88da0caa-b33e-400b-8714-15622791e700"
      },
      "execution_count": 21,
      "outputs": [
        {
          "output_type": "execute_result",
          "data": {
            "text/plain": [
              "승차시각           0\n",
              "하차시각           0\n",
              "노선명            0\n",
              "노선경유지          0\n",
              "승객연령           0\n",
              "환승여부           0\n",
              "추가운임여부         0\n",
              "승차정류장          0\n",
              "승차정류장 GPS X    0\n",
              "승차정류장 GPS Y    0\n",
              "하차정류장          0\n",
              "하차정류장 GPS X    0\n",
              "하차정류장 GPS Y    0\n",
              "dtype: int64"
            ]
          },
          "metadata": {},
          "execution_count": 21
        }
      ]
    },
    {
      "cell_type": "code",
      "source": [
        "df.duplicated().sum()"
      ],
      "metadata": {
        "colab": {
          "base_uri": "https://localhost:8080/"
        },
        "id": "kXEqTvzgptwq",
        "outputId": "8fb74c53-809a-428b-9d13-c21b9a425f81"
      },
      "execution_count": 22,
      "outputs": [
        {
          "output_type": "execute_result",
          "data": {
            "text/plain": [
              "0"
            ]
          },
          "metadata": {},
          "execution_count": 22
        }
      ]
    },
    {
      "cell_type": "code",
      "source": [
        "df.dtypes"
      ],
      "metadata": {
        "id": "LEJ0kzHiTqEc",
        "colab": {
          "base_uri": "https://localhost:8080/"
        },
        "outputId": "2f50a748-360a-4b4c-dec5-f5dd622d0726"
      },
      "execution_count": 23,
      "outputs": [
        {
          "output_type": "execute_result",
          "data": {
            "text/plain": [
              "승차시각           datetime64[ns]\n",
              "하차시각           datetime64[ns]\n",
              "노선명                    object\n",
              "노선경유지                  object\n",
              "승객연령                   object\n",
              "환승여부                   object\n",
              "추가운임여부                 object\n",
              "승차정류장                  object\n",
              "승차정류장 GPS X           float64\n",
              "승차정류장 GPS Y           float64\n",
              "하차정류장                  object\n",
              "하차정류장 GPS X           float64\n",
              "하차정류장 GPS Y           float64\n",
              "dtype: object"
            ]
          },
          "metadata": {},
          "execution_count": 23
        }
      ]
    },
    {
      "cell_type": "code",
      "source": [
        "df.index"
      ],
      "metadata": {
        "id": "U3iHkyhCTwCl",
        "colab": {
          "base_uri": "https://localhost:8080/"
        },
        "outputId": "dca095a6-6c33-4e9f-bd19-8e4dbe09fbf2"
      },
      "execution_count": 24,
      "outputs": [
        {
          "output_type": "execute_result",
          "data": {
            "text/plain": [
              "Int64Index([    0,     1,     2,     3,     4,     5,     6,     7,     8,\n",
              "                9,\n",
              "            ...\n",
              "            36708, 36709, 36710, 36711, 36712, 36713, 36714, 36715, 36716,\n",
              "            36717],\n",
              "           dtype='int64', length=36718)"
            ]
          },
          "metadata": {},
          "execution_count": 24
        }
      ]
    },
    {
      "cell_type": "code",
      "source": [
        "#나중에 지도 시각화 할 때 유용하게 사용할 수 있을 것 같다\n",
        "df.describe()"
      ],
      "metadata": {
        "id": "2tJFJQ0PT4M-",
        "colab": {
          "base_uri": "https://localhost:8080/",
          "height": 300
        },
        "outputId": "974ebf8f-2e73-4a58-ad35-851d6bd0bd64"
      },
      "execution_count": 25,
      "outputs": [
        {
          "output_type": "execute_result",
          "data": {
            "text/plain": [
              "        승차정류장 GPS X   승차정류장 GPS Y   하차정류장 GPS X   하차정류장 GPS Y\n",
              "count  36718.000000  36718.000000  36718.000000  36718.000000\n",
              "mean     129.370183     36.032621    129.369419     36.030132\n",
              "std        0.049462      0.045882      0.040717      0.036492\n",
              "min      129.025585     35.804119    129.052958     35.804119\n",
              "25%      129.350580     36.006417    129.354538     36.013250\n",
              "50%      129.366210     36.029520    129.365460     36.033299\n",
              "75%      129.387127     36.064088    129.371682     36.041941\n",
              "max      129.579045     36.303479    129.578203     36.291213"
            ],
            "text/html": [
              "\n",
              "  <div id=\"df-3507a2fc-0bee-4213-bbca-a5526cc1bebd\">\n",
              "    <div class=\"colab-df-container\">\n",
              "      <div>\n",
              "<style scoped>\n",
              "    .dataframe tbody tr th:only-of-type {\n",
              "        vertical-align: middle;\n",
              "    }\n",
              "\n",
              "    .dataframe tbody tr th {\n",
              "        vertical-align: top;\n",
              "    }\n",
              "\n",
              "    .dataframe thead th {\n",
              "        text-align: right;\n",
              "    }\n",
              "</style>\n",
              "<table border=\"1\" class=\"dataframe\">\n",
              "  <thead>\n",
              "    <tr style=\"text-align: right;\">\n",
              "      <th></th>\n",
              "      <th>승차정류장 GPS X</th>\n",
              "      <th>승차정류장 GPS Y</th>\n",
              "      <th>하차정류장 GPS X</th>\n",
              "      <th>하차정류장 GPS Y</th>\n",
              "    </tr>\n",
              "  </thead>\n",
              "  <tbody>\n",
              "    <tr>\n",
              "      <th>count</th>\n",
              "      <td>36718.000000</td>\n",
              "      <td>36718.000000</td>\n",
              "      <td>36718.000000</td>\n",
              "      <td>36718.000000</td>\n",
              "    </tr>\n",
              "    <tr>\n",
              "      <th>mean</th>\n",
              "      <td>129.370183</td>\n",
              "      <td>36.032621</td>\n",
              "      <td>129.369419</td>\n",
              "      <td>36.030132</td>\n",
              "    </tr>\n",
              "    <tr>\n",
              "      <th>std</th>\n",
              "      <td>0.049462</td>\n",
              "      <td>0.045882</td>\n",
              "      <td>0.040717</td>\n",
              "      <td>0.036492</td>\n",
              "    </tr>\n",
              "    <tr>\n",
              "      <th>min</th>\n",
              "      <td>129.025585</td>\n",
              "      <td>35.804119</td>\n",
              "      <td>129.052958</td>\n",
              "      <td>35.804119</td>\n",
              "    </tr>\n",
              "    <tr>\n",
              "      <th>25%</th>\n",
              "      <td>129.350580</td>\n",
              "      <td>36.006417</td>\n",
              "      <td>129.354538</td>\n",
              "      <td>36.013250</td>\n",
              "    </tr>\n",
              "    <tr>\n",
              "      <th>50%</th>\n",
              "      <td>129.366210</td>\n",
              "      <td>36.029520</td>\n",
              "      <td>129.365460</td>\n",
              "      <td>36.033299</td>\n",
              "    </tr>\n",
              "    <tr>\n",
              "      <th>75%</th>\n",
              "      <td>129.387127</td>\n",
              "      <td>36.064088</td>\n",
              "      <td>129.371682</td>\n",
              "      <td>36.041941</td>\n",
              "    </tr>\n",
              "    <tr>\n",
              "      <th>max</th>\n",
              "      <td>129.579045</td>\n",
              "      <td>36.303479</td>\n",
              "      <td>129.578203</td>\n",
              "      <td>36.291213</td>\n",
              "    </tr>\n",
              "  </tbody>\n",
              "</table>\n",
              "</div>\n",
              "      <button class=\"colab-df-convert\" onclick=\"convertToInteractive('df-3507a2fc-0bee-4213-bbca-a5526cc1bebd')\"\n",
              "              title=\"Convert this dataframe to an interactive table.\"\n",
              "              style=\"display:none;\">\n",
              "        \n",
              "  <svg xmlns=\"http://www.w3.org/2000/svg\" height=\"24px\"viewBox=\"0 0 24 24\"\n",
              "       width=\"24px\">\n",
              "    <path d=\"M0 0h24v24H0V0z\" fill=\"none\"/>\n",
              "    <path d=\"M18.56 5.44l.94 2.06.94-2.06 2.06-.94-2.06-.94-.94-2.06-.94 2.06-2.06.94zm-11 1L8.5 8.5l.94-2.06 2.06-.94-2.06-.94L8.5 2.5l-.94 2.06-2.06.94zm10 10l.94 2.06.94-2.06 2.06-.94-2.06-.94-.94-2.06-.94 2.06-2.06.94z\"/><path d=\"M17.41 7.96l-1.37-1.37c-.4-.4-.92-.59-1.43-.59-.52 0-1.04.2-1.43.59L10.3 9.45l-7.72 7.72c-.78.78-.78 2.05 0 2.83L4 21.41c.39.39.9.59 1.41.59.51 0 1.02-.2 1.41-.59l7.78-7.78 2.81-2.81c.8-.78.8-2.07 0-2.86zM5.41 20L4 18.59l7.72-7.72 1.47 1.35L5.41 20z\"/>\n",
              "  </svg>\n",
              "      </button>\n",
              "      \n",
              "  <style>\n",
              "    .colab-df-container {\n",
              "      display:flex;\n",
              "      flex-wrap:wrap;\n",
              "      gap: 12px;\n",
              "    }\n",
              "\n",
              "    .colab-df-convert {\n",
              "      background-color: #E8F0FE;\n",
              "      border: none;\n",
              "      border-radius: 50%;\n",
              "      cursor: pointer;\n",
              "      display: none;\n",
              "      fill: #1967D2;\n",
              "      height: 32px;\n",
              "      padding: 0 0 0 0;\n",
              "      width: 32px;\n",
              "    }\n",
              "\n",
              "    .colab-df-convert:hover {\n",
              "      background-color: #E2EBFA;\n",
              "      box-shadow: 0px 1px 2px rgba(60, 64, 67, 0.3), 0px 1px 3px 1px rgba(60, 64, 67, 0.15);\n",
              "      fill: #174EA6;\n",
              "    }\n",
              "\n",
              "    [theme=dark] .colab-df-convert {\n",
              "      background-color: #3B4455;\n",
              "      fill: #D2E3FC;\n",
              "    }\n",
              "\n",
              "    [theme=dark] .colab-df-convert:hover {\n",
              "      background-color: #434B5C;\n",
              "      box-shadow: 0px 1px 3px 1px rgba(0, 0, 0, 0.15);\n",
              "      filter: drop-shadow(0px 1px 2px rgba(0, 0, 0, 0.3));\n",
              "      fill: #FFFFFF;\n",
              "    }\n",
              "  </style>\n",
              "\n",
              "      <script>\n",
              "        const buttonEl =\n",
              "          document.querySelector('#df-3507a2fc-0bee-4213-bbca-a5526cc1bebd button.colab-df-convert');\n",
              "        buttonEl.style.display =\n",
              "          google.colab.kernel.accessAllowed ? 'block' : 'none';\n",
              "\n",
              "        async function convertToInteractive(key) {\n",
              "          const element = document.querySelector('#df-3507a2fc-0bee-4213-bbca-a5526cc1bebd');\n",
              "          const dataTable =\n",
              "            await google.colab.kernel.invokeFunction('convertToInteractive',\n",
              "                                                     [key], {});\n",
              "          if (!dataTable) return;\n",
              "\n",
              "          const docLinkHtml = 'Like what you see? Visit the ' +\n",
              "            '<a target=\"_blank\" href=https://colab.research.google.com/notebooks/data_table.ipynb>data table notebook</a>'\n",
              "            + ' to learn more about interactive tables.';\n",
              "          element.innerHTML = '';\n",
              "          dataTable['output_type'] = 'display_data';\n",
              "          await google.colab.output.renderOutput(dataTable, element);\n",
              "          const docLink = document.createElement('div');\n",
              "          docLink.innerHTML = docLinkHtml;\n",
              "          element.appendChild(docLink);\n",
              "        }\n",
              "      </script>\n",
              "    </div>\n",
              "  </div>\n",
              "  "
            ]
          },
          "metadata": {},
          "execution_count": 25
        }
      ]
    },
    {
      "cell_type": "code",
      "source": [
        "df.describe(include='O')\n",
        "# 가장 많이 이용하는 버스 '105 번'\n",
        "# 가장 많이 가는 경유지 '양덕 - 시외버스터미널 -지곡'\n",
        "# 승차와 하차가 가장 많은 정류장 '죽도시장', '시외버스터미널'\n",
        "# 가장 많은 승객연령 '일반' "
      ],
      "metadata": {
        "id": "1cW-IjNuUHVF",
        "colab": {
          "base_uri": "https://localhost:8080/",
          "height": 175
        },
        "outputId": "03b5c0c7-8996-4da9-c0f8-e534e2822f90"
      },
      "execution_count": 26,
      "outputs": [
        {
          "output_type": "execute_result",
          "data": {
            "text/plain": [
              "          노선명        노선경유지   승객연령   환승여부 추가운임여부    승차정류장  하차정류장\n",
              "count   36718        36718  36718  36718  36718    36718  36718\n",
              "unique     56           80      4      2      2      638    551\n",
              "top       105  양덕-시외터미널-지곡     일반      N      N  시외버스터미널   죽도시장\n",
              "freq     4146         4146  35051  34379  36276     1720   6136"
            ],
            "text/html": [
              "\n",
              "  <div id=\"df-3ee4fc30-cf49-4285-980a-6240a286aa1c\">\n",
              "    <div class=\"colab-df-container\">\n",
              "      <div>\n",
              "<style scoped>\n",
              "    .dataframe tbody tr th:only-of-type {\n",
              "        vertical-align: middle;\n",
              "    }\n",
              "\n",
              "    .dataframe tbody tr th {\n",
              "        vertical-align: top;\n",
              "    }\n",
              "\n",
              "    .dataframe thead th {\n",
              "        text-align: right;\n",
              "    }\n",
              "</style>\n",
              "<table border=\"1\" class=\"dataframe\">\n",
              "  <thead>\n",
              "    <tr style=\"text-align: right;\">\n",
              "      <th></th>\n",
              "      <th>노선명</th>\n",
              "      <th>노선경유지</th>\n",
              "      <th>승객연령</th>\n",
              "      <th>환승여부</th>\n",
              "      <th>추가운임여부</th>\n",
              "      <th>승차정류장</th>\n",
              "      <th>하차정류장</th>\n",
              "    </tr>\n",
              "  </thead>\n",
              "  <tbody>\n",
              "    <tr>\n",
              "      <th>count</th>\n",
              "      <td>36718</td>\n",
              "      <td>36718</td>\n",
              "      <td>36718</td>\n",
              "      <td>36718</td>\n",
              "      <td>36718</td>\n",
              "      <td>36718</td>\n",
              "      <td>36718</td>\n",
              "    </tr>\n",
              "    <tr>\n",
              "      <th>unique</th>\n",
              "      <td>56</td>\n",
              "      <td>80</td>\n",
              "      <td>4</td>\n",
              "      <td>2</td>\n",
              "      <td>2</td>\n",
              "      <td>638</td>\n",
              "      <td>551</td>\n",
              "    </tr>\n",
              "    <tr>\n",
              "      <th>top</th>\n",
              "      <td>105</td>\n",
              "      <td>양덕-시외터미널-지곡</td>\n",
              "      <td>일반</td>\n",
              "      <td>N</td>\n",
              "      <td>N</td>\n",
              "      <td>시외버스터미널</td>\n",
              "      <td>죽도시장</td>\n",
              "    </tr>\n",
              "    <tr>\n",
              "      <th>freq</th>\n",
              "      <td>4146</td>\n",
              "      <td>4146</td>\n",
              "      <td>35051</td>\n",
              "      <td>34379</td>\n",
              "      <td>36276</td>\n",
              "      <td>1720</td>\n",
              "      <td>6136</td>\n",
              "    </tr>\n",
              "  </tbody>\n",
              "</table>\n",
              "</div>\n",
              "      <button class=\"colab-df-convert\" onclick=\"convertToInteractive('df-3ee4fc30-cf49-4285-980a-6240a286aa1c')\"\n",
              "              title=\"Convert this dataframe to an interactive table.\"\n",
              "              style=\"display:none;\">\n",
              "        \n",
              "  <svg xmlns=\"http://www.w3.org/2000/svg\" height=\"24px\"viewBox=\"0 0 24 24\"\n",
              "       width=\"24px\">\n",
              "    <path d=\"M0 0h24v24H0V0z\" fill=\"none\"/>\n",
              "    <path d=\"M18.56 5.44l.94 2.06.94-2.06 2.06-.94-2.06-.94-.94-2.06-.94 2.06-2.06.94zm-11 1L8.5 8.5l.94-2.06 2.06-.94-2.06-.94L8.5 2.5l-.94 2.06-2.06.94zm10 10l.94 2.06.94-2.06 2.06-.94-2.06-.94-.94-2.06-.94 2.06-2.06.94z\"/><path d=\"M17.41 7.96l-1.37-1.37c-.4-.4-.92-.59-1.43-.59-.52 0-1.04.2-1.43.59L10.3 9.45l-7.72 7.72c-.78.78-.78 2.05 0 2.83L4 21.41c.39.39.9.59 1.41.59.51 0 1.02-.2 1.41-.59l7.78-7.78 2.81-2.81c.8-.78.8-2.07 0-2.86zM5.41 20L4 18.59l7.72-7.72 1.47 1.35L5.41 20z\"/>\n",
              "  </svg>\n",
              "      </button>\n",
              "      \n",
              "  <style>\n",
              "    .colab-df-container {\n",
              "      display:flex;\n",
              "      flex-wrap:wrap;\n",
              "      gap: 12px;\n",
              "    }\n",
              "\n",
              "    .colab-df-convert {\n",
              "      background-color: #E8F0FE;\n",
              "      border: none;\n",
              "      border-radius: 50%;\n",
              "      cursor: pointer;\n",
              "      display: none;\n",
              "      fill: #1967D2;\n",
              "      height: 32px;\n",
              "      padding: 0 0 0 0;\n",
              "      width: 32px;\n",
              "    }\n",
              "\n",
              "    .colab-df-convert:hover {\n",
              "      background-color: #E2EBFA;\n",
              "      box-shadow: 0px 1px 2px rgba(60, 64, 67, 0.3), 0px 1px 3px 1px rgba(60, 64, 67, 0.15);\n",
              "      fill: #174EA6;\n",
              "    }\n",
              "\n",
              "    [theme=dark] .colab-df-convert {\n",
              "      background-color: #3B4455;\n",
              "      fill: #D2E3FC;\n",
              "    }\n",
              "\n",
              "    [theme=dark] .colab-df-convert:hover {\n",
              "      background-color: #434B5C;\n",
              "      box-shadow: 0px 1px 3px 1px rgba(0, 0, 0, 0.15);\n",
              "      filter: drop-shadow(0px 1px 2px rgba(0, 0, 0, 0.3));\n",
              "      fill: #FFFFFF;\n",
              "    }\n",
              "  </style>\n",
              "\n",
              "      <script>\n",
              "        const buttonEl =\n",
              "          document.querySelector('#df-3ee4fc30-cf49-4285-980a-6240a286aa1c button.colab-df-convert');\n",
              "        buttonEl.style.display =\n",
              "          google.colab.kernel.accessAllowed ? 'block' : 'none';\n",
              "\n",
              "        async function convertToInteractive(key) {\n",
              "          const element = document.querySelector('#df-3ee4fc30-cf49-4285-980a-6240a286aa1c');\n",
              "          const dataTable =\n",
              "            await google.colab.kernel.invokeFunction('convertToInteractive',\n",
              "                                                     [key], {});\n",
              "          if (!dataTable) return;\n",
              "\n",
              "          const docLinkHtml = 'Like what you see? Visit the ' +\n",
              "            '<a target=\"_blank\" href=https://colab.research.google.com/notebooks/data_table.ipynb>data table notebook</a>'\n",
              "            + ' to learn more about interactive tables.';\n",
              "          element.innerHTML = '';\n",
              "          dataTable['output_type'] = 'display_data';\n",
              "          await google.colab.output.renderOutput(dataTable, element);\n",
              "          const docLink = document.createElement('div');\n",
              "          docLink.innerHTML = docLinkHtml;\n",
              "          element.appendChild(docLink);\n",
              "        }\n",
              "      </script>\n",
              "    </div>\n",
              "  </div>\n",
              "  "
            ]
          },
          "metadata": {},
          "execution_count": 26
        }
      ]
    },
    {
      "cell_type": "markdown",
      "source": [
        "## 💡 Point 1. 가장 많이 이용하는 버스? (plotbar + axvline)"
      ],
      "metadata": {
        "id": "QwCnicfaEK-L"
      }
    },
    {
      "cell_type": "code",
      "source": [
        "# 범주형 변수의 기술통계 값으로 알 수 있는 값들이긴 하지만 배운 것 활용하기 위해 시도"
      ],
      "metadata": {
        "id": "mc3wb89DZ3UR"
      },
      "execution_count": 27,
      "outputs": []
    },
    {
      "cell_type": "code",
      "source": [
        "# 3월1일부터 7일까지 일주일 동안 가장 많이 이용한 버스는?\n",
        "df_route = df['노선명'].value_counts().sort_values(ascending=True)\n",
        "df_route.plot(kind = 'barh', figsize = (12,10), title = '포항시 자주 이용하는 버스 순위')\n",
        "plt.axvline(200, c='r', ls=':')\n",
        "plt.xlabel('버스 이용 수')\n",
        "# 가장 많이 이용하는 버스 TOP 5 : 100번대 버스\n",
        "# 100번대 버스의 노선 확인하여 가장 많이 지나가는 정류장 알아보기"
      ],
      "metadata": {
        "colab": {
          "base_uri": "https://localhost:8080/",
          "height": 638
        },
        "id": "ZsTHKVlQA3C2",
        "outputId": "7c9f7c08-69ee-41c7-9828-d11e972f8164"
      },
      "execution_count": 28,
      "outputs": [
        {
          "output_type": "execute_result",
          "data": {
            "text/plain": [
              "Text(0.5, 0, '버스 이용 수')"
            ]
          },
          "metadata": {},
          "execution_count": 28
        },
        {
          "output_type": "display_data",
          "data": {
            "text/plain": [
              "<Figure size 864x720 with 1 Axes>"
            ],
            "image/png": "[encoded data removed]"
          },
          "metadata": {
            "image/png": {
              "width": 794,
              "height": 603
            },
            "needs_background": "light"
          }
        }
      ]
    },
    {
      "cell_type": "markdown",
      "source": [
        "## 💡 Point 2. 제일 많이 들르는 경유지(isin, str.contains)"
      ],
      "metadata": {
        "id": "bvV84DDPEbPf"
      }
    },
    {
      "cell_type": "code",
      "source": [
        "# Top 5 버스는 ? (isin)\n",
        "df.loc[df['노선명'].isin(['105','102','107', '101','109'])].value_counts\n",
        "# 일주일동안 버스이용내역 전체 36718건 중 18049건 차지\n",
        "# 가장 많이 등장하는 '양덕' & '터미널' 로 검색해보기"
      ],
      "metadata": {
        "id": "qlNrlGU1KsCJ",
        "colab": {
          "base_uri": "https://localhost:8080/"
        },
        "outputId": "818e3411-34af-487b-e6f1-bbc756d0b558"
      },
      "execution_count": 29,
      "outputs": [
        {
          "output_type": "execute_result",
          "data": {
            "text/plain": [
              "<bound method DataFrame.value_counts of                      승차시각                하차시각  노선명                  노선경유지  \\\n",
              "5     2020-03-01 05:33:22 2020-03-01 05:43:53  105            양덕-시외터미널-지곡   \n",
              "7     2020-03-01 05:37:20 2020-03-01 06:00:26  107        문덕-시외(고속)터미널-흥해   \n",
              "8     2020-03-01 05:38:36 2020-03-01 05:52:37  105            양덕-시외터미널-지곡   \n",
              "11    2020-03-01 05:46:28 2020-03-01 05:56:07  105            양덕-시외터미널-지곡   \n",
              "16    2020-03-01 05:55:03 2020-03-01 06:08:07  102  문덕-남구청-고속터미널-북구보건소-양덕   \n",
              "...                   ...                 ...  ...                    ...   \n",
              "36709 2020-03-07 23:18:26 2020-03-07 23:27:32  107        문덕-시외(고속)터미널-흥해   \n",
              "36712 2020-03-07 23:21:57 2020-03-07 23:27:43  102  문덕-남구청-고속터미널-북구보건소-양덕   \n",
              "36714 2020-03-07 23:28:51 2020-03-07 23:38:17  102  문덕-남구청-고속터미널-북구보건소-양덕   \n",
              "36716 2020-03-07 23:44:04 2020-03-07 23:48:11  105            양덕-시외터미널-지곡   \n",
              "36717 2020-03-07 23:51:54 2020-03-07 23:58:27  107        문덕-시외(고속)터미널-흥해   \n",
              "\n",
              "      승객연령 환승여부 추가운임여부       승차정류장  승차정류장 GPS X  승차정류장 GPS Y      하차정류장  \\\n",
              "5       일반    N      N      두호초등학교   129.371202    36.064088       중앙상가   \n",
              "7       일반    N      N     경북자동차학원   129.343972    35.997978        오거리   \n",
              "8       일반    N      N      우방비치타운   129.376287    36.054774  고용복지플러스센터   \n",
              "11      일반    N      N     포항테크노파크   129.315820    36.031720       성모병원   \n",
              "16      일반    N      N       북구보건소   129.379384    36.070790       선린병원   \n",
              "...    ...  ...    ...         ...          ...          ...        ...   \n",
              "36709   일반    Y      N  KT(세명기독병원)   129.360220    36.017340      SK뷰2차   \n",
              "36712   일반    N      N   해도119안전센터   129.368260    36.023500       남부시장   \n",
              "36714   일반    Y      N        선린병원   129.367967    36.047229      북구보건소   \n",
              "36716   일반    N      N    영일대 해수욕장   129.376335    36.054052     두호초등학교   \n",
              "36717   일반    N      N     시외버스터미널   129.350290    36.013280    경북자동차학원   \n",
              "\n",
              "       하차정류장 GPS X  하차정류장 GPS Y  \n",
              "5       129.365461    36.037830  \n",
              "7       129.366312    36.031816  \n",
              "8       129.358125    36.022995  \n",
              "11      129.340370    36.011110  \n",
              "16      129.367635    36.047810  \n",
              "...            ...          ...  \n",
              "36709   129.340636    36.008334  \n",
              "36712   129.357100    36.013360  \n",
              "36714   129.379230    36.070520  \n",
              "36716   129.371682    36.064912  \n",
              "36717   129.343901    35.999145  \n",
              "\n",
              "[18049 rows x 13 columns]>"
            ]
          },
          "metadata": {},
          "execution_count": 29
        }
      ]
    },
    {
      "cell_type": "code",
      "source": [
        "# Top5 버스가 '양덕' or '터미널'을 얼마나 경유할까 ? (str.contains)\n",
        "df.loc[df['노선경유지'].str.contains('양덕|터미널')]\n",
        "# 대부분 양덕이나 터미널 경유 (32276건)\n",
        "# 거의 경유하지 않는 버스가 없다"
      ],
      "metadata": {
        "id": "Dqh9hMLbKEqw",
        "colab": {
          "base_uri": "https://localhost:8080/",
          "height": 710
        },
        "outputId": "97344767-fac2-4aad-a121-bb0e3f6f7887"
      },
      "execution_count": 30,
      "outputs": [
        {
          "output_type": "execute_result",
          "data": {
            "text/plain": [
              "                     승차시각                하차시각  노선명                  노선경유지  \\\n",
              "1     2020-03-01 05:17:56 2020-03-01 06:00:27  500      문덕-시외터미널-흥해-청하-월포   \n",
              "2     2020-03-01 05:21:12 2020-03-01 05:22:53  175       문덕-고속터미널-선린병원-달전   \n",
              "3     2020-03-01 05:21:16 2020-03-01 05:55:47  175       문덕-고속터미널-선린병원-달전   \n",
              "4     2020-03-01 05:32:58 2020-03-01 05:39:00  131         양덕-송도-시청-양학-양덕   \n",
              "5     2020-03-01 05:33:22 2020-03-01 05:43:53  105            양덕-시외터미널-지곡   \n",
              "...                   ...                 ...  ...                    ...   \n",
              "36713 2020-03-07 23:26:24 2020-03-07 23:27:42  500      문덕-시외터미널-흥해-청하-월포   \n",
              "36714 2020-03-07 23:28:51 2020-03-07 23:38:17  102  문덕-남구청-고속터미널-북구보건소-양덕   \n",
              "36715 2020-03-07 23:32:08 2020-03-07 23:35:22  108      양덕-죽도-양학-시청-유강-지곡   \n",
              "36716 2020-03-07 23:44:04 2020-03-07 23:48:11  105            양덕-시외터미널-지곡   \n",
              "36717 2020-03-07 23:51:54 2020-03-07 23:58:27  107        문덕-시외(고속)터미널-흥해   \n",
              "\n",
              "      승객연령 환승여부 추가운임여부     승차정류장  승차정류장 GPS X  승차정류장 GPS Y    하차정류장  \\\n",
              "1       일반    N      N     문덕사거리   129.403442    35.962846     성곡1리   \n",
              "2       일반    N      N      오천농협   129.402810    35.970003   부영사랑3차   \n",
              "3       일반    N      N      오천농협   129.402810    35.970003     죽도시장   \n",
              "4       일반    N      N      형산시장   129.364385    36.013877     교보생명   \n",
              "5       일반    N      N    두호초등학교   129.371202    36.064088     중앙상가   \n",
              "...    ...  ...    ...       ...          ...          ...      ...   \n",
              "36713   일반    N      N      중앙상가   129.365461    36.037830     홈플러스   \n",
              "36714   일반    Y      N      선린병원   129.367967    36.047229    북구보건소   \n",
              "36715   일반    N      N     효자사거리   129.338047    36.008512   유강청구타운   \n",
              "36716   일반    N      N  영일대 해수욕장   129.376335    36.054052   두호초등학교   \n",
              "36717   일반    N      N   시외버스터미널   129.350290    36.013280  경북자동차학원   \n",
              "\n",
              "       하차정류장 GPS X  하차정류장 GPS Y  \n",
              "1       129.342082    36.092129  \n",
              "2       129.402520    35.973038  \n",
              "3       129.365169    36.035704  \n",
              "4       129.352235    36.015721  \n",
              "5       129.365461    36.037830  \n",
              "...            ...          ...  \n",
              "36713   129.364714    36.031262  \n",
              "36714   129.379230    36.070520  \n",
              "36715   129.319474    36.005039  \n",
              "36716   129.371682    36.064912  \n",
              "36717   129.343901    35.999145  \n",
              "\n",
              "[32276 rows x 13 columns]"
            ],
            "text/html": [
              "\n",
              "  <div id=\"df-77e7e262-9062-482e-940e-73bf9fa19228\">\n",
              "    <div class=\"colab-df-container\">\n",
              "      <div>\n",
              "<style scoped>\n",
              "    .dataframe tbody tr th:only-of-type {\n",
              "        vertical-align: middle;\n",
              "    }\n",
              "\n",
              "    .dataframe tbody tr th {\n",
              "        vertical-align: top;\n",
              "    }\n",
              "\n",
              "    .dataframe thead th {\n",
              "        text-align: right;\n",
              "    }\n",
              "</style>\n",
              "<table border=\"1\" class=\"dataframe\">\n",
              "  <thead>\n",
              "    <tr style=\"text-align: right;\">\n",
              "      <th></th>\n",
              "      <th>승차시각</th>\n",
              "      <th>하차시각</th>\n",
              "      <th>노선명</th>\n",
              "      <th>노선경유지</th>\n",
              "      <th>승객연령</th>\n",
              "      <th>환승여부</th>\n",
              "      <th>추가운임여부</th>\n",
              "      <th>승차정류장</th>\n",
              "      <th>승차정류장 GPS X</th>\n",
              "      <th>승차정류장 GPS Y</th>\n",
              "      <th>하차정류장</th>\n",
              "      <th>하차정류장 GPS X</th>\n",
              "      <th>하차정류장 GPS Y</th>\n",
              "    </tr>\n",
              "  </thead>\n",
              "  <tbody>\n",
              "    <tr>\n",
              "      <th>1</th>\n",
              "      <td>2020-03-01 05:17:56</td>\n",
              "      <td>2020-03-01 06:00:27</td>\n",
              "      <td>500</td>\n",
              "      <td>문덕-시외터미널-흥해-청하-월포</td>\n",
              "      <td>일반</td>\n",
              "      <td>N</td>\n",
              "      <td>N</td>\n",
              "      <td>문덕사거리</td>\n",
              "      <td>129.403442</td>\n",
              "      <td>35.962846</td>\n",
              "      <td>성곡1리</td>\n",
              "      <td>129.342082</td>\n",
              "      <td>36.092129</td>\n",
              "    </tr>\n",
              "    <tr>\n",
              "      <th>2</th>\n",
              "      <td>2020-03-01 05:21:12</td>\n",
              "      <td>2020-03-01 05:22:53</td>\n",
              "      <td>175</td>\n",
              "      <td>문덕-고속터미널-선린병원-달전</td>\n",
              "      <td>일반</td>\n",
              "      <td>N</td>\n",
              "      <td>N</td>\n",
              "      <td>오천농협</td>\n",
              "      <td>129.402810</td>\n",
              "      <td>35.970003</td>\n",
              "      <td>부영사랑3차</td>\n",
              "      <td>129.402520</td>\n",
              "      <td>35.973038</td>\n",
              "    </tr>\n",
              "    <tr>\n",
              "      <th>3</th>\n",
              "      <td>2020-03-01 05:21:16</td>\n",
              "      <td>2020-03-01 05:55:47</td>\n",
              "      <td>175</td>\n",
              "      <td>문덕-고속터미널-선린병원-달전</td>\n",
              "      <td>일반</td>\n",
              "      <td>N</td>\n",
              "      <td>N</td>\n",
              "      <td>오천농협</td>\n",
              "      <td>129.402810</td>\n",
              "      <td>35.970003</td>\n",
              "      <td>죽도시장</td>\n",
              "      <td>129.365169</td>\n",
              "      <td>36.035704</td>\n",
              "    </tr>\n",
              "    <tr>\n",
              "      <th>4</th>\n",
              "      <td>2020-03-01 05:32:58</td>\n",
              "      <td>2020-03-01 05:39:00</td>\n",
              "      <td>131</td>\n",
              "      <td>양덕-송도-시청-양학-양덕</td>\n",
              "      <td>일반</td>\n",
              "      <td>N</td>\n",
              "      <td>N</td>\n",
              "      <td>형산시장</td>\n",
              "      <td>129.364385</td>\n",
              "      <td>36.013877</td>\n",
              "      <td>교보생명</td>\n",
              "      <td>129.352235</td>\n",
              "      <td>36.015721</td>\n",
              "    </tr>\n",
              "    <tr>\n",
              "      <th>5</th>\n",
              "      <td>2020-03-01 05:33:22</td>\n",
              "      <td>2020-03-01 05:43:53</td>\n",
              "      <td>105</td>\n",
              "      <td>양덕-시외터미널-지곡</td>\n",
              "      <td>일반</td>\n",
              "      <td>N</td>\n",
              "      <td>N</td>\n",
              "      <td>두호초등학교</td>\n",
              "      <td>129.371202</td>\n",
              "      <td>36.064088</td>\n",
              "      <td>중앙상가</td>\n",
              "      <td>129.365461</td>\n",
              "      <td>36.037830</td>\n",
              "    </tr>\n",
              "    <tr>\n",
              "      <th>...</th>\n",
              "      <td>...</td>\n",
              "      <td>...</td>\n",
              "      <td>...</td>\n",
              "      <td>...</td>\n",
              "      <td>...</td>\n",
              "      <td>...</td>\n",
              "      <td>...</td>\n",
              "      <td>...</td>\n",
              "      <td>...</td>\n",
              "      <td>...</td>\n",
              "      <td>...</td>\n",
              "      <td>...</td>\n",
              "      <td>...</td>\n",
              "    </tr>\n",
              "    <tr>\n",
              "      <th>36713</th>\n",
              "      <td>2020-03-07 23:26:24</td>\n",
              "      <td>2020-03-07 23:27:42</td>\n",
              "      <td>500</td>\n",
              "      <td>문덕-시외터미널-흥해-청하-월포</td>\n",
              "      <td>일반</td>\n",
              "      <td>N</td>\n",
              "      <td>N</td>\n",
              "      <td>중앙상가</td>\n",
              "      <td>129.365461</td>\n",
              "      <td>36.037830</td>\n",
              "      <td>홈플러스</td>\n",
              "      <td>129.364714</td>\n",
              "      <td>36.031262</td>\n",
              "    </tr>\n",
              "    <tr>\n",
              "      <th>36714</th>\n",
              "      <td>2020-03-07 23:28:51</td>\n",
              "      <td>2020-03-07 23:38:17</td>\n",
              "      <td>102</td>\n",
              "      <td>문덕-남구청-고속터미널-북구보건소-양덕</td>\n",
              "      <td>일반</td>\n",
              "      <td>Y</td>\n",
              "      <td>N</td>\n",
              "      <td>선린병원</td>\n",
              "      <td>129.367967</td>\n",
              "      <td>36.047229</td>\n",
              "      <td>북구보건소</td>\n",
              "      <td>129.379230</td>\n",
              "      <td>36.070520</td>\n",
              "    </tr>\n",
              "    <tr>\n",
              "      <th>36715</th>\n",
              "      <td>2020-03-07 23:32:08</td>\n",
              "      <td>2020-03-07 23:35:22</td>\n",
              "      <td>108</td>\n",
              "      <td>양덕-죽도-양학-시청-유강-지곡</td>\n",
              "      <td>일반</td>\n",
              "      <td>N</td>\n",
              "      <td>N</td>\n",
              "      <td>효자사거리</td>\n",
              "      <td>129.338047</td>\n",
              "      <td>36.008512</td>\n",
              "      <td>유강청구타운</td>\n",
              "      <td>129.319474</td>\n",
              "      <td>36.005039</td>\n",
              "    </tr>\n",
              "    <tr>\n",
              "      <th>36716</th>\n",
              "      <td>2020-03-07 23:44:04</td>\n",
              "      <td>2020-03-07 23:48:11</td>\n",
              "      <td>105</td>\n",
              "      <td>양덕-시외터미널-지곡</td>\n",
              "      <td>일반</td>\n",
              "      <td>N</td>\n",
              "      <td>N</td>\n",
              "      <td>영일대 해수욕장</td>\n",
              "      <td>129.376335</td>\n",
              "      <td>36.054052</td>\n",
              "      <td>두호초등학교</td>\n",
              "      <td>129.371682</td>\n",
              "      <td>36.064912</td>\n",
              "    </tr>\n",
              "    <tr>\n",
              "      <th>36717</th>\n",
              "      <td>2020-03-07 23:51:54</td>\n",
              "      <td>2020-03-07 23:58:27</td>\n",
              "      <td>107</td>\n",
              "      <td>문덕-시외(고속)터미널-흥해</td>\n",
              "      <td>일반</td>\n",
              "      <td>N</td>\n",
              "      <td>N</td>\n",
              "      <td>시외버스터미널</td>\n",
              "      <td>129.350290</td>\n",
              "      <td>36.013280</td>\n",
              "      <td>경북자동차학원</td>\n",
              "      <td>129.343901</td>\n",
              "      <td>35.999145</td>\n",
              "    </tr>\n",
              "  </tbody>\n",
              "</table>\n",
              "<p>32276 rows × 13 columns</p>\n",
              "</div>\n",
              "      <button class=\"colab-df-convert\" onclick=\"convertToInteractive('df-77e7e262-9062-482e-940e-73bf9fa19228')\"\n",
              "              title=\"Convert this dataframe to an interactive table.\"\n",
              "              style=\"display:none;\">\n",
              "        \n",
              "  <svg xmlns=\"http://www.w3.org/2000/svg\" height=\"24px\"viewBox=\"0 0 24 24\"\n",
              "       width=\"24px\">\n",
              "    <path d=\"M0 0h24v24H0V0z\" fill=\"none\"/>\n",
              "    <path d=\"M18.56 5.44l.94 2.06.94-2.06 2.06-.94-2.06-.94-.94-2.06-.94 2.06-2.06.94zm-11 1L8.5 8.5l.94-2.06 2.06-.94-2.06-.94L8.5 2.5l-.94 2.06-2.06.94zm10 10l.94 2.06.94-2.06 2.06-.94-2.06-.94-.94-2.06-.94 2.06-2.06.94z\"/><path d=\"M17.41 7.96l-1.37-1.37c-.4-.4-.92-.59-1.43-.59-.52 0-1.04.2-1.43.59L10.3 9.45l-7.72 7.72c-.78.78-.78 2.05 0 2.83L4 21.41c.39.39.9.59 1.41.59.51 0 1.02-.2 1.41-.59l7.78-7.78 2.81-2.81c.8-.78.8-2.07 0-2.86zM5.41 20L4 18.59l7.72-7.72 1.47 1.35L5.41 20z\"/>\n",
              "  </svg>\n",
              "      </button>\n",
              "      \n",
              "  <style>\n",
              "    .colab-df-container {\n",
              "      display:flex;\n",
              "      flex-wrap:wrap;\n",
              "      gap: 12px;\n",
              "    }\n",
              "\n",
              "    .colab-df-convert {\n",
              "      background-color: #E8F0FE;\n",
              "      border: none;\n",
              "      border-radius: 50%;\n",
              "      cursor: pointer;\n",
              "      display: none;\n",
              "      fill: #1967D2;\n",
              "      height: 32px;\n",
              "      padding: 0 0 0 0;\n",
              "      width: 32px;\n",
              "    }\n",
              "\n",
              "    .colab-df-convert:hover {\n",
              "      background-color: #E2EBFA;\n",
              "      box-shadow: 0px 1px 2px rgba(60, 64, 67, 0.3), 0px 1px 3px 1px rgba(60, 64, 67, 0.15);\n",
              "      fill: #174EA6;\n",
              "    }\n",
              "\n",
              "    [theme=dark] .colab-df-convert {\n",
              "      background-color: #3B4455;\n",
              "      fill: #D2E3FC;\n",
              "    }\n",
              "\n",
              "    [theme=dark] .colab-df-convert:hover {\n",
              "      background-color: #434B5C;\n",
              "      box-shadow: 0px 1px 3px 1px rgba(0, 0, 0, 0.15);\n",
              "      filter: drop-shadow(0px 1px 2px rgba(0, 0, 0, 0.3));\n",
              "      fill: #FFFFFF;\n",
              "    }\n",
              "  </style>\n",
              "\n",
              "      <script>\n",
              "        const buttonEl =\n",
              "          document.querySelector('#df-77e7e262-9062-482e-940e-73bf9fa19228 button.colab-df-convert');\n",
              "        buttonEl.style.display =\n",
              "          google.colab.kernel.accessAllowed ? 'block' : 'none';\n",
              "\n",
              "        async function convertToInteractive(key) {\n",
              "          const element = document.querySelector('#df-77e7e262-9062-482e-940e-73bf9fa19228');\n",
              "          const dataTable =\n",
              "            await google.colab.kernel.invokeFunction('convertToInteractive',\n",
              "                                                     [key], {});\n",
              "          if (!dataTable) return;\n",
              "\n",
              "          const docLinkHtml = 'Like what you see? Visit the ' +\n",
              "            '<a target=\"_blank\" href=https://colab.research.google.com/notebooks/data_table.ipynb>data table notebook</a>'\n",
              "            + ' to learn more about interactive tables.';\n",
              "          element.innerHTML = '';\n",
              "          dataTable['output_type'] = 'display_data';\n",
              "          await google.colab.output.renderOutput(dataTable, element);\n",
              "          const docLink = document.createElement('div');\n",
              "          docLink.innerHTML = docLinkHtml;\n",
              "          element.appendChild(docLink);\n",
              "        }\n",
              "      </script>\n",
              "    </div>\n",
              "  </div>\n",
              "  "
            ]
          },
          "metadata": {},
          "execution_count": 30
        }
      ]
    },
    {
      "cell_type": "code",
      "source": [
        "# '노선경유지' 에서 파생시켜서 만든 변수로 '~맛집' 만들어서\n",
        "# 양덕'이나 '터미널'을 경유한다하면 GPS번호 따서 근처 맛집 별점 높은순서대로 링크 만들어서 넣고 싶은데....\n",
        "# 아이디어는 있지만 아직은 무리인 것 같습니다"
      ],
      "metadata": {
        "id": "caoqEcNKH9um"
      },
      "execution_count": 31,
      "outputs": []
    },
    {
      "cell_type": "markdown",
      "source": [
        "## 💡 Point 3. 일 / 요일 / 시간대 별 버스 승하차 수 (파생변수)\n",
        "\n",
        "*   1) 일 별\n",
        "*   2) 요일 별\n",
        "*   3) 시간대 별\n",
        "\n"
      ],
      "metadata": {
        "id": "yLUZAzw2sG29"
      }
    },
    {
      "cell_type": "markdown",
      "source": [
        "### 일 별 버스 이용내역"
      ],
      "metadata": {
        "id": "WFn4T2FF6_7W"
      }
    },
    {
      "cell_type": "code",
      "source": [
        "# 2020년 3월 1일부터 7일까지 이용내역\n",
        "bus_count = df['승차시각'].dt.day.value_counts().sort_index()\n",
        "bus_count.plot(kind = 'bar', rot = 0, figsize = (12,3), title ='일 별 버스 이용내역')\n",
        "# bus_count.plot(kind = 'bar', figsize = '16,6', title = '일 별 버스 이용내역')"
      ],
      "metadata": {
        "colab": {
          "base_uri": "https://localhost:8080/",
          "height": 243
        },
        "id": "aRMysXOE7DPK",
        "outputId": "cfde805d-8e56-411c-b543-a38b4125dbb4"
      },
      "execution_count": 32,
      "outputs": [
        {
          "output_type": "execute_result",
          "data": {
            "text/plain": [
              "<matplotlib.axes._subplots.AxesSubplot at 0x7fa1fd291310>"
            ]
          },
          "metadata": {},
          "execution_count": 32
        },
        {
          "output_type": "display_data",
          "data": {
            "text/plain": [
              "<Figure size 864x216 with 1 Axes>"
            ],
            "image/png": "[encoded data removed]"
          },
          "metadata": {
            "image/png": {
              "width": 715,
              "height": 208
            },
            "needs_background": "light"
          }
        }
      ]
    },
    {
      "cell_type": "markdown",
      "source": [
        "### 요일 별 버스 이용내역"
      ],
      "metadata": {
        "id": "tp-B53t_x2NP"
      }
    },
    {
      "cell_type": "code",
      "source": [
        "# '요일' 파생변수 생성\n",
        "# '요일' 잘 생성 되었는지 확인\n",
        "# 2020년 3월 1일은 일요일  \n",
        "df['요일'] = df['승차시각'].dt.dayofweek \n",
        "df.head(2)"
      ],
      "metadata": {
        "colab": {
          "base_uri": "https://localhost:8080/",
          "height": 243
        },
        "id": "lKup3is3sHyM",
        "outputId": "edf99cb7-6384-48ee-b6a9-be07e7279f2f"
      },
      "execution_count": 33,
      "outputs": [
        {
          "output_type": "execute_result",
          "data": {
            "text/plain": [
              "                 승차시각                하차시각  노선명              노선경유지 승객연령 환승여부  \\\n",
              "0 2020-03-01 05:15:47 2020-03-01 05:19:50  160     문덕-대송-송도-죽도-용흥   일반    N   \n",
              "1 2020-03-01 05:17:56 2020-03-01 06:00:27  500  문덕-시외터미널-흥해-청하-월포   일반    N   \n",
              "\n",
              "  추가운임여부  승차정류장  승차정류장 GPS X  승차정류장 GPS Y    하차정류장  하차정류장 GPS X  하차정류장 GPS Y  \\\n",
              "0      N  문덕사거리   129.403442    35.962846  성우오토모티브   129.384492    35.972675   \n",
              "1      N  문덕사거리   129.403442    35.962846     성곡1리   129.342082    36.092129   \n",
              "\n",
              "   요일  \n",
              "0   6  \n",
              "1   6  "
            ],
            "text/html": [
              "\n",
              "  <div id=\"df-6f5f529a-aa1b-4f0f-9a6f-f9623c852675\">\n",
              "    <div class=\"colab-df-container\">\n",
              "      <div>\n",
              "<style scoped>\n",
              "    .dataframe tbody tr th:only-of-type {\n",
              "        vertical-align: middle;\n",
              "    }\n",
              "\n",
              "    .dataframe tbody tr th {\n",
              "        vertical-align: top;\n",
              "    }\n",
              "\n",
              "    .dataframe thead th {\n",
              "        text-align: right;\n",
              "    }\n",
              "</style>\n",
              "<table border=\"1\" class=\"dataframe\">\n",
              "  <thead>\n",
              "    <tr style=\"text-align: right;\">\n",
              "      <th></th>\n",
              "      <th>승차시각</th>\n",
              "      <th>하차시각</th>\n",
              "      <th>노선명</th>\n",
              "      <th>노선경유지</th>\n",
              "      <th>승객연령</th>\n",
              "      <th>환승여부</th>\n",
              "      <th>추가운임여부</th>\n",
              "      <th>승차정류장</th>\n",
              "      <th>승차정류장 GPS X</th>\n",
              "      <th>승차정류장 GPS Y</th>\n",
              "      <th>하차정류장</th>\n",
              "      <th>하차정류장 GPS X</th>\n",
              "      <th>하차정류장 GPS Y</th>\n",
              "      <th>요일</th>\n",
              "    </tr>\n",
              "  </thead>\n",
              "  <tbody>\n",
              "    <tr>\n",
              "      <th>0</th>\n",
              "      <td>2020-03-01 05:15:47</td>\n",
              "      <td>2020-03-01 05:19:50</td>\n",
              "      <td>160</td>\n",
              "      <td>문덕-대송-송도-죽도-용흥</td>\n",
              "      <td>일반</td>\n",
              "      <td>N</td>\n",
              "      <td>N</td>\n",
              "      <td>문덕사거리</td>\n",
              "      <td>129.403442</td>\n",
              "      <td>35.962846</td>\n",
              "      <td>성우오토모티브</td>\n",
              "      <td>129.384492</td>\n",
              "      <td>35.972675</td>\n",
              "      <td>6</td>\n",
              "    </tr>\n",
              "    <tr>\n",
              "      <th>1</th>\n",
              "      <td>2020-03-01 05:17:56</td>\n",
              "      <td>2020-03-01 06:00:27</td>\n",
              "      <td>500</td>\n",
              "      <td>문덕-시외터미널-흥해-청하-월포</td>\n",
              "      <td>일반</td>\n",
              "      <td>N</td>\n",
              "      <td>N</td>\n",
              "      <td>문덕사거리</td>\n",
              "      <td>129.403442</td>\n",
              "      <td>35.962846</td>\n",
              "      <td>성곡1리</td>\n",
              "      <td>129.342082</td>\n",
              "      <td>36.092129</td>\n",
              "      <td>6</td>\n",
              "    </tr>\n",
              "  </tbody>\n",
              "</table>\n",
              "</div>\n",
              "      <button class=\"colab-df-convert\" onclick=\"convertToInteractive('df-6f5f529a-aa1b-4f0f-9a6f-f9623c852675')\"\n",
              "              title=\"Convert this dataframe to an interactive table.\"\n",
              "              style=\"display:none;\">\n",
              "        \n",
              "  <svg xmlns=\"http://www.w3.org/2000/svg\" height=\"24px\"viewBox=\"0 0 24 24\"\n",
              "       width=\"24px\">\n",
              "    <path d=\"M0 0h24v24H0V0z\" fill=\"none\"/>\n",
              "    <path d=\"M18.56 5.44l.94 2.06.94-2.06 2.06-.94-2.06-.94-.94-2.06-.94 2.06-2.06.94zm-11 1L8.5 8.5l.94-2.06 2.06-.94-2.06-.94L8.5 2.5l-.94 2.06-2.06.94zm10 10l.94 2.06.94-2.06 2.06-.94-2.06-.94-.94-2.06-.94 2.06-2.06.94z\"/><path d=\"M17.41 7.96l-1.37-1.37c-.4-.4-.92-.59-1.43-.59-.52 0-1.04.2-1.43.59L10.3 9.45l-7.72 7.72c-.78.78-.78 2.05 0 2.83L4 21.41c.39.39.9.59 1.41.59.51 0 1.02-.2 1.41-.59l7.78-7.78 2.81-2.81c.8-.78.8-2.07 0-2.86zM5.41 20L4 18.59l7.72-7.72 1.47 1.35L5.41 20z\"/>\n",
              "  </svg>\n",
              "      </button>\n",
              "      \n",
              "  <style>\n",
              "    .colab-df-container {\n",
              "      display:flex;\n",
              "      flex-wrap:wrap;\n",
              "      gap: 12px;\n",
              "    }\n",
              "\n",
              "    .colab-df-convert {\n",
              "      background-color: #E8F0FE;\n",
              "      border: none;\n",
              "      border-radius: 50%;\n",
              "      cursor: pointer;\n",
              "      display: none;\n",
              "      fill: #1967D2;\n",
              "      height: 32px;\n",
              "      padding: 0 0 0 0;\n",
              "      width: 32px;\n",
              "    }\n",
              "\n",
              "    .colab-df-convert:hover {\n",
              "      background-color: #E2EBFA;\n",
              "      box-shadow: 0px 1px 2px rgba(60, 64, 67, 0.3), 0px 1px 3px 1px rgba(60, 64, 67, 0.15);\n",
              "      fill: #174EA6;\n",
              "    }\n",
              "\n",
              "    [theme=dark] .colab-df-convert {\n",
              "      background-color: #3B4455;\n",
              "      fill: #D2E3FC;\n",
              "    }\n",
              "\n",
              "    [theme=dark] .colab-df-convert:hover {\n",
              "      background-color: #434B5C;\n",
              "      box-shadow: 0px 1px 3px 1px rgba(0, 0, 0, 0.15);\n",
              "      filter: drop-shadow(0px 1px 2px rgba(0, 0, 0, 0.3));\n",
              "      fill: #FFFFFF;\n",
              "    }\n",
              "  </style>\n",
              "\n",
              "      <script>\n",
              "        const buttonEl =\n",
              "          document.querySelector('#df-6f5f529a-aa1b-4f0f-9a6f-f9623c852675 button.colab-df-convert');\n",
              "        buttonEl.style.display =\n",
              "          google.colab.kernel.accessAllowed ? 'block' : 'none';\n",
              "\n",
              "        async function convertToInteractive(key) {\n",
              "          const element = document.querySelector('#df-6f5f529a-aa1b-4f0f-9a6f-f9623c852675');\n",
              "          const dataTable =\n",
              "            await google.colab.kernel.invokeFunction('convertToInteractive',\n",
              "                                                     [key], {});\n",
              "          if (!dataTable) return;\n",
              "\n",
              "          const docLinkHtml = 'Like what you see? Visit the ' +\n",
              "            '<a target=\"_blank\" href=https://colab.research.google.com/notebooks/data_table.ipynb>data table notebook</a>'\n",
              "            + ' to learn more about interactive tables.';\n",
              "          element.innerHTML = '';\n",
              "          dataTable['output_type'] = 'display_data';\n",
              "          await google.colab.output.renderOutput(dataTable, element);\n",
              "          const docLink = document.createElement('div');\n",
              "          docLink.innerHTML = docLinkHtml;\n",
              "          element.appendChild(docLink);\n",
              "        }\n",
              "      </script>\n",
              "    </div>\n",
              "  </div>\n",
              "  "
            ]
          },
          "metadata": {},
          "execution_count": 33
        }
      ]
    },
    {
      "cell_type": "code",
      "source": [
        "#요일 별 이용 수 구한 뒤 인덱스 번호로 정렬\n",
        "#value로 정렬하면 버스 이용 수로 정렬함\n",
        "weekday_bus = df['요일'].value_counts().sort_index()\n",
        "weekday_bus"
      ],
      "metadata": {
        "colab": {
          "base_uri": "https://localhost:8080/"
        },
        "id": "9faZgmLQwaJo",
        "outputId": "0aa15352-c674-4d42-c133-6ce43930132e"
      },
      "execution_count": 34,
      "outputs": [
        {
          "output_type": "execute_result",
          "data": {
            "text/plain": [
              "0    6545\n",
              "1    5697\n",
              "2    5978\n",
              "3    5830\n",
              "4    6152\n",
              "5    4114\n",
              "6    2402\n",
              "Name: 요일, dtype: int64"
            ]
          },
          "metadata": {},
          "execution_count": 34
        }
      ]
    },
    {
      "cell_type": "code",
      "source": [
        "# 일주일 리스트 생성\n",
        "weekday_list = list('월화수목금토일')"
      ],
      "metadata": {
        "id": "qWC585UgyPcs"
      },
      "execution_count": 35,
      "outputs": []
    },
    {
      "cell_type": "code",
      "source": [
        "weekday_bus.index = weekday_list\n",
        "weekday_bus .plot.bar(rot=0, figsize = (6,3), title = '요일 별 버스 이용 수')\n",
        "# 평일에 제일 많다. 공업단지도 많고 해서 평일에 출퇴근하는 사람들의 이용량이 많은 것 같다.\n",
        "# 주말은 생각보다 적은데 포항 주민이면 돌아다닐 일이 없고, \n",
        "# 놀러온 사람들은 차를 빌리거나 택시를 타서 대중교통의 의존도가 적은것일까 추측해본다.\n",
        "# 버스들의 노선이나 승하차 정류장을 보면 출퇴근 및 통학과 연관이 있는지 알 수 있을 것 같다."
      ],
      "metadata": {
        "colab": {
          "base_uri": "https://localhost:8080/",
          "height": 243
        },
        "id": "vL5h-oMFzXB3",
        "outputId": "c251d764-393b-4c61-83b9-1b563ac06777"
      },
      "execution_count": 36,
      "outputs": [
        {
          "output_type": "execute_result",
          "data": {
            "text/plain": [
              "<matplotlib.axes._subplots.AxesSubplot at 0x7fa1fd26fac0>"
            ]
          },
          "metadata": {},
          "execution_count": 36
        },
        {
          "output_type": "display_data",
          "data": {
            "text/plain": [
              "<Figure size 432x216 with 1 Axes>"
            ],
            "image/png": "[encoded data removed]"
          },
          "metadata": {
            "image/png": {
              "width": 380,
              "height": 208
            },
            "needs_background": "light"
          }
        }
      ]
    },
    {
      "cell_type": "code",
      "source": [
        "def find_dayofweek(day_no):\n",
        "    weekday_list = list('월화수목금토일')\n",
        "    return weekday_list[day_no]\n",
        "\n",
        "find_dayofweek(0)"
      ],
      "metadata": {
        "id": "b6H8g1tBhevu",
        "colab": {
          "base_uri": "https://localhost:8080/",
          "height": 35
        },
        "outputId": "43d44052-f2bc-42bd-af38-3823c5e9288c"
      },
      "execution_count": 37,
      "outputs": [
        {
          "output_type": "execute_result",
          "data": {
            "text/plain": [
              "'월'"
            ],
            "application/vnd.google.colaboratory.intrinsic+json": {
              "type": "string"
            }
          },
          "metadata": {},
          "execution_count": 37
        }
      ]
    },
    {
      "cell_type": "code",
      "source": [
        "# df['요일명'] = map(find_dayofweek,list(df['요일']))"
      ],
      "metadata": {
        "id": "UNLT8GmUivZn"
      },
      "execution_count": 38,
      "outputs": []
    },
    {
      "cell_type": "markdown",
      "source": [
        "### 시간대 별 버스 이용 수 (figure : 빈 프레임 만들기, fig.add_subplot : 서브플랏 추가"
      ],
      "metadata": {
        "id": "vaNWZNnSz09b"
      }
    },
    {
      "cell_type": "markdown",
      "source": [
        "✅ plt.figure()\n",
        "- figure()은 Figure인스턴스를 생성.\n",
        "  이미지 전체의 영역을 확보\n",
        "- 그래프는 빈 칸\n",
        "✅ fig.add_subplot()\n",
        "-  plt.figure()으로 그래프를 그리기 위해서는 subplot를 추가\n",
        "- fig = plt.figure()\n",
        "- fig.add_subplot(111)\n",
        "\n",
        "✅111의 의미는, 1행째의 1열의 첫 번째라는 의미로, subplot(1, 1, 1) 로 작성해도 동일하게 작동한다. subplot는 Axes오브젝트를 반환한다. Axes는 그래프의 이미지, 축의 메모리, 라벨의 설정 등을 맡고 있다.\n",
        "\n",
        "✅plt.subplot()\n",
        "\n",
        "\n",
        "*    plt.subplot()는 add_subplot와 동일하게, 인수에 행의 수, 열의 수 및 몇 번째 등을 지정. \n",
        "*   add_subplot과 다른 점은 현재의 이미지영역(fig=figure())에 추가하는 메소드.\n",
        "\n",
        "\n",
        "\n",
        "✅Axes :\n",
        "*   Axes 객체는 실제 이미지 데이터의 역할을 한다\n",
        "*   Axes 객체에 대해 그려질 데이터를 전달하거나, set_xlabel, set_ylabel, set_title로 라벨이나 타이틀의 설정."
      ],
      "metadata": {
        "id": "m_SvXn_Hh8g7"
      }
    },
    {
      "cell_type": "code",
      "source": [
        "# +으쌰으쌰 팀 동기 민정님 코드 참고하여 '하차시각'도 바로 옆에 비교해보기!\n",
        "# ax =  An axes of the current figure. ?을통해 공식문서에 아규먼트확인\n",
        "# 그래프 객체 생성(figure에 2개의 서브플롯 생성)\n",
        "fig = plt.figure(figsize=(15,5))\n",
        "ax1 = fig.add_subplot(1,2,1) #한줄에 2개의 서브플랏 중 첫번째\n",
        "ax2 = fig.add_subplot(1,2,2)\n",
        "\n",
        "ax1.set_xlabel('시간대')\n",
        "ax1.set_ylabel('버스 이용자 수')\n",
        "ax2.set_xlabel('시간대')\n",
        "ax2.set_ylabel('버스 이용자 수')\n",
        "\n",
        "\n",
        "df_hour1 = df['승차시각'].dt.hour.value_counts().sort_index()\n",
        "df_hour1.plot(kind = 'bar', rot = 0, title ='(승차)시간 별 버스 이용 수', ax=ax1)\n",
        "\n",
        "df_hour2 = df['하차시각'].dt.hour.value_counts().sort_index()\n",
        "df_hour2.plot(kind = 'bar', rot = 0, color = 'red', title ='(하차)시간 별 버스 이용 수', ax=ax2)"
      ],
      "metadata": {
        "id": "DYME5Nkia02K",
        "colab": {
          "base_uri": "https://localhost:8080/",
          "height": 366
        },
        "outputId": "f7c09551-5de1-4384-8fca-09a3033cf4b8"
      },
      "execution_count": 39,
      "outputs": [
        {
          "output_type": "execute_result",
          "data": {
            "text/plain": [
              "<matplotlib.axes._subplots.AxesSubplot at 0x7fa1fd221df0>"
            ]
          },
          "metadata": {},
          "execution_count": 39
        },
        {
          "output_type": "display_data",
          "data": {
            "text/plain": [
              "<Figure size 1080x360 with 2 Axes>"
            ],
            "image/png": "[encoded data removed]"
          },
          "metadata": {
            "image/png": {
              "width": 896,
              "height": 331
            },
            "needs_background": "light"
          }
        }
      ]
    },
    {
      "cell_type": "code",
      "source": [
        "# 일주일 간 시간대 별로 확인해 보니 아무래도 출근 시간인 7~8시간에 이용량이 많긴한데\n",
        "# 18시까지 꾸준히 많다... 딱히 출근시간뿐만 아니라 평일 낮에도 사람들이 자주 이용하는것 같다\n",
        "# 이것 역시 노선과 정류장을 확인해봐야 위치 및 시간을 고려하여 보다 정확하게 분석할 수 있을 것 같다."
      ],
      "metadata": {
        "id": "HCI4xOgZ4dKz"
      },
      "execution_count": 40,
      "outputs": []
    },
    {
      "cell_type": "markdown",
      "source": [
        "## 💡 Point 4. 연령대와 버스 이용내역의 상관관계 (crosstab, ~(값 제외))"
      ],
      "metadata": {
        "id": "sKk5Cg60Wsl6"
      }
    },
    {
      "cell_type": "code",
      "source": [
        "# 승객연령과 같이 비교해 보기 좋은 컬럼은 시간대별 버스 이용내역인 것 같다."
      ],
      "metadata": {
        "id": "ZmFd6PshyR-U"
      },
      "execution_count": 41,
      "outputs": []
    },
    {
      "cell_type": "code",
      "source": [
        "df['승객연령'].value_counts()\n",
        "#None값은 뭐지..? 어르신 및 국가유공자 할인 받으신 분들인가..?\n",
        "#None값은 제거    "
      ],
      "metadata": {
        "id": "x6dDP-qIF-ZL",
        "colab": {
          "base_uri": "https://localhost:8080/"
        },
        "outputId": "e0cc2718-573c-46e1-d166-20a8f4d5b59d"
      },
      "execution_count": 42,
      "outputs": [
        {
          "output_type": "execute_result",
          "data": {
            "text/plain": [
              "일반      35051\n",
              "청소년      1477\n",
              "어린이       165\n",
              "None       25\n",
              "Name: 승객연령, dtype: int64"
            ]
          },
          "metadata": {},
          "execution_count": 42
        }
      ]
    },
    {
      "cell_type": "code",
      "source": [
        "df_none = df[~(df['승객연령'] == 'None')]\n",
        "df_none"
      ],
      "metadata": {
        "colab": {
          "base_uri": "https://localhost:8080/",
          "height": 728
        },
        "id": "PUQ54Co6KGbw",
        "outputId": "0391b5df-c646-4d02-8d8a-dba176f7c7b4"
      },
      "execution_count": 43,
      "outputs": [
        {
          "output_type": "execute_result",
          "data": {
            "text/plain": [
              "                     승차시각                하차시각  노선명                  노선경유지  \\\n",
              "0     2020-03-01 05:15:47 2020-03-01 05:19:50  160         문덕-대송-송도-죽도-용흥   \n",
              "1     2020-03-01 05:17:56 2020-03-01 06:00:27  500      문덕-시외터미널-흥해-청하-월포   \n",
              "2     2020-03-01 05:21:12 2020-03-01 05:22:53  175       문덕-고속터미널-선린병원-달전   \n",
              "3     2020-03-01 05:21:16 2020-03-01 05:55:47  175       문덕-고속터미널-선린병원-달전   \n",
              "4     2020-03-01 05:32:58 2020-03-01 05:39:00  131         양덕-송도-시청-양학-양덕   \n",
              "...                   ...                 ...  ...                    ...   \n",
              "36713 2020-03-07 23:26:24 2020-03-07 23:27:42  500      문덕-시외터미널-흥해-청하-월포   \n",
              "36714 2020-03-07 23:28:51 2020-03-07 23:38:17  102  문덕-남구청-고속터미널-북구보건소-양덕   \n",
              "36715 2020-03-07 23:32:08 2020-03-07 23:35:22  108      양덕-죽도-양학-시청-유강-지곡   \n",
              "36716 2020-03-07 23:44:04 2020-03-07 23:48:11  105            양덕-시외터미널-지곡   \n",
              "36717 2020-03-07 23:51:54 2020-03-07 23:58:27  107        문덕-시외(고속)터미널-흥해   \n",
              "\n",
              "      승객연령 환승여부 추가운임여부     승차정류장  승차정류장 GPS X  승차정류장 GPS Y    하차정류장  \\\n",
              "0       일반    N      N     문덕사거리   129.403442    35.962846  성우오토모티브   \n",
              "1       일반    N      N     문덕사거리   129.403442    35.962846     성곡1리   \n",
              "2       일반    N      N      오천농협   129.402810    35.970003   부영사랑3차   \n",
              "3       일반    N      N      오천농협   129.402810    35.970003     죽도시장   \n",
              "4       일반    N      N      형산시장   129.364385    36.013877     교보생명   \n",
              "...    ...  ...    ...       ...          ...          ...      ...   \n",
              "36713   일반    N      N      중앙상가   129.365461    36.037830     홈플러스   \n",
              "36714   일반    Y      N      선린병원   129.367967    36.047229    북구보건소   \n",
              "36715   일반    N      N     효자사거리   129.338047    36.008512   유강청구타운   \n",
              "36716   일반    N      N  영일대 해수욕장   129.376335    36.054052   두호초등학교   \n",
              "36717   일반    N      N   시외버스터미널   129.350290    36.013280  경북자동차학원   \n",
              "\n",
              "       하차정류장 GPS X  하차정류장 GPS Y  요일  \n",
              "0       129.384492    35.972675   6  \n",
              "1       129.342082    36.092129   6  \n",
              "2       129.402520    35.973038   6  \n",
              "3       129.365169    36.035704   6  \n",
              "4       129.352235    36.015721   6  \n",
              "...            ...          ...  ..  \n",
              "36713   129.364714    36.031262   5  \n",
              "36714   129.379230    36.070520   5  \n",
              "36715   129.319474    36.005039   5  \n",
              "36716   129.371682    36.064912   5  \n",
              "36717   129.343901    35.999145   5  \n",
              "\n",
              "[36693 rows x 14 columns]"
            ],
            "text/html": [
              "\n",
              "  <div id=\"df-b7a67113-3ef7-48f2-8b60-3d907a01ceef\">\n",
              "    <div class=\"colab-df-container\">\n",
              "      <div>\n",
              "<style scoped>\n",
              "    .dataframe tbody tr th:only-of-type {\n",
              "        vertical-align: middle;\n",
              "    }\n",
              "\n",
              "    .dataframe tbody tr th {\n",
              "        vertical-align: top;\n",
              "    }\n",
              "\n",
              "    .dataframe thead th {\n",
              "        text-align: right;\n",
              "    }\n",
              "</style>\n",
              "<table border=\"1\" class=\"dataframe\">\n",
              "  <thead>\n",
              "    <tr style=\"text-align: right;\">\n",
              "      <th></th>\n",
              "      <th>승차시각</th>\n",
              "      <th>하차시각</th>\n",
              "      <th>노선명</th>\n",
              "      <th>노선경유지</th>\n",
              "      <th>승객연령</th>\n",
              "      <th>환승여부</th>\n",
              "      <th>추가운임여부</th>\n",
              "      <th>승차정류장</th>\n",
              "      <th>승차정류장 GPS X</th>\n",
              "      <th>승차정류장 GPS Y</th>\n",
              "      <th>하차정류장</th>\n",
              "      <th>하차정류장 GPS X</th>\n",
              "      <th>하차정류장 GPS Y</th>\n",
              "      <th>요일</th>\n",
              "    </tr>\n",
              "  </thead>\n",
              "  <tbody>\n",
              "    <tr>\n",
              "      <th>0</th>\n",
              "      <td>2020-03-01 05:15:47</td>\n",
              "      <td>2020-03-01 05:19:50</td>\n",
              "      <td>160</td>\n",
              "      <td>문덕-대송-송도-죽도-용흥</td>\n",
              "      <td>일반</td>\n",
              "      <td>N</td>\n",
              "      <td>N</td>\n",
              "      <td>문덕사거리</td>\n",
              "      <td>129.403442</td>\n",
              "      <td>35.962846</td>\n",
              "      <td>성우오토모티브</td>\n",
              "      <td>129.384492</td>\n",
              "      <td>35.972675</td>\n",
              "      <td>6</td>\n",
              "    </tr>\n",
              "    <tr>\n",
              "      <th>1</th>\n",
              "      <td>2020-03-01 05:17:56</td>\n",
              "      <td>2020-03-01 06:00:27</td>\n",
              "      <td>500</td>\n",
              "      <td>문덕-시외터미널-흥해-청하-월포</td>\n",
              "      <td>일반</td>\n",
              "      <td>N</td>\n",
              "      <td>N</td>\n",
              "      <td>문덕사거리</td>\n",
              "      <td>129.403442</td>\n",
              "      <td>35.962846</td>\n",
              "      <td>성곡1리</td>\n",
              "      <td>129.342082</td>\n",
              "      <td>36.092129</td>\n",
              "      <td>6</td>\n",
              "    </tr>\n",
              "    <tr>\n",
              "      <th>2</th>\n",
              "      <td>2020-03-01 05:21:12</td>\n",
              "      <td>2020-03-01 05:22:53</td>\n",
              "      <td>175</td>\n",
              "      <td>문덕-고속터미널-선린병원-달전</td>\n",
              "      <td>일반</td>\n",
              "      <td>N</td>\n",
              "      <td>N</td>\n",
              "      <td>오천농협</td>\n",
              "      <td>129.402810</td>\n",
              "      <td>35.970003</td>\n",
              "      <td>부영사랑3차</td>\n",
              "      <td>129.402520</td>\n",
              "      <td>35.973038</td>\n",
              "      <td>6</td>\n",
              "    </tr>\n",
              "    <tr>\n",
              "      <th>3</th>\n",
              "      <td>2020-03-01 05:21:16</td>\n",
              "      <td>2020-03-01 05:55:47</td>\n",
              "      <td>175</td>\n",
              "      <td>문덕-고속터미널-선린병원-달전</td>\n",
              "      <td>일반</td>\n",
              "      <td>N</td>\n",
              "      <td>N</td>\n",
              "      <td>오천농협</td>\n",
              "      <td>129.402810</td>\n",
              "      <td>35.970003</td>\n",
              "      <td>죽도시장</td>\n",
              "      <td>129.365169</td>\n",
              "      <td>36.035704</td>\n",
              "      <td>6</td>\n",
              "    </tr>\n",
              "    <tr>\n",
              "      <th>4</th>\n",
              "      <td>2020-03-01 05:32:58</td>\n",
              "      <td>2020-03-01 05:39:00</td>\n",
              "      <td>131</td>\n",
              "      <td>양덕-송도-시청-양학-양덕</td>\n",
              "      <td>일반</td>\n",
              "      <td>N</td>\n",
              "      <td>N</td>\n",
              "      <td>형산시장</td>\n",
              "      <td>129.364385</td>\n",
              "      <td>36.013877</td>\n",
              "      <td>교보생명</td>\n",
              "      <td>129.352235</td>\n",
              "      <td>36.015721</td>\n",
              "      <td>6</td>\n",
              "    </tr>\n",
              "    <tr>\n",
              "      <th>...</th>\n",
              "      <td>...</td>\n",
              "      <td>...</td>\n",
              "      <td>...</td>\n",
              "      <td>...</td>\n",
              "      <td>...</td>\n",
              "      <td>...</td>\n",
              "      <td>...</td>\n",
              "      <td>...</td>\n",
              "      <td>...</td>\n",
              "      <td>...</td>\n",
              "      <td>...</td>\n",
              "      <td>...</td>\n",
              "      <td>...</td>\n",
              "      <td>...</td>\n",
              "    </tr>\n",
              "    <tr>\n",
              "      <th>36713</th>\n",
              "      <td>2020-03-07 23:26:24</td>\n",
              "      <td>2020-03-07 23:27:42</td>\n",
              "      <td>500</td>\n",
              "      <td>문덕-시외터미널-흥해-청하-월포</td>\n",
              "      <td>일반</td>\n",
              "      <td>N</td>\n",
              "      <td>N</td>\n",
              "      <td>중앙상가</td>\n",
              "      <td>129.365461</td>\n",
              "      <td>36.037830</td>\n",
              "      <td>홈플러스</td>\n",
              "      <td>129.364714</td>\n",
              "      <td>36.031262</td>\n",
              "      <td>5</td>\n",
              "    </tr>\n",
              "    <tr>\n",
              "      <th>36714</th>\n",
              "      <td>2020-03-07 23:28:51</td>\n",
              "      <td>2020-03-07 23:38:17</td>\n",
              "      <td>102</td>\n",
              "      <td>문덕-남구청-고속터미널-북구보건소-양덕</td>\n",
              "      <td>일반</td>\n",
              "      <td>Y</td>\n",
              "      <td>N</td>\n",
              "      <td>선린병원</td>\n",
              "      <td>129.367967</td>\n",
              "      <td>36.047229</td>\n",
              "      <td>북구보건소</td>\n",
              "      <td>129.379230</td>\n",
              "      <td>36.070520</td>\n",
              "      <td>5</td>\n",
              "    </tr>\n",
              "    <tr>\n",
              "      <th>36715</th>\n",
              "      <td>2020-03-07 23:32:08</td>\n",
              "      <td>2020-03-07 23:35:22</td>\n",
              "      <td>108</td>\n",
              "      <td>양덕-죽도-양학-시청-유강-지곡</td>\n",
              "      <td>일반</td>\n",
              "      <td>N</td>\n",
              "      <td>N</td>\n",
              "      <td>효자사거리</td>\n",
              "      <td>129.338047</td>\n",
              "      <td>36.008512</td>\n",
              "      <td>유강청구타운</td>\n",
              "      <td>129.319474</td>\n",
              "      <td>36.005039</td>\n",
              "      <td>5</td>\n",
              "    </tr>\n",
              "    <tr>\n",
              "      <th>36716</th>\n",
              "      <td>2020-03-07 23:44:04</td>\n",
              "      <td>2020-03-07 23:48:11</td>\n",
              "      <td>105</td>\n",
              "      <td>양덕-시외터미널-지곡</td>\n",
              "      <td>일반</td>\n",
              "      <td>N</td>\n",
              "      <td>N</td>\n",
              "      <td>영일대 해수욕장</td>\n",
              "      <td>129.376335</td>\n",
              "      <td>36.054052</td>\n",
              "      <td>두호초등학교</td>\n",
              "      <td>129.371682</td>\n",
              "      <td>36.064912</td>\n",
              "      <td>5</td>\n",
              "    </tr>\n",
              "    <tr>\n",
              "      <th>36717</th>\n",
              "      <td>2020-03-07 23:51:54</td>\n",
              "      <td>2020-03-07 23:58:27</td>\n",
              "      <td>107</td>\n",
              "      <td>문덕-시외(고속)터미널-흥해</td>\n",
              "      <td>일반</td>\n",
              "      <td>N</td>\n",
              "      <td>N</td>\n",
              "      <td>시외버스터미널</td>\n",
              "      <td>129.350290</td>\n",
              "      <td>36.013280</td>\n",
              "      <td>경북자동차학원</td>\n",
              "      <td>129.343901</td>\n",
              "      <td>35.999145</td>\n",
              "      <td>5</td>\n",
              "    </tr>\n",
              "  </tbody>\n",
              "</table>\n",
              "<p>36693 rows × 14 columns</p>\n",
              "</div>\n",
              "      <button class=\"colab-df-convert\" onclick=\"convertToInteractive('df-b7a67113-3ef7-48f2-8b60-3d907a01ceef')\"\n",
              "              title=\"Convert this dataframe to an interactive table.\"\n",
              "              style=\"display:none;\">\n",
              "        \n",
              "  <svg xmlns=\"http://www.w3.org/2000/svg\" height=\"24px\"viewBox=\"0 0 24 24\"\n",
              "       width=\"24px\">\n",
              "    <path d=\"M0 0h24v24H0V0z\" fill=\"none\"/>\n",
              "    <path d=\"M18.56 5.44l.94 2.06.94-2.06 2.06-.94-2.06-.94-.94-2.06-.94 2.06-2.06.94zm-11 1L8.5 8.5l.94-2.06 2.06-.94-2.06-.94L8.5 2.5l-.94 2.06-2.06.94zm10 10l.94 2.06.94-2.06 2.06-.94-2.06-.94-.94-2.06-.94 2.06-2.06.94z\"/><path d=\"M17.41 7.96l-1.37-1.37c-.4-.4-.92-.59-1.43-.59-.52 0-1.04.2-1.43.59L10.3 9.45l-7.72 7.72c-.78.78-.78 2.05 0 2.83L4 21.41c.39.39.9.59 1.41.59.51 0 1.02-.2 1.41-.59l7.78-7.78 2.81-2.81c.8-.78.8-2.07 0-2.86zM5.41 20L4 18.59l7.72-7.72 1.47 1.35L5.41 20z\"/>\n",
              "  </svg>\n",
              "      </button>\n",
              "      \n",
              "  <style>\n",
              "    .colab-df-container {\n",
              "      display:flex;\n",
              "      flex-wrap:wrap;\n",
              "      gap: 12px;\n",
              "    }\n",
              "\n",
              "    .colab-df-convert {\n",
              "      background-color: #E8F0FE;\n",
              "      border: none;\n",
              "      border-radius: 50%;\n",
              "      cursor: pointer;\n",
              "      display: none;\n",
              "      fill: #1967D2;\n",
              "      height: 32px;\n",
              "      padding: 0 0 0 0;\n",
              "      width: 32px;\n",
              "    }\n",
              "\n",
              "    .colab-df-convert:hover {\n",
              "      background-color: #E2EBFA;\n",
              "      box-shadow: 0px 1px 2px rgba(60, 64, 67, 0.3), 0px 1px 3px 1px rgba(60, 64, 67, 0.15);\n",
              "      fill: #174EA6;\n",
              "    }\n",
              "\n",
              "    [theme=dark] .colab-df-convert {\n",
              "      background-color: #3B4455;\n",
              "      fill: #D2E3FC;\n",
              "    }\n",
              "\n",
              "    [theme=dark] .colab-df-convert:hover {\n",
              "      background-color: #434B5C;\n",
              "      box-shadow: 0px 1px 3px 1px rgba(0, 0, 0, 0.15);\n",
              "      filter: drop-shadow(0px 1px 2px rgba(0, 0, 0, 0.3));\n",
              "      fill: #FFFFFF;\n",
              "    }\n",
              "  </style>\n",
              "\n",
              "      <script>\n",
              "        const buttonEl =\n",
              "          document.querySelector('#df-b7a67113-3ef7-48f2-8b60-3d907a01ceef button.colab-df-convert');\n",
              "        buttonEl.style.display =\n",
              "          google.colab.kernel.accessAllowed ? 'block' : 'none';\n",
              "\n",
              "        async function convertToInteractive(key) {\n",
              "          const element = document.querySelector('#df-b7a67113-3ef7-48f2-8b60-3d907a01ceef');\n",
              "          const dataTable =\n",
              "            await google.colab.kernel.invokeFunction('convertToInteractive',\n",
              "                                                     [key], {});\n",
              "          if (!dataTable) return;\n",
              "\n",
              "          const docLinkHtml = 'Like what you see? Visit the ' +\n",
              "            '<a target=\"_blank\" href=https://colab.research.google.com/notebooks/data_table.ipynb>data table notebook</a>'\n",
              "            + ' to learn more about interactive tables.';\n",
              "          element.innerHTML = '';\n",
              "          dataTable['output_type'] = 'display_data';\n",
              "          await google.colab.output.renderOutput(dataTable, element);\n",
              "          const docLink = document.createElement('div');\n",
              "          docLink.innerHTML = docLinkHtml;\n",
              "          element.appendChild(docLink);\n",
              "        }\n",
              "      </script>\n",
              "    </div>\n",
              "  </div>\n",
              "  "
            ]
          },
          "metadata": {},
          "execution_count": 43
        }
      ]
    },
    {
      "cell_type": "code",
      "source": [
        "df_age_bus = pd.crosstab(df_none['승객연령'], df_none['승차시각'].dt.hour)\n",
        "df_age_bus"
      ],
      "metadata": {
        "id": "2WRQlrYEDW5m",
        "colab": {
          "base_uri": "https://localhost:8080/",
          "height": 175
        },
        "outputId": "2a16ba72-b4f9-42f6-db63-5f4ee5789dcb"
      },
      "execution_count": 44,
      "outputs": [
        {
          "output_type": "execute_result",
          "data": {
            "text/plain": [
              "승차시각   5     6     7     8     9     10    11    12    13    14    15    16  \\\n",
              "승객연령                                                                          \n",
              "어린이     1     1     2    12     6     6    22    13    20    10    12     9   \n",
              "일반    391  1320  2406  2765  2473  2492  2523  2268  2337  2609  2686  2411   \n",
              "청소년     4    43    38    63    47    76    86    99   113   137   122   140   \n",
              "\n",
              "승차시각    17    18    19   20   21   22   23  \n",
              "승객연령                                        \n",
              "어린이     14    17     6    3    5    6    0  \n",
              "일반    2382  2084  1200  937  867  748  152  \n",
              "청소년    122    94    91   76   59   59    8  "
            ],
            "text/html": [
              "\n",
              "  <div id=\"df-9028cdfa-ee9a-437b-a7d6-bb52115cda8f\">\n",
              "    <div class=\"colab-df-container\">\n",
              "      <div>\n",
              "<style scoped>\n",
              "    .dataframe tbody tr th:only-of-type {\n",
              "        vertical-align: middle;\n",
              "    }\n",
              "\n",
              "    .dataframe tbody tr th {\n",
              "        vertical-align: top;\n",
              "    }\n",
              "\n",
              "    .dataframe thead th {\n",
              "        text-align: right;\n",
              "    }\n",
              "</style>\n",
              "<table border=\"1\" class=\"dataframe\">\n",
              "  <thead>\n",
              "    <tr style=\"text-align: right;\">\n",
              "      <th>승차시각</th>\n",
              "      <th>5</th>\n",
              "      <th>6</th>\n",
              "      <th>7</th>\n",
              "      <th>8</th>\n",
              "      <th>9</th>\n",
              "      <th>10</th>\n",
              "      <th>11</th>\n",
              "      <th>12</th>\n",
              "      <th>13</th>\n",
              "      <th>14</th>\n",
              "      <th>15</th>\n",
              "      <th>16</th>\n",
              "      <th>17</th>\n",
              "      <th>18</th>\n",
              "      <th>19</th>\n",
              "      <th>20</th>\n",
              "      <th>21</th>\n",
              "      <th>22</th>\n",
              "      <th>23</th>\n",
              "    </tr>\n",
              "    <tr>\n",
              "      <th>승객연령</th>\n",
              "      <th></th>\n",
              "      <th></th>\n",
              "      <th></th>\n",
              "      <th></th>\n",
              "      <th></th>\n",
              "      <th></th>\n",
              "      <th></th>\n",
              "      <th></th>\n",
              "      <th></th>\n",
              "      <th></th>\n",
              "      <th></th>\n",
              "      <th></th>\n",
              "      <th></th>\n",
              "      <th></th>\n",
              "      <th></th>\n",
              "      <th></th>\n",
              "      <th></th>\n",
              "      <th></th>\n",
              "      <th></th>\n",
              "    </tr>\n",
              "  </thead>\n",
              "  <tbody>\n",
              "    <tr>\n",
              "      <th>어린이</th>\n",
              "      <td>1</td>\n",
              "      <td>1</td>\n",
              "      <td>2</td>\n",
              "      <td>12</td>\n",
              "      <td>6</td>\n",
              "      <td>6</td>\n",
              "      <td>22</td>\n",
              "      <td>13</td>\n",
              "      <td>20</td>\n",
              "      <td>10</td>\n",
              "      <td>12</td>\n",
              "      <td>9</td>\n",
              "      <td>14</td>\n",
              "      <td>17</td>\n",
              "      <td>6</td>\n",
              "      <td>3</td>\n",
              "      <td>5</td>\n",
              "      <td>6</td>\n",
              "      <td>0</td>\n",
              "    </tr>\n",
              "    <tr>\n",
              "      <th>일반</th>\n",
              "      <td>391</td>\n",
              "      <td>1320</td>\n",
              "      <td>2406</td>\n",
              "      <td>2765</td>\n",
              "      <td>2473</td>\n",
              "      <td>2492</td>\n",
              "      <td>2523</td>\n",
              "      <td>2268</td>\n",
              "      <td>2337</td>\n",
              "      <td>2609</td>\n",
              "      <td>2686</td>\n",
              "      <td>2411</td>\n",
              "      <td>2382</td>\n",
              "      <td>2084</td>\n",
              "      <td>1200</td>\n",
              "      <td>937</td>\n",
              "      <td>867</td>\n",
              "      <td>748</td>\n",
              "      <td>152</td>\n",
              "    </tr>\n",
              "    <tr>\n",
              "      <th>청소년</th>\n",
              "      <td>4</td>\n",
              "      <td>43</td>\n",
              "      <td>38</td>\n",
              "      <td>63</td>\n",
              "      <td>47</td>\n",
              "      <td>76</td>\n",
              "      <td>86</td>\n",
              "      <td>99</td>\n",
              "      <td>113</td>\n",
              "      <td>137</td>\n",
              "      <td>122</td>\n",
              "      <td>140</td>\n",
              "      <td>122</td>\n",
              "      <td>94</td>\n",
              "      <td>91</td>\n",
              "      <td>76</td>\n",
              "      <td>59</td>\n",
              "      <td>59</td>\n",
              "      <td>8</td>\n",
              "    </tr>\n",
              "  </tbody>\n",
              "</table>\n",
              "</div>\n",
              "      <button class=\"colab-df-convert\" onclick=\"convertToInteractive('df-9028cdfa-ee9a-437b-a7d6-bb52115cda8f')\"\n",
              "              title=\"Convert this dataframe to an interactive table.\"\n",
              "              style=\"display:none;\">\n",
              "        \n",
              "  <svg xmlns=\"http://www.w3.org/2000/svg\" height=\"24px\"viewBox=\"0 0 24 24\"\n",
              "       width=\"24px\">\n",
              "    <path d=\"M0 0h24v24H0V0z\" fill=\"none\"/>\n",
              "    <path d=\"M18.56 5.44l.94 2.06.94-2.06 2.06-.94-2.06-.94-.94-2.06-.94 2.06-2.06.94zm-11 1L8.5 8.5l.94-2.06 2.06-.94-2.06-.94L8.5 2.5l-.94 2.06-2.06.94zm10 10l.94 2.06.94-2.06 2.06-.94-2.06-.94-.94-2.06-.94 2.06-2.06.94z\"/><path d=\"M17.41 7.96l-1.37-1.37c-.4-.4-.92-.59-1.43-.59-.52 0-1.04.2-1.43.59L10.3 9.45l-7.72 7.72c-.78.78-.78 2.05 0 2.83L4 21.41c.39.39.9.59 1.41.59.51 0 1.02-.2 1.41-.59l7.78-7.78 2.81-2.81c.8-.78.8-2.07 0-2.86zM5.41 20L4 18.59l7.72-7.72 1.47 1.35L5.41 20z\"/>\n",
              "  </svg>\n",
              "      </button>\n",
              "      \n",
              "  <style>\n",
              "    .colab-df-container {\n",
              "      display:flex;\n",
              "      flex-wrap:wrap;\n",
              "      gap: 12px;\n",
              "    }\n",
              "\n",
              "    .colab-df-convert {\n",
              "      background-color: #E8F0FE;\n",
              "      border: none;\n",
              "      border-radius: 50%;\n",
              "      cursor: pointer;\n",
              "      display: none;\n",
              "      fill: #1967D2;\n",
              "      height: 32px;\n",
              "      padding: 0 0 0 0;\n",
              "      width: 32px;\n",
              "    }\n",
              "\n",
              "    .colab-df-convert:hover {\n",
              "      background-color: #E2EBFA;\n",
              "      box-shadow: 0px 1px 2px rgba(60, 64, 67, 0.3), 0px 1px 3px 1px rgba(60, 64, 67, 0.15);\n",
              "      fill: #174EA6;\n",
              "    }\n",
              "\n",
              "    [theme=dark] .colab-df-convert {\n",
              "      background-color: #3B4455;\n",
              "      fill: #D2E3FC;\n",
              "    }\n",
              "\n",
              "    [theme=dark] .colab-df-convert:hover {\n",
              "      background-color: #434B5C;\n",
              "      box-shadow: 0px 1px 3px 1px rgba(0, 0, 0, 0.15);\n",
              "      filter: drop-shadow(0px 1px 2px rgba(0, 0, 0, 0.3));\n",
              "      fill: #FFFFFF;\n",
              "    }\n",
              "  </style>\n",
              "\n",
              "      <script>\n",
              "        const buttonEl =\n",
              "          document.querySelector('#df-9028cdfa-ee9a-437b-a7d6-bb52115cda8f button.colab-df-convert');\n",
              "        buttonEl.style.display =\n",
              "          google.colab.kernel.accessAllowed ? 'block' : 'none';\n",
              "\n",
              "        async function convertToInteractive(key) {\n",
              "          const element = document.querySelector('#df-9028cdfa-ee9a-437b-a7d6-bb52115cda8f');\n",
              "          const dataTable =\n",
              "            await google.colab.kernel.invokeFunction('convertToInteractive',\n",
              "                                                     [key], {});\n",
              "          if (!dataTable) return;\n",
              "\n",
              "          const docLinkHtml = 'Like what you see? Visit the ' +\n",
              "            '<a target=\"_blank\" href=https://colab.research.google.com/notebooks/data_table.ipynb>data table notebook</a>'\n",
              "            + ' to learn more about interactive tables.';\n",
              "          element.innerHTML = '';\n",
              "          dataTable['output_type'] = 'display_data';\n",
              "          await google.colab.output.renderOutput(dataTable, element);\n",
              "          const docLink = document.createElement('div');\n",
              "          docLink.innerHTML = docLinkHtml;\n",
              "          element.appendChild(docLink);\n",
              "        }\n",
              "      </script>\n",
              "    </div>\n",
              "  </div>\n",
              "  "
            ]
          },
          "metadata": {},
          "execution_count": 44
        }
      ]
    },
    {
      "cell_type": "code",
      "source": [
        "df_age_bus.T.plot(rot = 0, kind = 'bar', figsize = (12,6))\n",
        "# 일반 승객 수가 가장 많고, 출근 피크시간인 8시가 가장 이용량이 많다.\n",
        "# 오히려 퇴근시간보다 14-15시가 이용량이 많은데 왜 그럴까 ?\n",
        "# 공업단지가 많아서 일찍 퇴근하셔서 일찍 퇴근하시나 ..? \n",
        "# 그러면 조금 더 이른 시간에 이용량이 많아야 할텐데\n",
        "# 이것만으로는 잘 모르겠다"
      ],
      "metadata": {
        "id": "wDtR17-oJSKJ",
        "colab": {
          "base_uri": "https://localhost:8080/",
          "height": 405
        },
        "outputId": "3f1c4457-5d15-4144-eb15-cdcd82fa1b73"
      },
      "execution_count": 45,
      "outputs": [
        {
          "output_type": "execute_result",
          "data": {
            "text/plain": [
              "<matplotlib.axes._subplots.AxesSubplot at 0x7fa2018d02b0>"
            ]
          },
          "metadata": {},
          "execution_count": 45
        },
        {
          "output_type": "display_data",
          "data": {
            "text/plain": [
              "<Figure size 864x432 with 1 Axes>"
            ],
            "image/png": "[encoded data removed]"
          },
          "metadata": {
            "image/png": {
              "width": 715,
              "height": 370
            },
            "needs_background": "light"
          }
        }
      ]
    },
    {
      "cell_type": "code",
      "source": [
        "# 일반승객과 청소년,어린이 데이터의 갭이 너무 커서 어린이와 청소년만 따로 비교하기\n",
        "# 어린이는 거의없다. 혼자타는 경우는 거의 없고 부모님들을 대동하니까 같이 찍어주셔서 없을 것 같다.\n",
        "# 청소년의 버스이용량은 14시 16시가 피크이다.\n",
        "# 16시는 끝나고 놀러가거나 공부 및 학원가는 시간인 것 같고\n",
        "# 14시에는 왜 많을까...? 중고등학생 말고 초등학생은 6교시(14시) 에 끝마쳐서 그런 것 같긴하다.\n",
        "df_age_bus.T[['청소년', '어린이']].plot(rot = 0, kind = 'bar', figsize = (12,6))"
      ],
      "metadata": {
        "id": "tCm182ppZC30",
        "colab": {
          "base_uri": "https://localhost:8080/",
          "height": 405
        },
        "outputId": "02931f21-395e-4df0-be3e-4b17a41220fc"
      },
      "execution_count": 46,
      "outputs": [
        {
          "output_type": "execute_result",
          "data": {
            "text/plain": [
              "<matplotlib.axes._subplots.AxesSubplot at 0x7fa1fd0029d0>"
            ]
          },
          "metadata": {},
          "execution_count": 46
        },
        {
          "output_type": "display_data",
          "data": {
            "text/plain": [
              "<Figure size 864x432 with 1 Axes>"
            ],
            "image/png": "[encoded data removed]"
          },
          "metadata": {
            "image/png": {
              "width": 709,
              "height": 370
            },
            "needs_background": "light"
          }
        }
      ]
    },
    {
      "cell_type": "markdown",
      "source": [
        "# 지도 시각화 🔥🌏"
      ],
      "metadata": {
        "id": "f79BuS9MK22d"
      }
    },
    {
      "cell_type": "markdown",
      "source": [
        "🔥 막간 상식"
      ],
      "metadata": {
        "id": "64-FTp8e4Tyl"
      }
    },
    {
      "cell_type": "code",
      "source": [
        "# 위도 : 지구 위의 위치를 나타내는 좌표축 중에서 가로로 된 것 (GPS X값)\n",
        "\n",
        "# 경도 :지구상의 위치를 표현할때 사용되는 좌표로 기준선인 본초자오선으로부터 \n",
        "#       동쪽이나 서쪽으로 얼마나 떨어져 있는지에 대한 값\n",
        "\n",
        "# 본초 자오선 : 지구상에서 동서(東西)간 위치를 표시할 때 기준이 되는 자오선으로, \n",
        "#               영국 런던의 구(舊)그리니치 천문대(현재 케임브리지로 이전)를 지나는 자오선"
      ],
      "metadata": {
        "id": "77kzotep30My"
      },
      "execution_count": 47,
      "outputs": []
    },
    {
      "cell_type": "code",
      "source": [
        "# 승차정류장들의 위치 중심은 ? \n",
        "# 참고 ! GPS ( X , Y )에서 X가 경도 , Y가 위도\n",
        "# 승차 정류장 들 center = ( 36.032621, 129.370183 )\n",
        "df.describe()"
      ],
      "metadata": {
        "id": "SZF7Wrxo0EPu",
        "colab": {
          "base_uri": "https://localhost:8080/",
          "height": 300
        },
        "outputId": "d24ccb2d-ad09-468b-fe21-4ccbb20064c6"
      },
      "execution_count": 48,
      "outputs": [
        {
          "output_type": "execute_result",
          "data": {
            "text/plain": [
              "        승차정류장 GPS X   승차정류장 GPS Y   하차정류장 GPS X   하차정류장 GPS Y            요일\n",
              "count  36718.000000  36718.000000  36718.000000  36718.000000  36718.000000\n",
              "mean     129.370183     36.032621    129.369419     36.030132      2.580015\n",
              "std        0.049462      0.045882      0.040717      0.036492      1.848207\n",
              "min      129.025585     35.804119    129.052958     35.804119      0.000000\n",
              "25%      129.350580     36.006417    129.354538     36.013250      1.000000\n",
              "50%      129.366210     36.029520    129.365460     36.033299      3.000000\n",
              "75%      129.387127     36.064088    129.371682     36.041941      4.000000\n",
              "max      129.579045     36.303479    129.578203     36.291213      6.000000"
            ],
            "text/html": [
              "\n",
              "  <div id=\"df-1fe390d7-a5a5-4f02-947a-4889538c41b4\">\n",
              "    <div class=\"colab-df-container\">\n",
              "      <div>\n",
              "<style scoped>\n",
              "    .dataframe tbody tr th:only-of-type {\n",
              "        vertical-align: middle;\n",
              "    }\n",
              "\n",
              "    .dataframe tbody tr th {\n",
              "        vertical-align: top;\n",
              "    }\n",
              "\n",
              "    .dataframe thead th {\n",
              "        text-align: right;\n",
              "    }\n",
              "</style>\n",
              "<table border=\"1\" class=\"dataframe\">\n",
              "  <thead>\n",
              "    <tr style=\"text-align: right;\">\n",
              "      <th></th>\n",
              "      <th>승차정류장 GPS X</th>\n",
              "      <th>승차정류장 GPS Y</th>\n",
              "      <th>하차정류장 GPS X</th>\n",
              "      <th>하차정류장 GPS Y</th>\n",
              "      <th>요일</th>\n",
              "    </tr>\n",
              "  </thead>\n",
              "  <tbody>\n",
              "    <tr>\n",
              "      <th>count</th>\n",
              "      <td>36718.000000</td>\n",
              "      <td>36718.000000</td>\n",
              "      <td>36718.000000</td>\n",
              "      <td>36718.000000</td>\n",
              "      <td>36718.000000</td>\n",
              "    </tr>\n",
              "    <tr>\n",
              "      <th>mean</th>\n",
              "      <td>129.370183</td>\n",
              "      <td>36.032621</td>\n",
              "      <td>129.369419</td>\n",
              "      <td>36.030132</td>\n",
              "      <td>2.580015</td>\n",
              "    </tr>\n",
              "    <tr>\n",
              "      <th>std</th>\n",
              "      <td>0.049462</td>\n",
              "      <td>0.045882</td>\n",
              "      <td>0.040717</td>\n",
              "      <td>0.036492</td>\n",
              "      <td>1.848207</td>\n",
              "    </tr>\n",
              "    <tr>\n",
              "      <th>min</th>\n",
              "      <td>129.025585</td>\n",
              "      <td>35.804119</td>\n",
              "      <td>129.052958</td>\n",
              "      <td>35.804119</td>\n",
              "      <td>0.000000</td>\n",
              "    </tr>\n",
              "    <tr>\n",
              "      <th>25%</th>\n",
              "      <td>129.350580</td>\n",
              "      <td>36.006417</td>\n",
              "      <td>129.354538</td>\n",
              "      <td>36.013250</td>\n",
              "      <td>1.000000</td>\n",
              "    </tr>\n",
              "    <tr>\n",
              "      <th>50%</th>\n",
              "      <td>129.366210</td>\n",
              "      <td>36.029520</td>\n",
              "      <td>129.365460</td>\n",
              "      <td>36.033299</td>\n",
              "      <td>3.000000</td>\n",
              "    </tr>\n",
              "    <tr>\n",
              "      <th>75%</th>\n",
              "      <td>129.387127</td>\n",
              "      <td>36.064088</td>\n",
              "      <td>129.371682</td>\n",
              "      <td>36.041941</td>\n",
              "      <td>4.000000</td>\n",
              "    </tr>\n",
              "    <tr>\n",
              "      <th>max</th>\n",
              "      <td>129.579045</td>\n",
              "      <td>36.303479</td>\n",
              "      <td>129.578203</td>\n",
              "      <td>36.291213</td>\n",
              "      <td>6.000000</td>\n",
              "    </tr>\n",
              "  </tbody>\n",
              "</table>\n",
              "</div>\n",
              "      <button class=\"colab-df-convert\" onclick=\"convertToInteractive('df-1fe390d7-a5a5-4f02-947a-4889538c41b4')\"\n",
              "              title=\"Convert this dataframe to an interactive table.\"\n",
              "              style=\"display:none;\">\n",
              "        \n",
              "  <svg xmlns=\"http://www.w3.org/2000/svg\" height=\"24px\"viewBox=\"0 0 24 24\"\n",
              "       width=\"24px\">\n",
              "    <path d=\"M0 0h24v24H0V0z\" fill=\"none\"/>\n",
              "    <path d=\"M18.56 5.44l.94 2.06.94-2.06 2.06-.94-2.06-.94-.94-2.06-.94 2.06-2.06.94zm-11 1L8.5 8.5l.94-2.06 2.06-.94-2.06-.94L8.5 2.5l-.94 2.06-2.06.94zm10 10l.94 2.06.94-2.06 2.06-.94-2.06-.94-.94-2.06-.94 2.06-2.06.94z\"/><path d=\"M17.41 7.96l-1.37-1.37c-.4-.4-.92-.59-1.43-.59-.52 0-1.04.2-1.43.59L10.3 9.45l-7.72 7.72c-.78.78-.78 2.05 0 2.83L4 21.41c.39.39.9.59 1.41.59.51 0 1.02-.2 1.41-.59l7.78-7.78 2.81-2.81c.8-.78.8-2.07 0-2.86zM5.41 20L4 18.59l7.72-7.72 1.47 1.35L5.41 20z\"/>\n",
              "  </svg>\n",
              "      </button>\n",
              "      \n",
              "  <style>\n",
              "    .colab-df-container {\n",
              "      display:flex;\n",
              "      flex-wrap:wrap;\n",
              "      gap: 12px;\n",
              "    }\n",
              "\n",
              "    .colab-df-convert {\n",
              "      background-color: #E8F0FE;\n",
              "      border: none;\n",
              "      border-radius: 50%;\n",
              "      cursor: pointer;\n",
              "      display: none;\n",
              "      fill: #1967D2;\n",
              "      height: 32px;\n",
              "      padding: 0 0 0 0;\n",
              "      width: 32px;\n",
              "    }\n",
              "\n",
              "    .colab-df-convert:hover {\n",
              "      background-color: #E2EBFA;\n",
              "      box-shadow: 0px 1px 2px rgba(60, 64, 67, 0.3), 0px 1px 3px 1px rgba(60, 64, 67, 0.15);\n",
              "      fill: #174EA6;\n",
              "    }\n",
              "\n",
              "    [theme=dark] .colab-df-convert {\n",
              "      background-color: #3B4455;\n",
              "      fill: #D2E3FC;\n",
              "    }\n",
              "\n",
              "    [theme=dark] .colab-df-convert:hover {\n",
              "      background-color: #434B5C;\n",
              "      box-shadow: 0px 1px 3px 1px rgba(0, 0, 0, 0.15);\n",
              "      filter: drop-shadow(0px 1px 2px rgba(0, 0, 0, 0.3));\n",
              "      fill: #FFFFFF;\n",
              "    }\n",
              "  </style>\n",
              "\n",
              "      <script>\n",
              "        const buttonEl =\n",
              "          document.querySelector('#df-1fe390d7-a5a5-4f02-947a-4889538c41b4 button.colab-df-convert');\n",
              "        buttonEl.style.display =\n",
              "          google.colab.kernel.accessAllowed ? 'block' : 'none';\n",
              "\n",
              "        async function convertToInteractive(key) {\n",
              "          const element = document.querySelector('#df-1fe390d7-a5a5-4f02-947a-4889538c41b4');\n",
              "          const dataTable =\n",
              "            await google.colab.kernel.invokeFunction('convertToInteractive',\n",
              "                                                     [key], {});\n",
              "          if (!dataTable) return;\n",
              "\n",
              "          const docLinkHtml = 'Like what you see? Visit the ' +\n",
              "            '<a target=\"_blank\" href=https://colab.research.google.com/notebooks/data_table.ipynb>data table notebook</a>'\n",
              "            + ' to learn more about interactive tables.';\n",
              "          element.innerHTML = '';\n",
              "          dataTable['output_type'] = 'display_data';\n",
              "          await google.colab.output.renderOutput(dataTable, element);\n",
              "          const docLink = document.createElement('div');\n",
              "          docLink.innerHTML = docLinkHtml;\n",
              "          element.appendChild(docLink);\n",
              "        }\n",
              "      </script>\n",
              "    </div>\n",
              "  </div>\n",
              "  "
            ]
          },
          "metadata": {},
          "execution_count": 48
        }
      ]
    },
    {
      "cell_type": "code",
      "source": [
        "# 승차 정류장들의 중심 위치\n",
        "pohang= folium.Map(location=[36.032621, 129.370183], zoom_start= 11)\n",
        "pohang"
      ],
      "metadata": {
        "colab": {
          "base_uri": "https://localhost:8080/",
          "height": 716
        },
        "id": "LDcPF8SnbgO4",
        "outputId": "97874928-6752-4133-b0f8-0408e3604c1e"
      },
      "execution_count": 49,
      "outputs": [
        {
          "output_type": "execute_result",
          "data": {
            "text/plain": [
              "<folium.folium.Map at 0x7fa1fcee6e80>"
            ],
            "text/html": [
              "<div style=\"width:100%;\"><div style=\"position:relative;width:100%;height:0;padding-bottom:60%;\"><span style=\"color:#565656\">Make this Notebook Trusted to load map: File -> Trust Notebook</span><iframe srcdoc=\"&lt;!DOCTYPE html&gt;\n",
              "&lt;html&gt;\n",
              "&lt;head&gt;\n",
              "    \n",
              "    &lt;meta http-equiv=&quot;content-type&quot; content=&quot;text/html; charset=UTF-8&quot; /&gt;\n",
              "    \n",
              "        &lt;script&gt;\n",
              "            L_NO_TOUCH = false;\n",
              "            L_DISABLE_3D = false;\n",
              "        &lt;/script&gt;\n",
              "    \n",
              "    &lt;style&gt;html, body {width: 100%;height: 100%;margin: 0;padding: 0;}&lt;/style&gt;\n",
              "    &lt;style&gt;#map {position:absolute;top:0;bottom:0;right:0;left:0;}&lt;/style&gt;\n",
              "    &lt;script src=&quot;https://cdn.jsdelivr.net/npm/leaflet@1.6.0/dist/leaflet.js&quot;&gt;&lt;/script&gt;\n",
              "    &lt;script src=&quot;https://code.jquery.com/jquery-1.12.4.min.js&quot;&gt;&lt;/script&gt;\n",
              "    &lt;script src=&quot;https://maxcdn.bootstrapcdn.com/bootstrap/3.2.0/js/bootstrap.min.js&quot;&gt;&lt;/script&gt;\n",
              "    &lt;script src=&quot;https://cdnjs.cloudflare.com/ajax/libs/Leaflet.awesome-markers/2.0.2/leaflet.awesome-markers.js&quot;&gt;&lt;/script&gt;\n",
              "    &lt;link rel=&quot;stylesheet&quot; href=&quot;https://cdn.jsdelivr.net/npm/leaflet@1.6.0/dist/leaflet.css&quot;/&gt;\n",
              "    &lt;link rel=&quot;stylesheet&quot; href=&quot;https://maxcdn.bootstrapcdn.com/bootstrap/3.2.0/css/bootstrap.min.css&quot;/&gt;\n",
              "    &lt;link rel=&quot;stylesheet&quot; href=&quot;https://maxcdn.bootstrapcdn.com/bootstrap/3.2.0/css/bootstrap-theme.min.css&quot;/&gt;\n",
              "    &lt;link rel=&quot;stylesheet&quot; href=&quot;https://maxcdn.bootstrapcdn.com/font-awesome/4.6.3/css/font-awesome.min.css&quot;/&gt;\n",
              "    &lt;link rel=&quot;stylesheet&quot; href=&quot;https://cdnjs.cloudflare.com/ajax/libs/Leaflet.awesome-markers/2.0.2/leaflet.awesome-markers.css&quot;/&gt;\n",
              "    &lt;link rel=&quot;stylesheet&quot; href=&quot;https://cdn.jsdelivr.net/gh/python-visualization/folium/folium/templates/leaflet.awesome.rotate.min.css&quot;/&gt;\n",
              "    \n",
              "            &lt;meta name=&quot;viewport&quot; content=&quot;width=device-width,\n",
              "                initial-scale=1.0, maximum-scale=1.0, user-scalable=no&quot; /&gt;\n",
              "            &lt;style&gt;\n",
              "                #map_134000793ae8d2677df6018a237638ea {\n",
              "                    position: relative;\n",
              "                    width: 100.0%;\n",
              "                    height: 100.0%;\n",
              "                    left: 0.0%;\n",
              "                    top: 0.0%;\n",
              "                }\n",
              "            &lt;/style&gt;\n",
              "        \n",
              "&lt;/head&gt;\n",
              "&lt;body&gt;\n",
              "    \n",
              "    \n",
              "            &lt;div class=&quot;folium-map&quot; id=&quot;map_134000793ae8d2677df6018a237638ea&quot; &gt;&lt;/div&gt;\n",
              "        \n",
              "&lt;/body&gt;\n",
              "&lt;script&gt;\n",
              "    \n",
              "    \n",
              "            var map_134000793ae8d2677df6018a237638ea = L.map(\n",
              "                &quot;map_134000793ae8d2677df6018a237638ea&quot;,\n",
              "                {\n",
              "                    center: [36.032621, 129.370183],\n",
              "                    crs: L.CRS.EPSG3857,\n",
              "                    zoom: 11,\n",
              "                    zoomControl: true,\n",
              "                    preferCanvas: false,\n",
              "                }\n",
              "            );\n",
              "\n",
              "            \n",
              "\n",
              "        \n",
              "    \n",
              "            var tile_layer_1bd84fdb57531bede3c71921071d9b73 = L.tileLayer(\n",
              "                &quot;https://{s}.tile.openstreetmap.org/{z}/{x}/{y}.png&quot;,\n",
              "                {&quot;attribution&quot;: &quot;Data by \\u0026copy; \\u003ca href=\\&quot;http://openstreetmap.org\\&quot;\\u003eOpenStreetMap\\u003c/a\\u003e, under \\u003ca href=\\&quot;http://www.openstreetmap.org/copyright\\&quot;\\u003eODbL\\u003c/a\\u003e.&quot;, &quot;detectRetina&quot;: false, &quot;maxNativeZoom&quot;: 18, &quot;maxZoom&quot;: 18, &quot;minZoom&quot;: 0, &quot;noWrap&quot;: false, &quot;opacity&quot;: 1, &quot;subdomains&quot;: &quot;abc&quot;, &quot;tms&quot;: false}\n",
              "            ).addTo(map_134000793ae8d2677df6018a237638ea);\n",
              "        \n",
              "&lt;/script&gt;\n",
              "&lt;/html&gt;\" style=\"position:absolute;width:100%;height:100%;left:0;top:0;border:none !important;\" allowfullscreen webkitallowfullscreen mozallowfullscreen></iframe></div></div>"
            ]
          },
          "metadata": {},
          "execution_count": 49
        }
      ]
    },
    {
      "cell_type": "code",
      "source": [
        "for stop, lat, lng in zip(df['승차정류장'],df['승차정류장 GPS Y'],df['승차정류장 GPS X']):\n",
        "    folium.CircleMarker([lat,lng],\n",
        "                        radius= 10, #원의 반지름\n",
        "                        color = 'brown', #원 둘레 색상\n",
        "                        fill = True,\n",
        "                        fill_color = 'coral', # 원 내부 색상\n",
        "                        fill_opacity = 0.7, # 원 투명도\n",
        "                        popup=stop # 누르면 승차정류장 이름 뜨게하기\n",
        "    ).add_to(pohang)"
      ],
      "metadata": {
        "id": "gT0MTm45vWPW"
      },
      "execution_count": 50,
      "outputs": []
    },
    {
      "cell_type": "code",
      "source": [
        "pohang.save('pohang_bus_station.html')"
      ],
      "metadata": {
        "id": "r0RAS5PIyz1j"
      },
      "execution_count": 51,
      "outputs": []
    },
    {
      "cell_type": "code",
      "source": [
        "# # 승차정류장들의 위치 받아오기\n",
        "# gps_xy = df[['승차정류장 GPS X', '승차정류장 GPS Y']].values[:len(df.index)].tolist()\n",
        "\n",
        "# # for 문 사용하여 점 찍가\n",
        "# for i in range(len(df.index)):  \n",
        "#     folium.Circle(location=gps_xy[i],radius=5,color='blue',fill = True).add_to(pohang)\n",
        "\n",
        "# # 마커 추가\n",
        "# folium.Marker(location = gps_xy[10],tooltip = df['승차정류장'][10],icon = folium.Icon(color = 'blue',icon = 'info-sign')).add_to(pohang)\n",
        "# pohang"
      ],
      "metadata": {
        "id": "Nv_ydgdlLhA-"
      },
      "execution_count": 52,
      "outputs": []
    },
    {
      "cell_type": "code",
      "source": [
        "# 아래와 같은 반복문으로 gps 데이터 시도했는데 계속 상단에 RAM 바가 꽉차면서 커널이 초기화됩니다(55%에서)..\n",
        "# 그래서 일단 5000개 데이터만 수집해보기"
      ],
      "metadata": {
        "id": "pQOarsI2QBQd"
      },
      "execution_count": 53,
      "outputs": []
    },
    {
      "cell_type": "code",
      "source": [
        "# from tqdm import tqdm\n",
        "# from tqdm import trange\n",
        "# gps_xy = [df[['승차정류장 GPS X', '승차정류장 GPS Y']].iloc[i] for i in trange(20000)]\n",
        "# gps_xy"
      ],
      "metadata": {
        "id": "ja3_DGtkR-3i"
      },
      "execution_count": 54,
      "outputs": []
    },
    {
      "cell_type": "markdown",
      "source": [
        "💡 깨달음!"
      ],
      "metadata": {
        "id": "FE5FFb3ASAfN"
      }
    },
    {
      "cell_type": "code",
      "source": [
        "# 좀 더 이유를 알아보고 구글링 해보니 위에서는 시리즈로 가져오려고 했고\n",
        "# 간단히 숫자 데이터만 담아와서 리스트에 넣어주면 된다.."
      ],
      "metadata": {
        "id": "teU4_KuWSJHV"
      },
      "execution_count": 55,
      "outputs": []
    },
    {
      "cell_type": "code",
      "source": [
        "# 그런데 구글링해서 다양한 코드 및 동기분들의 코드를 그대로 가져와서 해봐도 표시가 되질 않는다.."
      ],
      "metadata": {
        "id": "xy9WDUWTRkyY"
      },
      "execution_count": 55,
      "outputs": []
    }
  ]
}
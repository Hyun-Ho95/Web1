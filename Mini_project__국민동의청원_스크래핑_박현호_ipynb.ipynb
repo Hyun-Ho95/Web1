{
  "nbformat": 4,
  "nbformat_minor": 0,
  "metadata": {
    "colab": {
      "provenance": [],
      "authorship_tag": "ABX9TyPtVethIGq11AgfI+14HdTR",
      "include_colab_link": true
    },
    "kernelspec": {
      "name": "python3",
      "display_name": "Python 3"
    },
    "language_info": {
      "name": "python"
    }
  },
  "cells": [
    {
      "cell_type": "markdown",
      "metadata": {
        "id": "view-in-github",
        "colab_type": "text"
      },
      "source": [
        "<a href=\"https://colab.research.google.com/github/Hyun-Ho95/Web1/blob/master/Mini_project__%EA%B5%AD%EB%AF%BC%EB%8F%99%EC%9D%98%EC%B2%AD%EC%9B%90_%EC%8A%A4%ED%81%AC%EB%9E%98%ED%95%91_%EB%B0%95%ED%98%84%ED%98%B8_ipynb.ipynb\" target=\"_parent\"><img src=\"https://colab.research.google.com/assets/colab-badge.svg\" alt=\"Open In Colab\"/></a>"
      ]
    },
    {
      "cell_type": "markdown",
      "source": [
        "## 라이브러리 불러오기"
      ],
      "metadata": {
        "id": "rW-TnN8Ae3LC"
      }
    },
    {
      "cell_type": "code",
      "execution_count": 2,
      "metadata": {
        "id": "VXOs3Z26F0P3"
      },
      "outputs": [],
      "source": [
        "import time\n",
        "import pandas as pd\n",
        "import requests\n",
        "from bs4 import BeautifulSoup as bs"
      ]
    },
    {
      "cell_type": "markdown",
      "source": [
        "## 크롬 브라우저의 네트워크 정보를 통한 데이터 수집\n",
        "* json 방식 데이터 수집"
      ],
      "metadata": {
        "id": "tUuF039ke0aT"
      }
    },
    {
      "cell_type": "code",
      "source": [
        "# 청원 홈페이지 url 찾기\n",
        "# /onGoing -> 동의진행 청원\n",
        "# /agreeEnded -> 동의종료 청원\n",
        "# /referredAll -> 위원회 회부청원"
      ],
      "metadata": {
        "id": "zXlEFOBDGGEh"
      },
      "execution_count": 3,
      "outputs": []
    },
    {
      "cell_type": "code",
      "source": [
        "page_index = 1\n",
        "count_per_page = 8\n",
        "begin_date = 20220101\n",
        "end_date = 20221231"
      ],
      "metadata": {
        "id": "ZKcy0z7SLLHq"
      },
      "execution_count": 8,
      "outputs": []
    },
    {
      "cell_type": "code",
      "source": [
        "url = f'https://petitions.assembly.go.kr/api/petits?pageIndex={page_index}&recordCountPerPage={count_per_page}&sort=AGRE_END_DE-&searchCondition=sj&searchKeyword=&petitRealmCode=&sttusCode='\n",
        "url = f'{url}PETIT_FORMATN,CMIT_FRWRD,PETIT_END&resultCode=BFE_OTHBC_WTHDRAW,PROGRS_WTHDRAW,PETIT_UNACPT,APPRVL_END_DSUSE,ETC_TRNSF&notInColumn='\n",
        "url = f'{url}RESULT_CODE&beginDate={begin_date}&endDate={end_date}&ageCd='\n",
        "url"
      ],
      "metadata": {
        "colab": {
          "base_uri": "https://localhost:8080/",
          "height": 54
        },
        "id": "0sOUS9hyf9Xj",
        "outputId": "8a434689-8596-446d-ed79-801b9874c330"
      },
      "execution_count": 9,
      "outputs": [
        {
          "output_type": "execute_result",
          "data": {
            "text/plain": [
              "'https://petitions.assembly.go.kr/api/petits?pageIndex=1&recordCountPerPage=8&sort=AGRE_END_DE-&searchCondition=sj&searchKeyword=&petitRealmCode=&sttusCode=PETIT_FORMATN,CMIT_FRWRD,PETIT_END&resultCode=BFE_OTHBC_WTHDRAW,PROGRS_WTHDRAW,PETIT_UNACPT,APPRVL_END_DSUSE,ETC_TRNSF&notInColumn=RESULT_CODE&beginDate=20220101&endDate=20221231&ageCd='"
            ],
            "application/vnd.google.colaboratory.intrinsic+json": {
              "type": "string"
            }
          },
          "metadata": {},
          "execution_count": 9
        }
      ]
    },
    {
      "cell_type": "markdown",
      "source": [
        "## Pandas를 통한 요청"
      ],
      "metadata": {
        "id": "1vVDA3vxh3JI"
      }
    },
    {
      "cell_type": "code",
      "source": [
        "# json데이터 확인해보니 청원 목록 = [{청원내용 1에 대한 데이터}, {청원내용 2에 대한 데이터}, ....]인 것 같습니다. \n",
        "# 이것저것 시도해봤는데 원하는 데이터 뽑으려면 일단 수동으로 키값은 찾아야 할 것 같습니다        \n",
        "petit_df = pd.read_json(url, encoding = 'UTF-8')[['petitRealmCode', 'petitRealmNm', 'petitSj', 'petitCn', 'jrsdCmitNm', 'resultCodeNm', 'agreEndDe', 'agreCo']]\n",
        "cols = ['분야코드', '분야', '청원제목', '청원내용', '심사위원회', '청원결과', '종료날짜','동의수' ]\n",
        "petit_df.columns = cols\n",
        "# 저는 이 정도가 데이터 분석해볼 때 필요한 항목이라고 생각해서 가져왔습니다.                                                                                        \n",
        "# 시작날짜는 종료날짜에서 한달 빼면 되고 , 심사위원회는 어느 심사위원회가 심사할 때 통과가 많았는지가 궁금해서 가져와 보았습니다.\n",
        "# 청원내용문 안에 저 '\\r\\n'문자가 지저분해서 제거하려고 하는데 잘 안 없어지네요\n",
        "petit_df"
      ],
      "metadata": {
        "id": "VYIkggnlh2mH",
        "colab": {
          "base_uri": "https://localhost:8080/",
          "height": 500
        },
        "outputId": "bd27c8b8-dc89-4e05-8730-096938579695"
      },
      "execution_count": 23,
      "outputs": [
        {
          "output_type": "execute_result",
          "data": {
            "text/plain": [
              "     분야코드                 분야  \\\n",
              "0    TRIT           국토/해양/교통   \n",
              "1    TRIT           국토/해양/교통   \n",
              "2   HMCCS               보건의료   \n",
              "3   HMCCS               보건의료   \n",
              "4   FNANC        재정/세제/금융/예산   \n",
              "5  MSFRTN           재난/안전/환경   \n",
              "6   HMCCS               보건의료   \n",
              "7  FAMILY  저출산/고령화/아동/청소년/가족   \n",
              "\n",
              "                                               청원제목  \\\n",
              "0     인천 미추홀구뿐만 아니라 전국적인 ‘나 홀로 아파트, 빌라’ 전세사기에 관한 청원   \n",
              "1                      모든 학원, 상가 복도 cctv 의무화에 관한 청원   \n",
              "2                                     간호법 제정에 관한 청원   \n",
              "3     난치성 편두통 환자를 위한 CGRP 표적 치료제의 급여혜택 강화 촉구에 관한 청원   \n",
              "4  가상자산 위믹스 코인 거래지원종료에 관한 DAXA의 처리 투명성과 갑질논란에 관한 청원   \n",
              "5                                   기업의 과대포장에 관한 청원   \n",
              "6                  크론병을 앓고 있는 아들의 건강보험 적용 요청에 관한 청원   \n",
              "7                     난임부부지원 횟수의 확대 및 시험관 지원에 관한 청원   \n",
              "\n",
              "                                                청원내용    심사위원회    청원결과  \\\n",
              "0  ○ 문제점\\r\\n낙찰자가 생겨 곧 퇴거해야하는 피해자들을 위한 ‘전세사기피해지원센터...  국토교통위원회  동의만료폐기   \n",
              "1  안녕하세요.\\n봉담읍에 사는 초등학생  아이를 둔 엄마입니다.\\n저희아이는 학원강의...  국토교통위원회  동의만료폐기   \n",
              "2  현재 96개국에 '간호법'이 있고, OECD 국가 38개국 중 미국을 포함한 33개...  보건복지위원회  동의만료폐기   \n",
              "3  건강보험심사평가원에서 공개한 고시 자료[1]를 보면 대상 질환의 특성으로서 \"삽화편...  보건복지위원회  동의만료폐기   \n",
              "4  한국 거래소협회 DAXA는 10월27일 계획유통량과 실제유통량의 차이를 원인으로 삼...    정무위원회  동의만료폐기   \n",
              "5  환경 문제가 날이 갈수록 심화되고 있습니다. 세계가 노력하고 있지만 여전히 부족하며...  환경노동위원회  동의만료폐기   \n",
              "6  저의 아들은 크론병을 앓고 있습니다.\\r\\n크론병 치료나 완화에 사용되는 약 또는 ...  보건복지위원회  동의만료폐기   \n",
              "7  저는 아직 시험관을 시작하지 않은 결혼 2년차인 여성입니다.\\r\\n \\r\\n늦은 결...  보건복지위원회  동의만료폐기   \n",
              "\n",
              "                  종료날짜   동의수  \n",
              "0  2022-12-30 23:59:59  2250  \n",
              "1  2022-12-30 23:59:59   283  \n",
              "2  2022-12-30 23:59:59   177  \n",
              "3  2022-12-28 23:59:59   524  \n",
              "4  2022-12-28 23:59:59  6165  \n",
              "5  2022-12-28 23:59:59   157  \n",
              "6  2022-12-28 23:59:59   650  \n",
              "7  2022-12-28 23:59:59   567  "
            ],
            "text/html": [
              "\n",
              "  <div id=\"df-615e60ef-7db5-49dd-9acb-bdede6977dd8\">\n",
              "    <div class=\"colab-df-container\">\n",
              "      <div>\n",
              "<style scoped>\n",
              "    .dataframe tbody tr th:only-of-type {\n",
              "        vertical-align: middle;\n",
              "    }\n",
              "\n",
              "    .dataframe tbody tr th {\n",
              "        vertical-align: top;\n",
              "    }\n",
              "\n",
              "    .dataframe thead th {\n",
              "        text-align: right;\n",
              "    }\n",
              "</style>\n",
              "<table border=\"1\" class=\"dataframe\">\n",
              "  <thead>\n",
              "    <tr style=\"text-align: right;\">\n",
              "      <th></th>\n",
              "      <th>분야코드</th>\n",
              "      <th>분야</th>\n",
              "      <th>청원제목</th>\n",
              "      <th>청원내용</th>\n",
              "      <th>심사위원회</th>\n",
              "      <th>청원결과</th>\n",
              "      <th>종료날짜</th>\n",
              "      <th>동의수</th>\n",
              "    </tr>\n",
              "  </thead>\n",
              "  <tbody>\n",
              "    <tr>\n",
              "      <th>0</th>\n",
              "      <td>TRIT</td>\n",
              "      <td>국토/해양/교통</td>\n",
              "      <td>인천 미추홀구뿐만 아니라 전국적인 ‘나 홀로 아파트, 빌라’ 전세사기에 관한 청원</td>\n",
              "      <td>○ 문제점\\r\\n낙찰자가 생겨 곧 퇴거해야하는 피해자들을 위한 ‘전세사기피해지원센터...</td>\n",
              "      <td>국토교통위원회</td>\n",
              "      <td>동의만료폐기</td>\n",
              "      <td>2022-12-30 23:59:59</td>\n",
              "      <td>2250</td>\n",
              "    </tr>\n",
              "    <tr>\n",
              "      <th>1</th>\n",
              "      <td>TRIT</td>\n",
              "      <td>국토/해양/교통</td>\n",
              "      <td>모든 학원, 상가 복도 cctv 의무화에 관한 청원</td>\n",
              "      <td>안녕하세요.\\n봉담읍에 사는 초등학생  아이를 둔 엄마입니다.\\n저희아이는 학원강의...</td>\n",
              "      <td>국토교통위원회</td>\n",
              "      <td>동의만료폐기</td>\n",
              "      <td>2022-12-30 23:59:59</td>\n",
              "      <td>283</td>\n",
              "    </tr>\n",
              "    <tr>\n",
              "      <th>2</th>\n",
              "      <td>HMCCS</td>\n",
              "      <td>보건의료</td>\n",
              "      <td>간호법 제정에 관한 청원</td>\n",
              "      <td>현재 96개국에 '간호법'이 있고, OECD 국가 38개국 중 미국을 포함한 33개...</td>\n",
              "      <td>보건복지위원회</td>\n",
              "      <td>동의만료폐기</td>\n",
              "      <td>2022-12-30 23:59:59</td>\n",
              "      <td>177</td>\n",
              "    </tr>\n",
              "    <tr>\n",
              "      <th>3</th>\n",
              "      <td>HMCCS</td>\n",
              "      <td>보건의료</td>\n",
              "      <td>난치성 편두통 환자를 위한 CGRP 표적 치료제의 급여혜택 강화 촉구에 관한 청원</td>\n",
              "      <td>건강보험심사평가원에서 공개한 고시 자료[1]를 보면 대상 질환의 특성으로서 \"삽화편...</td>\n",
              "      <td>보건복지위원회</td>\n",
              "      <td>동의만료폐기</td>\n",
              "      <td>2022-12-28 23:59:59</td>\n",
              "      <td>524</td>\n",
              "    </tr>\n",
              "    <tr>\n",
              "      <th>4</th>\n",
              "      <td>FNANC</td>\n",
              "      <td>재정/세제/금융/예산</td>\n",
              "      <td>가상자산 위믹스 코인 거래지원종료에 관한 DAXA의 처리 투명성과 갑질논란에 관한 청원</td>\n",
              "      <td>한국 거래소협회 DAXA는 10월27일 계획유통량과 실제유통량의 차이를 원인으로 삼...</td>\n",
              "      <td>정무위원회</td>\n",
              "      <td>동의만료폐기</td>\n",
              "      <td>2022-12-28 23:59:59</td>\n",
              "      <td>6165</td>\n",
              "    </tr>\n",
              "    <tr>\n",
              "      <th>5</th>\n",
              "      <td>MSFRTN</td>\n",
              "      <td>재난/안전/환경</td>\n",
              "      <td>기업의 과대포장에 관한 청원</td>\n",
              "      <td>환경 문제가 날이 갈수록 심화되고 있습니다. 세계가 노력하고 있지만 여전히 부족하며...</td>\n",
              "      <td>환경노동위원회</td>\n",
              "      <td>동의만료폐기</td>\n",
              "      <td>2022-12-28 23:59:59</td>\n",
              "      <td>157</td>\n",
              "    </tr>\n",
              "    <tr>\n",
              "      <th>6</th>\n",
              "      <td>HMCCS</td>\n",
              "      <td>보건의료</td>\n",
              "      <td>크론병을 앓고 있는 아들의 건강보험 적용 요청에 관한 청원</td>\n",
              "      <td>저의 아들은 크론병을 앓고 있습니다.\\r\\n크론병 치료나 완화에 사용되는 약 또는 ...</td>\n",
              "      <td>보건복지위원회</td>\n",
              "      <td>동의만료폐기</td>\n",
              "      <td>2022-12-28 23:59:59</td>\n",
              "      <td>650</td>\n",
              "    </tr>\n",
              "    <tr>\n",
              "      <th>7</th>\n",
              "      <td>FAMILY</td>\n",
              "      <td>저출산/고령화/아동/청소년/가족</td>\n",
              "      <td>난임부부지원 횟수의 확대 및 시험관 지원에 관한 청원</td>\n",
              "      <td>저는 아직 시험관을 시작하지 않은 결혼 2년차인 여성입니다.\\r\\n \\r\\n늦은 결...</td>\n",
              "      <td>보건복지위원회</td>\n",
              "      <td>동의만료폐기</td>\n",
              "      <td>2022-12-28 23:59:59</td>\n",
              "      <td>567</td>\n",
              "    </tr>\n",
              "  </tbody>\n",
              "</table>\n",
              "</div>\n",
              "      <button class=\"colab-df-convert\" onclick=\"convertToInteractive('df-615e60ef-7db5-49dd-9acb-bdede6977dd8')\"\n",
              "              title=\"Convert this dataframe to an interactive table.\"\n",
              "              style=\"display:none;\">\n",
              "        \n",
              "  <svg xmlns=\"http://www.w3.org/2000/svg\" height=\"24px\"viewBox=\"0 0 24 24\"\n",
              "       width=\"24px\">\n",
              "    <path d=\"M0 0h24v24H0V0z\" fill=\"none\"/>\n",
              "    <path d=\"M18.56 5.44l.94 2.06.94-2.06 2.06-.94-2.06-.94-.94-2.06-.94 2.06-2.06.94zm-11 1L8.5 8.5l.94-2.06 2.06-.94-2.06-.94L8.5 2.5l-.94 2.06-2.06.94zm10 10l.94 2.06.94-2.06 2.06-.94-2.06-.94-.94-2.06-.94 2.06-2.06.94z\"/><path d=\"M17.41 7.96l-1.37-1.37c-.4-.4-.92-.59-1.43-.59-.52 0-1.04.2-1.43.59L10.3 9.45l-7.72 7.72c-.78.78-.78 2.05 0 2.83L4 21.41c.39.39.9.59 1.41.59.51 0 1.02-.2 1.41-.59l7.78-7.78 2.81-2.81c.8-.78.8-2.07 0-2.86zM5.41 20L4 18.59l7.72-7.72 1.47 1.35L5.41 20z\"/>\n",
              "  </svg>\n",
              "      </button>\n",
              "      \n",
              "  <style>\n",
              "    .colab-df-container {\n",
              "      display:flex;\n",
              "      flex-wrap:wrap;\n",
              "      gap: 12px;\n",
              "    }\n",
              "\n",
              "    .colab-df-convert {\n",
              "      background-color: #E8F0FE;\n",
              "      border: none;\n",
              "      border-radius: 50%;\n",
              "      cursor: pointer;\n",
              "      display: none;\n",
              "      fill: #1967D2;\n",
              "      height: 32px;\n",
              "      padding: 0 0 0 0;\n",
              "      width: 32px;\n",
              "    }\n",
              "\n",
              "    .colab-df-convert:hover {\n",
              "      background-color: #E2EBFA;\n",
              "      box-shadow: 0px 1px 2px rgba(60, 64, 67, 0.3), 0px 1px 3px 1px rgba(60, 64, 67, 0.15);\n",
              "      fill: #174EA6;\n",
              "    }\n",
              "\n",
              "    [theme=dark] .colab-df-convert {\n",
              "      background-color: #3B4455;\n",
              "      fill: #D2E3FC;\n",
              "    }\n",
              "\n",
              "    [theme=dark] .colab-df-convert:hover {\n",
              "      background-color: #434B5C;\n",
              "      box-shadow: 0px 1px 3px 1px rgba(0, 0, 0, 0.15);\n",
              "      filter: drop-shadow(0px 1px 2px rgba(0, 0, 0, 0.3));\n",
              "      fill: #FFFFFF;\n",
              "    }\n",
              "  </style>\n",
              "\n",
              "      <script>\n",
              "        const buttonEl =\n",
              "          document.querySelector('#df-615e60ef-7db5-49dd-9acb-bdede6977dd8 button.colab-df-convert');\n",
              "        buttonEl.style.display =\n",
              "          google.colab.kernel.accessAllowed ? 'block' : 'none';\n",
              "\n",
              "        async function convertToInteractive(key) {\n",
              "          const element = document.querySelector('#df-615e60ef-7db5-49dd-9acb-bdede6977dd8');\n",
              "          const dataTable =\n",
              "            await google.colab.kernel.invokeFunction('convertToInteractive',\n",
              "                                                     [key], {});\n",
              "          if (!dataTable) return;\n",
              "\n",
              "          const docLinkHtml = 'Like what you see? Visit the ' +\n",
              "            '<a target=\"_blank\" href=https://colab.research.google.com/notebooks/data_table.ipynb>data table notebook</a>'\n",
              "            + ' to learn more about interactive tables.';\n",
              "          element.innerHTML = '';\n",
              "          dataTable['output_type'] = 'display_data';\n",
              "          await google.colab.output.renderOutput(dataTable, element);\n",
              "          const docLink = document.createElement('div');\n",
              "          docLink.innerHTML = docLinkHtml;\n",
              "          element.appendChild(docLink);\n",
              "        }\n",
              "      </script>\n",
              "    </div>\n",
              "  </div>\n",
              "  "
            ]
          },
          "metadata": {},
          "execution_count": 23
        }
      ]
    },
    {
      "cell_type": "markdown",
      "source": [
        "#분석 방향"
      ],
      "metadata": {
        "id": "v4lRWUCyuol4"
      }
    },
    {
      "cell_type": "code",
      "source": [
        "# 1. 분야 별 만료폐기 건과 통과된 건 구분\n",
        "# 2. 심사위원회 별 통과 건\n",
        "# 3. 만료폐기 건 중 동의 수 30000이 넘는 건(다시 청원시도 하면 가능성이 있는 건)\n",
        "\n",
        "# 이방향으로 조금 더 시도해보도록 하겠습니다..!"
      ],
      "metadata": {
        "id": "6rl7XclFGIhi"
      },
      "execution_count": 6,
      "outputs": []
    }
  ]
}